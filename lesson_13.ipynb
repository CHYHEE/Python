{
 "cells": [
  {
   "cell_type": "code",
   "execution_count": 10,
   "id": "5e168312-e63e-4494-96db-a082b68afc2d",
   "metadata": {},
   "outputs": [],
   "source": [
    "mlist = [1, 2, 3, 4]"
   ]
  },
  {
   "cell_type": "code",
   "execution_count": 11,
   "id": "887e06ab-b1ae-4d6c-b6b5-45d7655bc5ea",
   "metadata": {},
   "outputs": [
    {
     "data": {
      "text/plain": [
       "[1, 2, 3, 4]"
      ]
     },
     "execution_count": 11,
     "metadata": {},
     "output_type": "execute_result"
    }
   ],
   "source": [
    "mlist"
   ]
  },
  {
   "cell_type": "code",
   "execution_count": 12,
   "id": "08ce1454-e14e-4164-ade6-b2878fbd2e5b",
   "metadata": {},
   "outputs": [],
   "source": [
    "# 5를 마지막에 추가한다.(Create, add)\n",
    "mlist.append(5)"
   ]
  },
  {
   "cell_type": "code",
   "execution_count": 13,
   "id": "1d13e1db-a76f-4fd0-b40e-2c47e9667beb",
   "metadata": {},
   "outputs": [
    {
     "data": {
      "text/plain": [
       "[1, 2, 3, 4, 5]"
      ]
     },
     "execution_count": 13,
     "metadata": {},
     "output_type": "execute_result"
    }
   ],
   "source": [
    "mlist"
   ]
  },
  {
   "cell_type": "code",
   "execution_count": 14,
   "id": "6d3ae89d-cd6c-4445-9c65-0f8f6cb4cd69",
   "metadata": {},
   "outputs": [
    {
     "name": "stdout",
     "output_type": "stream",
     "text": [
      "2\n"
     ]
    }
   ],
   "source": [
    "# 2번째 요소를 출력한다.(Read)\n",
    "print(mlist[1])"
   ]
  },
  {
   "cell_type": "code",
   "execution_count": 15,
   "id": "5ef2e902-d8c8-4ef1-aa79-6f63f5c76b48",
   "metadata": {},
   "outputs": [
    {
     "name": "stdout",
     "output_type": "stream",
     "text": [
      "1\n",
      "2\n",
      "3\n",
      "4\n",
      "5\n"
     ]
    }
   ],
   "source": [
    "# 모든 요소를 출력한다.(Read all)\n",
    "for ele in mlist:\n",
    "    print(ele)"
   ]
  },
  {
   "cell_type": "code",
   "execution_count": 16,
   "id": "f12605fa-97fa-4755-bae8-06148d88261b",
   "metadata": {},
   "outputs": [],
   "source": [
    "# 5번째 요소를 삭제한다.(delete)\n",
    "del mlist[4]"
   ]
  },
  {
   "cell_type": "code",
   "execution_count": 17,
   "id": "d5f9eb8e-6b57-4a79-864f-0437f15addbb",
   "metadata": {},
   "outputs": [
    {
     "data": {
      "text/plain": [
       "[1, 2, 3, 4]"
      ]
     },
     "execution_count": 17,
     "metadata": {},
     "output_type": "execute_result"
    }
   ],
   "source": [
    "mlist"
   ]
  },
  {
   "cell_type": "code",
   "execution_count": 18,
   "id": "a979527f-77dd-4e1f-b06f-b7c30ff2231d",
   "metadata": {},
   "outputs": [],
   "source": [
    "# 1번째 요소를 10으로 수정한다.(update)\n",
    "mlist[0] = 10"
   ]
  },
  {
   "cell_type": "code",
   "execution_count": 19,
   "id": "daeada6e-0db0-49e2-8341-54596e8e97c8",
   "metadata": {},
   "outputs": [
    {
     "data": {
      "text/plain": [
       "[10, 2, 3, 4]"
      ]
     },
     "execution_count": 19,
     "metadata": {},
     "output_type": "execute_result"
    }
   ],
   "source": [
    "mlist"
   ]
  },
  {
   "cell_type": "code",
   "execution_count": 20,
   "id": "063a015f-2131-4d72-9097-44e507254d41",
   "metadata": {},
   "outputs": [],
   "source": [
    "# dictionary\n",
    "# 'one' key로 1을 저장\n",
    "# 'two' key로 2을 저장\n",
    "# 'three' key로 3을 저장\n",
    "# 'four' key로 4을 저장하는 dict를 생성하시오\n",
    "mdict = {'one':1, 'two':2, 'three':3, 'four':4}"
   ]
  },
  {
   "cell_type": "code",
   "execution_count": 21,
   "id": "e0591559-05df-4820-b91a-4f61ccde6868",
   "metadata": {},
   "outputs": [
    {
     "data": {
      "text/plain": [
       "{'one': 1, 'two': 2, 'three': 3, 'four': 4}"
      ]
     },
     "execution_count": 21,
     "metadata": {},
     "output_type": "execute_result"
    }
   ],
   "source": [
    "mdict"
   ]
  },
  {
   "cell_type": "code",
   "execution_count": 25,
   "id": "910c3fbd-fcb7-4a36-a653-8eb22e0569b0",
   "metadata": {},
   "outputs": [],
   "source": [
    "# 'five'key로 5를 저장하는 코드 작성\n",
    "mdict['five'] = 5"
   ]
  },
  {
   "cell_type": "code",
   "execution_count": 26,
   "id": "818b5b4c-377b-4304-a936-7c9c4e519a4d",
   "metadata": {},
   "outputs": [
    {
     "data": {
      "text/plain": [
       "{'one': 1, 'two': 2, 'three': 3, 'four': 4, 'five': 5}"
      ]
     },
     "execution_count": 26,
     "metadata": {},
     "output_type": "execute_result"
    }
   ],
   "source": [
    "mdict"
   ]
  },
  {
   "cell_type": "code",
   "execution_count": 27,
   "id": "f0af084c-f50b-46cd-82fa-6c7ac72c473b",
   "metadata": {},
   "outputs": [],
   "source": [
    "# key가 'one인 value는\n",
    "mdict['one']"
   ]
  },
  {
   "cell_type": "code",
   "execution_count": 28,
   "id": "ad4edb10-9708-4ae0-a7ff-f9787f1e30c6",
   "metadata": {},
   "outputs": [
    {
     "name": "stdout",
     "output_type": "stream",
     "text": [
      "one 1\n",
      "two 2\n",
      "three 3\n",
      "four 4\n",
      "five 5\n"
     ]
    }
   ],
   "source": [
    "# mdict의 모든 요소 출력(key를 가지고)\n",
    "for key in mdict.keys():\n",
    "    value = mdict[key]\n",
    "    print(key, value)"
   ]
  },
  {
   "cell_type": "code",
   "execution_count": 29,
   "id": "f33f5b80-e21c-4ccf-bd6d-f38991b28dc5",
   "metadata": {},
   "outputs": [
    {
     "name": "stdout",
     "output_type": "stream",
     "text": [
      "one 1\n",
      "two 2\n",
      "three 3\n",
      "four 4\n",
      "five 5\n"
     ]
    }
   ],
   "source": [
    "# mdict의 모든 요소 출력(item(key, value)가지고)\n",
    "for key, value in mdict.items():\n",
    "    print(key, value)"
   ]
  },
  {
   "cell_type": "code",
   "execution_count": 30,
   "id": "6e6cc187-9ae8-464b-a54a-f36cf0750e38",
   "metadata": {},
   "outputs": [
    {
     "data": {
      "text/plain": [
       "5"
      ]
     },
     "execution_count": 30,
     "metadata": {},
     "output_type": "execute_result"
    }
   ],
   "source": [
    "# key가 five인 요소를 삭제하시오\n",
    "# del mdict['five']\n",
    "mdict.pop('five')"
   ]
  },
  {
   "cell_type": "code",
   "execution_count": 31,
   "id": "4b3ff053-e16f-4c7b-bd2d-2d87c3ad3570",
   "metadata": {},
   "outputs": [
    {
     "data": {
      "text/plain": [
       "{'one': 1, 'two': 2, 'three': 3, 'four': 4}"
      ]
     },
     "execution_count": 31,
     "metadata": {},
     "output_type": "execute_result"
    }
   ],
   "source": [
    "mdict"
   ]
  },
  {
   "cell_type": "code",
   "execution_count": 32,
   "id": "2ebd5edc-9359-4f0b-bab7-e7dbe0c61d76",
   "metadata": {},
   "outputs": [],
   "source": [
    "# key가 one인 요소의 값을 10으로 수정하시오\n",
    "# mdict['one'] = 10\n",
    "mdict.update(one=10)"
   ]
  },
  {
   "cell_type": "code",
   "execution_count": 34,
   "id": "8edbe940-ef8d-4050-ab31-1bcf54920196",
   "metadata": {},
   "outputs": [
    {
     "data": {
      "text/plain": [
       "{'one': 10, 'two': 2, 'three': 3, 'four': 4}"
      ]
     },
     "execution_count": 34,
     "metadata": {},
     "output_type": "execute_result"
    }
   ],
   "source": [
    "mdict"
   ]
  },
  {
   "cell_type": "code",
   "execution_count": 35,
   "id": "d03750a5-4c46-4b54-92f5-362e058c448d",
   "metadata": {},
   "outputs": [],
   "source": [
    "# 함수의 구성요소를 서술하시오\n",
    "# 함수이름, 입력변수, 출력변수, 키워드(def, return)\n",
    "def plus(a, b):\n",
    "    # 함수가 처리할 작업내용\n",
    "    return a+b\n",
    "\n",
    "# 함수가 많은 내용을 처리할수록 파라미터 수가 증가하므로 주의해야한다.(기본값, 파라미터 이름 사용등)\n",
    "# 30장에 내용이 있으므로 반드시 익혀둘 것"
   ]
  },
  {
   "cell_type": "code",
   "execution_count": 44,
   "id": "96075448-ec09-4aea-85b0-2a027df35438",
   "metadata": {},
   "outputs": [],
   "source": [
    "from datetime import datetime # 키워드\n",
    "def viewCalendar(year,mon):\n",
    "    #빈칸, 마지막 날 정보를 얻기위해 getMonthInfo함수 사용\n",
    "    space, lastDay = getMonthInfo(year, mon)\n",
    "    print('\\t\\t\\t',year,'년 ',mon,'월')\n",
    "    print('일','월','화','수','목','금','토',sep='\\t',end='\\n')\n",
    "    day = 1\n",
    "    for _ in range(space):\n",
    "        print('\\t',end='')\n",
    "    for _ in range(lastDay):\n",
    "        print(day,end='\\t')\n",
    "        if (space+day)%7==0:\n",
    "            print()\n",
    "        day = day + 1\n",
    "    \n",
    "        pass"
   ]
  },
  {
   "cell_type": "code",
   "execution_count": 45,
   "id": "53bc7410-0e56-4219-a370-279e0bcab3b8",
   "metadata": {},
   "outputs": [
    {
     "name": "stdout",
     "output_type": "stream",
     "text": [
      "\t\t\t 2024 년  7 월\n",
      "일\t월\t화\t수\t목\t금\t토\n",
      "\t1\t2\t3\t4\t5\t6\t\n",
      "7\t8\t9\t10\t11\t12\t13\t\n",
      "14\t15\t16\t17\t18\t19\t20\t\n",
      "21\t22\t23\t24\t25\t26\t27\t\n",
      "28\t29\t30\t31\t"
     ]
    }
   ],
   "source": [
    "viewCalendar(2024, 7)"
   ]
  },
  {
   "cell_type": "code",
   "execution_count": 42,
   "id": "abc72f7a-a5e5-45e8-bc0d-419f8b884263",
   "metadata": {},
   "outputs": [],
   "source": [
    "# 달력 코드를 참고하여 빈칸 정보와 마지막 날 정보를 처리하는 함수를 작성하여 달력코드를 간단하게 수정하시오\n",
    "from datetime import datetime\n",
    "def getMonthInfo(year, mon):\n",
    "    space = 0\n",
    "    lastDay = 0\n",
    "    now = datetime(year,mon,1)\n",
    "    lastDays = [31,28,31,30,31,30,31,31,30,31,30,31]\n",
    "    if mon==2:\n",
    "        if year%400==0 or (year%4==0 and year%100!=0):\n",
    "            lastDays[1] = 29\n",
    "    #요일 정보와 빈칸정보의 비교를 통해서 +1을 하면 빈칸 데이터가 나옴\n",
    "    space = (now.weekday()+1) % 7\n",
    "    #print(space)\n",
    "    lastDay = lastDays[mon-1]\n",
    "    return space, lastDay"
   ]
  },
  {
   "cell_type": "code",
   "execution_count": 43,
   "id": "e1a43bfa-2962-4303-8c0d-7fec021c18c7",
   "metadata": {},
   "outputs": [
    {
     "name": "stdout",
     "output_type": "stream",
     "text": [
      "1 31\n"
     ]
    }
   ],
   "source": [
    "space, lastDay = getMonthInfo(2024, 7)\n",
    "print(space, lastDay)"
   ]
  },
  {
   "cell_type": "code",
   "execution_count": null,
   "id": "2bea58af-52e3-4c1e-a612-803d5bf9dcdb",
   "metadata": {},
   "outputs": [],
   "source": []
  }
 ],
 "metadata": {
  "kernelspec": {
   "display_name": "Python 3 (ipykernel)",
   "language": "python",
   "name": "python3"
  },
  "language_info": {
   "codemirror_mode": {
    "name": "ipython",
    "version": 3
   },
   "file_extension": ".py",
   "mimetype": "text/x-python",
   "name": "python",
   "nbconvert_exporter": "python",
   "pygments_lexer": "ipython3",
   "version": "3.10.11"
  }
 },
 "nbformat": 4,
 "nbformat_minor": 5
}
