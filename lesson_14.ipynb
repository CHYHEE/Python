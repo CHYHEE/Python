{
 "cells": [
  {
   "cell_type": "code",
   "execution_count": 2,
   "id": "832d56d9-e9e6-4da9-a790-05467057d1df",
   "metadata": {},
   "outputs": [
    {
     "ename": "NameError",
     "evalue": "name 'a' is not defined",
     "output_type": "error",
     "traceback": [
      "\u001b[1;31m---------------------------------------------------------------------------\u001b[0m",
      "\u001b[1;31mNameError\u001b[0m                                 Traceback (most recent call last)",
      "Cell \u001b[1;32mIn[2], line 12\u001b[0m\n\u001b[0;32m      9\u001b[0m         \u001b[38;5;28;01mpass\u001b[39;00m\n\u001b[0;32m     10\u001b[0m     \u001b[38;5;28mprint\u001b[39m(a, x)\n\u001b[1;32m---> 12\u001b[0m \u001b[38;5;28mprint\u001b[39m(\u001b[43ma\u001b[49m)\n\u001b[0;32m     13\u001b[0m \u001b[38;5;28;01mdef\u001b[39;00m \u001b[38;5;21mabc\u001b[39m():\n\u001b[0;32m     15\u001b[0m     \u001b[38;5;28;01mpass\u001b[39;00m\n",
      "\u001b[1;31mNameError\u001b[0m: name 'a' is not defined"
     ]
    }
   ],
   "source": [
    "x = 100\n",
    "def test_var():\n",
    "    a = 10\n",
    "    if a == 10:\n",
    "        b = 20\n",
    "        print(a, b)\n",
    "    def other_func():\n",
    "        c = 20\n",
    "        pass\n",
    "    print(a, x)\n",
    "\n",
    "print(a)\n",
    "def abc():\n",
    "\n",
    "    pass"
   ]
  },
  {
   "cell_type": "code",
   "execution_count": null,
   "id": "6963ef55-0469-45f0-8eaa-ccfc3d87a02d",
   "metadata": {},
   "outputs": [],
   "source": [
    "test_var()"
   ]
  },
  {
   "cell_type": "code",
   "execution_count": 3,
   "id": "f75a8591-0589-4a1e-8ac2-f4a63f671730",
   "metadata": {},
   "outputs": [],
   "source": [
    "# 01123581321345589\n",
    "#   123456 7 8 9 10\n",
    "# fibo(3) = fibo(2) + fibo(1)\n",
    "# fibo(2) = fibo(1) + fibo(0)\n",
    "# fibo(1) = 1\n",
    "# fibo(0) = 0\n",
    "# 3번째 피보나치 수는?\n",
    "# 전전수 + 전수 = 피보나치 값"
   ]
  },
  {
   "cell_type": "code",
   "execution_count": 9,
   "id": "e76cb95d-4242-4178-bb41-2fb5212d9143",
   "metadata": {},
   "outputs": [],
   "source": [
    "def fibo(n):\n",
    "    if <= 1:\n",
    "        return n\n",
    "    return fibo(n-1) + fibo(n-2)"
   ]
  },
  {
   "cell_type": "code",
   "execution_count": null,
   "id": "4131a4b1-c3a5-4dc6-9ca8-003315d97cb9",
   "metadata": {},
   "outputs": [],
   "source": [
    "result = fibo(3)\n",
    "print(result)"
   ]
  },
  {
   "cell_type": "code",
   "execution_count": 4,
   "id": "077315eb-4b3a-47ef-95d4-16bd6e29b72d",
   "metadata": {},
   "outputs": [],
   "source": [
    "# 5! = 5X4X3X2X1\n",
    "def factorial(n):\n",
    "    if n == 1:\n",
    "        return 1\n",
    "    return n*factorial(n-1)"
   ]
  },
  {
   "cell_type": "code",
   "execution_count": 7,
   "id": "177657f4-de91-45c6-a25c-51b3c0f1efca",
   "metadata": {},
   "outputs": [
    {
     "data": {
      "text/plain": [
       "120"
      ]
     },
     "execution_count": 7,
     "metadata": {},
     "output_type": "execute_result"
    }
   ],
   "source": [
    "factorial(5)"
   ]
  },
  {
   "cell_type": "code",
   "execution_count": 9,
   "id": "58332605-e758-4c5c-ad9d-2e428cb13c42",
   "metadata": {},
   "outputs": [],
   "source": [
    "class Person:\n",
    "    # 데이터\n",
    "    # 메소드\n",
    "    def _init_(self, gender):\n",
    "        self.gender = gender\n",
    "        pass\n",
    "\n",
    "    def eat(self):\n",
    "        meal = 'kimchi'\n",
    "        print('eat')\n",
    "        pass\n",
    "\n",
    "    def sleep(self):\n",
    "        print('sleep')\n",
    "    pass"
   ]
  },
  {
   "cell_type": "code",
   "execution_count": 5,
   "id": "393415ff-e1bc-4ad0-8b79-ded45c93eb66",
   "metadata": {},
   "outputs": [
    {
     "ename": "NameError",
     "evalue": "name 'kim' is not defined",
     "output_type": "error",
     "traceback": [
      "\u001b[1;31m---------------------------------------------------------------------------\u001b[0m",
      "\u001b[1;31mNameError\u001b[0m                                 Traceback (most recent call last)",
      "Cell \u001b[1;32mIn[5], line 1\u001b[0m\n\u001b[1;32m----> 1\u001b[0m \u001b[43mkim\u001b[49m\u001b[38;5;241m.\u001b[39msleep()\n",
      "\u001b[1;31mNameError\u001b[0m: name 'kim' is not defined"
     ]
    }
   ],
   "source": [
    "kim.sleep()"
   ]
  },
  {
   "cell_type": "code",
   "execution_count": 6,
   "id": "6effe70f-7df4-48d2-8630-827f42623cfe",
   "metadata": {},
   "outputs": [
    {
     "ename": "NameError",
     "evalue": "name 'kim' is not defined",
     "output_type": "error",
     "traceback": [
      "\u001b[1;31m---------------------------------------------------------------------------\u001b[0m",
      "\u001b[1;31mNameError\u001b[0m                                 Traceback (most recent call last)",
      "Cell \u001b[1;32mIn[6], line 1\u001b[0m\n\u001b[1;32m----> 1\u001b[0m \u001b[43mkim\u001b[49m\u001b[38;5;241m.\u001b[39mmeal\n",
      "\u001b[1;31mNameError\u001b[0m: name 'kim' is not defined"
     ]
    }
   ],
   "source": [
    "kim.meal"
   ]
  },
  {
   "cell_type": "code",
   "execution_count": 10,
   "id": "16a2f532-3a7a-4d09-96d7-cdc2aa2aca3e",
   "metadata": {},
   "outputs": [
    {
     "ename": "TypeError",
     "evalue": "Person() takes no arguments",
     "output_type": "error",
     "traceback": [
      "\u001b[1;31m---------------------------------------------------------------------------\u001b[0m",
      "\u001b[1;31mTypeError\u001b[0m                                 Traceback (most recent call last)",
      "Cell \u001b[1;32mIn[10], line 1\u001b[0m\n\u001b[1;32m----> 1\u001b[0m kim \u001b[38;5;241m=\u001b[39m \u001b[43mPerson\u001b[49m\u001b[43m(\u001b[49m\u001b[38;5;124;43m'\u001b[39;49m\u001b[38;5;124;43mmale\u001b[39;49m\u001b[38;5;124;43m'\u001b[39;49m\u001b[43m)\u001b[49m\n",
      "\u001b[1;31mTypeError\u001b[0m: Person() takes no arguments"
     ]
    }
   ],
   "source": [
    "kim = Person('male')"
   ]
  },
  {
   "cell_type": "code",
   "execution_count": 3,
   "id": "c416a542-4af7-4d97-947d-8c744ef87ae1",
   "metadata": {},
   "outputs": [
    {
     "ename": "NameError",
     "evalue": "name 'kim' is not defined",
     "output_type": "error",
     "traceback": [
      "\u001b[1;31m---------------------------------------------------------------------------\u001b[0m",
      "\u001b[1;31mNameError\u001b[0m                                 Traceback (most recent call last)",
      "Cell \u001b[1;32mIn[3], line 1\u001b[0m\n\u001b[1;32m----> 1\u001b[0m \u001b[43mkim\u001b[49m\u001b[38;5;241m.\u001b[39meat()\n",
      "\u001b[1;31mNameError\u001b[0m: name 'kim' is not defined"
     ]
    }
   ],
   "source": [
    "kim.eat()"
   ]
  },
  {
   "cell_type": "code",
   "execution_count": null,
   "id": "daf8a0c2-174a-4d1c-8514-5da48084397a",
   "metadata": {},
   "outputs": [],
   "source": [
    "kim.gender"
   ]
  },
  {
   "cell_type": "code",
   "execution_count": null,
   "id": "9039ea77-8fe1-43e0-9535-aeef34319847",
   "metadata": {},
   "outputs": [],
   "source": [
    "class Person:\n",
    "    # 멤버\n",
    "\n",
    "    pass"
   ]
  }
 ],
 "metadata": {
  "kernelspec": {
   "display_name": "Python 3 (ipykernel)",
   "language": "python",
   "name": "python3"
  },
  "language_info": {
   "codemirror_mode": {
    "name": "ipython",
    "version": 3
   },
   "file_extension": ".py",
   "mimetype": "text/x-python",
   "name": "python",
   "nbconvert_exporter": "python",
   "pygments_lexer": "ipython3",
   "version": "3.10.11"
  }
 },
 "nbformat": 4,
 "nbformat_minor": 5
}
