{
 "cells": [
  {
   "cell_type": "code",
   "execution_count": 2,
   "id": "832d56d9-e9e6-4da9-a790-05467057d1df",
   "metadata": {},
   "outputs": [
    {
     "ename": "NameError",
     "evalue": "name 'a' is not defined",
     "output_type": "error",
     "traceback": [
      "\u001b[1;31m---------------------------------------------------------------------------\u001b[0m",
      "\u001b[1;31mNameError\u001b[0m                                 Traceback (most recent call last)",
      "Cell \u001b[1;32mIn[2], line 12\u001b[0m\n\u001b[0;32m      9\u001b[0m         \u001b[38;5;28;01mpass\u001b[39;00m\n\u001b[0;32m     10\u001b[0m     \u001b[38;5;28mprint\u001b[39m(a, x)\n\u001b[1;32m---> 12\u001b[0m \u001b[38;5;28mprint\u001b[39m(\u001b[43ma\u001b[49m)\n\u001b[0;32m     13\u001b[0m \u001b[38;5;28;01mdef\u001b[39;00m \u001b[38;5;21mabc\u001b[39m():\n\u001b[0;32m     15\u001b[0m     \u001b[38;5;28;01mpass\u001b[39;00m\n",
      "\u001b[1;31mNameError\u001b[0m: name 'a' is not defined"
     ]
    }
   ],
   "source": [
    "x = 100\n",
    "def test_var():\n",
    "    a = 10\n",
    "    if a == 10:\n",
    "        b = 20\n",
    "        print(a, b)\n",
    "    def other_func():\n",
    "        c = 20\n",
    "        pass\n",
    "    print(a, x)\n",
    "\n",
    "print(a)\n",
    "def abc():\n",
    "\n",
    "    pass"
   ]
  },
  {
   "cell_type": "code",
   "execution_count": null,
   "id": "6963ef55-0469-45f0-8eaa-ccfc3d87a02d",
   "metadata": {},
   "outputs": [],
   "source": [
    "test_var()"
   ]
  },
  {
   "cell_type": "code",
   "execution_count": 3,
   "id": "f75a8591-0589-4a1e-8ac2-f4a63f671730",
   "metadata": {},
   "outputs": [],
   "source": [
    "# 01123581321345589\n",
    "#   123456 7 8 9 10"
   ]
  },
  {
   "cell_type": "code",
   "execution_count": 4,
   "id": "bed02a47-dc51-49cd-b6ce-2a43ff04963a",
   "metadata": {},
   "outputs": [],
   "source": [
    "def factorial(n):\n",
    "    if n == 1:\n",
    "        return 1\n",
    "    return n*factorial(n-1)"
   ]
  },
  {
   "cell_type": "code",
   "execution_count": 7,
   "id": "177657f4-de91-45c6-a25c-51b3c0f1efca",
   "metadata": {},
   "outputs": [
    {
     "data": {
      "text/plain": [
       "120"
      ]
     },
     "execution_count": 7,
     "metadata": {},
     "output_type": "execute_result"
    }
   ],
   "source": [
    "factorial(5)"
   ]
  },
  {
   "cell_type": "code",
   "execution_count": null,
   "id": "58332605-e758-4c5c-ad9d-2e428cb13c42",
   "metadata": {},
   "outputs": [],
   "source": []
  }
 ],
 "metadata": {
  "kernelspec": {
   "display_name": "Python 3 (ipykernel)",
   "language": "python",
   "name": "python3"
  },
  "language_info": {
   "codemirror_mode": {
    "name": "ipython",
    "version": 3
   },
   "file_extension": ".py",
   "mimetype": "text/x-python",
   "name": "python",
   "nbconvert_exporter": "python",
   "pygments_lexer": "ipython3",
   "version": "3.10.11"
  }
 },
 "nbformat": 4,
 "nbformat_minor": 5
}
