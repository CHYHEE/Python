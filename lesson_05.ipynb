{
 "cells": [
  {
   "cell_type": "code",
   "execution_count": 19,
   "id": "1f1152cb-2d7d-4ebb-bd65-e07a8260cc32",
   "metadata": {},
   "outputs": [
    {
     "name": "stdout",
     "output_type": "stream",
     "text": [
      "\t\t 2024년 7월\n",
      "일\t월\t화\t수\t목\t금\t토\n",
      "\t1\t2\t3\t4\t5\t6\t\n",
      "7\t8\t9\t10\t11\t12\t13\t\n",
      "14\t15\t16\t17\t18\t19\t20\t\n",
      "21\t22\t23\t24\t25\t26\t27\t\n",
      "28\t29\t30\t31\t32\t"
     ]
    }
   ],
   "source": [
    "#7월 달력을 구현하시오\n",
    "#교수님 코드\n",
    "print('\\t\\t 2024년 7월')\n",
    "print('일', '월', '화', '수', '목', '금','토', sep='\\t', end='\\n')\n",
    "day=1\n",
    "print(end='\\t')\n",
    "for i in range(32):\n",
    "    print(day, end='\\t')\n",
    "    if (day+1)%7==0:\n",
    "        print()\n",
    "    day=day+1"
   ]
  },
  {
   "cell_type": "code",
   "execution_count": 20,
   "id": "e6839855-f907-4702-9a30-90251673df45",
   "metadata": {},
   "outputs": [
    {
     "name": "stdout",
     "output_type": "stream",
     "text": [
      "\t\t2024년 7월\n",
      "\n",
      "일\t월\t화\t수\t목\t금\t토\n",
      "\t1\t2\t3\t4\t5\t6\t\n",
      "\n",
      "7\t8\t9\t10\t11\t12\t13\t\n",
      "\n",
      "14\t15\t16\t17\t18\t19\t20\t\n",
      "\n",
      "21\t22\t23\t24\t25\t26\t27\t\n",
      "\n",
      "28\t29\t30\t31\t"
     ]
    }
   ],
   "source": [
    "#내 코드\n",
    "print('\\t\\t2024년 7월\\n')\n",
    "print('일', '월', '화', '수', '목', '금','토', sep='\\t')\n",
    "print('\\t', end='')\n",
    "for i in range(1, 32):\n",
    "    print(i, end='\\t')\n",
    "    if((i+1)%7==0):\n",
    "        print('\\n')"
   ]
  },
  {
   "cell_type": "code",
   "execution_count": 30,
   "id": "1e267823-77a6-4495-b80f-7c598576869c",
   "metadata": {},
   "outputs": [
    {
     "name": "stdout",
     "output_type": "stream",
     "text": [
      "\n",
      "\n",
      "\t\t2024년 1 월\n",
      "\n",
      "일\t월\t화\t수\t목\t금\t토\n",
      "1\t2\t3\t4\t5\t6\t\n",
      "\n",
      "7\t8\t9\t10\t11\t12\t13\t\n",
      "\n",
      "14\t15\t16\t17\t18\t19\t20\t\n",
      "\n",
      "21\t22\t23\t24\t25\t26\t27\t\n",
      "\n",
      "28\t29\t30\t31\t\n",
      "\n",
      "\t\t2024년 2 월\n",
      "\n",
      "일\t월\t화\t수\t목\t금\t토\n",
      "1\t2\t3\t4\t5\t6\t\n",
      "\n",
      "7\t8\t9\t10\t11\t12\t13\t\n",
      "\n",
      "14\t15\t16\t17\t18\t19\t20\t\n",
      "\n",
      "21\t22\t23\t24\t25\t26\t27\t\n",
      "\n",
      "28\t29\t30\t31\t\n",
      "\n",
      "\t\t2024년 3 월\n",
      "\n",
      "일\t월\t화\t수\t목\t금\t토\n",
      "1\t2\t3\t4\t5\t6\t\n",
      "\n",
      "7\t8\t9\t10\t11\t12\t13\t\n",
      "\n",
      "14\t15\t16\t17\t18\t19\t20\t\n",
      "\n",
      "21\t22\t23\t24\t25\t26\t27\t\n",
      "\n",
      "28\t29\t30\t31\t\n",
      "\n",
      "\t\t2024년 4 월\n",
      "\n",
      "일\t월\t화\t수\t목\t금\t토\n",
      "1\t2\t3\t4\t5\t6\t\n",
      "\n",
      "7\t8\t9\t10\t11\t12\t13\t\n",
      "\n",
      "14\t15\t16\t17\t18\t19\t20\t\n",
      "\n",
      "21\t22\t23\t24\t25\t26\t27\t\n",
      "\n",
      "28\t29\t30\t31\t\n",
      "\n",
      "\t\t2024년 5 월\n",
      "\n",
      "일\t월\t화\t수\t목\t금\t토\n",
      "1\t2\t3\t4\t5\t6\t\n",
      "\n",
      "7\t8\t9\t10\t11\t12\t13\t\n",
      "\n",
      "14\t15\t16\t17\t18\t19\t20\t\n",
      "\n",
      "21\t22\t23\t24\t25\t26\t27\t\n",
      "\n",
      "28\t29\t30\t31\t\n",
      "\n",
      "\t\t2024년 6 월\n",
      "\n",
      "일\t월\t화\t수\t목\t금\t토\n",
      "1\t2\t3\t4\t5\t6\t\n",
      "\n",
      "7\t8\t9\t10\t11\t12\t13\t\n",
      "\n",
      "14\t15\t16\t17\t18\t19\t20\t\n",
      "\n",
      "21\t22\t23\t24\t25\t26\t27\t\n",
      "\n",
      "28\t29\t30\t31\t\n",
      "\n",
      "\t\t2024년 7 월\n",
      "\n",
      "일\t월\t화\t수\t목\t금\t토\n",
      "1\t2\t3\t4\t5\t6\t\n",
      "\n",
      "7\t8\t9\t10\t11\t12\t13\t\n",
      "\n",
      "14\t15\t16\t17\t18\t19\t20\t\n",
      "\n",
      "21\t22\t23\t24\t25\t26\t27\t\n",
      "\n",
      "28\t29\t30\t31\t\n",
      "\n",
      "\t\t2024년 8 월\n",
      "\n",
      "일\t월\t화\t수\t목\t금\t토\n",
      "1\t2\t3\t4\t5\t6\t\n",
      "\n",
      "7\t8\t9\t10\t11\t12\t13\t\n",
      "\n",
      "14\t15\t16\t17\t18\t19\t20\t\n",
      "\n",
      "21\t22\t23\t24\t25\t26\t27\t\n",
      "\n",
      "28\t29\t30\t31\t\n",
      "\n",
      "\t\t2024년 9 월\n",
      "\n",
      "일\t월\t화\t수\t목\t금\t토\n",
      "1\t2\t3\t4\t5\t6\t\n",
      "\n",
      "7\t8\t9\t10\t11\t12\t13\t\n",
      "\n",
      "14\t15\t16\t17\t18\t19\t20\t\n",
      "\n",
      "21\t22\t23\t24\t25\t26\t27\t\n",
      "\n",
      "28\t29\t30\t31\t\n",
      "\n",
      "\t\t2024년 10 월\n",
      "\n",
      "일\t월\t화\t수\t목\t금\t토\n",
      "1\t2\t3\t4\t5\t6\t\n",
      "\n",
      "7\t8\t9\t10\t11\t12\t13\t\n",
      "\n",
      "14\t15\t16\t17\t18\t19\t20\t\n",
      "\n",
      "21\t22\t23\t24\t25\t26\t27\t\n",
      "\n",
      "28\t29\t30\t31\t\n",
      "\n",
      "\t\t2024년 11 월\n",
      "\n",
      "일\t월\t화\t수\t목\t금\t토\n",
      "1\t2\t3\t4\t5\t6\t\n",
      "\n",
      "7\t8\t9\t10\t11\t12\t13\t\n",
      "\n",
      "14\t15\t16\t17\t18\t19\t20\t\n",
      "\n",
      "21\t22\t23\t24\t25\t26\t27\t\n",
      "\n",
      "28\t29\t30\t31\t\n",
      "\n",
      "\t\t2024년 12 월\n",
      "\n",
      "일\t월\t화\t수\t목\t금\t토\n",
      "1\t2\t3\t4\t5\t6\t\n",
      "\n",
      "7\t8\t9\t10\t11\t12\t13\t\n",
      "\n",
      "14\t15\t16\t17\t18\t19\t20\t\n",
      "\n",
      "21\t22\t23\t24\t25\t26\t27\t\n",
      "\n",
      "28\t29\t30\t31\t"
     ]
    }
   ],
   "source": [
    "#내 코드\n",
    "#아래코드 참조하여 월, 빈칸과 마지막 날을 입력 받아 1~12월을 모두 출력할 수 있도록 코드를 수정하시오\n",
    "mon=int(input(\"월을 입력하세요 : \"))\n",
    "space=int(input(\"빈칸의 수를 입력하세요 : \"))\n",
    "lastDay=int(input(\"마지막 날짜를 입력하세요 : \"))\n",
    "\n",
    "print('\\n\\n\\t\\t2024년', mon, '월\\n')\n",
    "print('일', '월', '화', '수', '목', '금', '토', sep='\\t', end='\\n')\n",
    "\n",
    "for mon in range(1, 13):\n",
    "    \n",
    "    for i in range(1, 32):\n",
    "        print(i, end='\\t')\n",
    "        if((i+1)%7==0):\n",
    "            print('\\n')"
   ]
  },
  {
   "cell_type": "code",
   "execution_count": 31,
   "id": "57e135fe-b777-4d1b-a4e3-abbe6586ddbe",
   "metadata": {},
   "outputs": [
    {
     "name": "stdout",
     "output_type": "stream",
     "text": [
      "[0, 1, 2, 3, 4, 5, 6, 7, 8, 9]\n"
     ]
    }
   ],
   "source": [
    "numbers=list(range(0,10,1))\n",
    "print(numbers)"
   ]
  },
  {
   "cell_type": "code",
   "execution_count": 33,
   "id": "5bc350ca-473c-4788-a7c7-6b38273a3a06",
   "metadata": {},
   "outputs": [
    {
     "name": "stdout",
     "output_type": "stream",
     "text": [
      "[0, 2, 4, 6, 8]\n"
     ]
    }
   ],
   "source": [
    "print(numbers[0:9:2])    #간격이 2"
   ]
  },
  {
   "cell_type": "code",
   "execution_count": 34,
   "id": "5f62c4da-5a67-4c2d-9c4a-c43b23d63138",
   "metadata": {},
   "outputs": [
    {
     "name": "stdout",
     "output_type": "stream",
     "text": [
      "Hello\n"
     ]
    }
   ],
   "source": [
    "letters='Hello'\n",
    "print(letters[0:])    #0~마지막까지"
   ]
  },
  {
   "cell_type": "code",
   "execution_count": 35,
   "id": "9b7614df-860e-4ec0-9787-9ea20df9f044",
   "metadata": {},
   "outputs": [
    {
     "name": "stdout",
     "output_type": "stream",
     "text": [
      "Hello\n"
     ]
    }
   ],
   "source": [
    "print(letters[:])    #처음~마지막"
   ]
  },
  {
   "cell_type": "code",
   "execution_count": 36,
   "id": "f1ff2677-45b6-404c-9f18-7e833b421191",
   "metadata": {},
   "outputs": [
    {
     "name": "stdout",
     "output_type": "stream",
     "text": [
      "Hello\n"
     ]
    }
   ],
   "source": [
    "print(letters[::])"
   ]
  },
  {
   "cell_type": "code",
   "execution_count": 37,
   "id": "76ff59f6-fd3f-4aa8-9ee4-0ce6ae9d7625",
   "metadata": {},
   "outputs": [
    {
     "name": "stdout",
     "output_type": "stream",
     "text": [
      "olleH\n"
     ]
    }
   ],
   "source": [
    "print(letters[::-1])    #-1은 뒤에서부터 거꾸로"
   ]
  },
  {
   "cell_type": "code",
   "execution_count": 38,
   "id": "5b22c625-bba7-411f-b0cf-0cbe2790d40d",
   "metadata": {},
   "outputs": [],
   "source": [
    "import random"
   ]
  },
  {
   "cell_type": "code",
   "execution_count": 39,
   "id": "6c7cc877-6aca-4dad-9e82-ea2ceded08ba",
   "metadata": {},
   "outputs": [
    {
     "name": "stdout",
     "output_type": "stream",
     "text": [
      "0.07428469161454587\n"
     ]
    }
   ],
   "source": [
    "print(random.random())   # 0.0<=r<1.0"
   ]
  },
  {
   "cell_type": "code",
   "execution_count": 40,
   "id": "5e120283-5f1a-4c9a-b22b-c915adf78ad3",
   "metadata": {},
   "outputs": [
    {
     "name": "stdout",
     "output_type": "stream",
     "text": [
      "3\n",
      "1\n",
      "2\n",
      "1\n",
      "3\n",
      "1\n",
      "2\n",
      "2\n",
      "2\n",
      "1\n",
      "1\n",
      "2\n",
      "2\n",
      "3\n",
      "3\n",
      "1\n",
      "1\n",
      "3\n",
      "3\n",
      "1\n",
      "1\n",
      "1\n",
      "2\n",
      "2\n",
      "2\n",
      "1\n",
      "1\n",
      "1\n",
      "2\n",
      "3\n",
      "3\n",
      "2\n",
      "2\n",
      "2\n",
      "3\n",
      "2\n",
      "1\n",
      "2\n",
      "1\n",
      "3\n",
      "1\n",
      "1\n",
      "3\n",
      "1\n",
      "1\n",
      "1\n",
      "1\n",
      "2\n",
      "1\n",
      "3\n",
      "3\n",
      "1\n",
      "2\n",
      "3\n",
      "3\n",
      "1\n",
      "3\n",
      "2\n",
      "2\n",
      "1\n",
      "3\n",
      "2\n",
      "3\n",
      "1\n",
      "2\n",
      "1\n",
      "1\n",
      "2\n",
      "3\n",
      "1\n",
      "2\n",
      "2\n",
      "1\n",
      "1\n",
      "2\n",
      "3\n",
      "3\n",
      "3\n",
      "3\n",
      "3\n",
      "1\n",
      "2\n",
      "3\n",
      "2\n",
      "2\n",
      "3\n",
      "3\n",
      "1\n",
      "2\n",
      "2\n",
      "3\n",
      "2\n",
      "2\n",
      "1\n",
      "2\n",
      "3\n",
      "2\n",
      "1\n",
      "2\n",
      "2\n"
     ]
    }
   ],
   "source": [
    "for i in range(100):\n",
    "    print(random.randint(1,3))"
   ]
  },
  {
   "cell_type": "code",
   "execution_count": 42,
   "id": "7a38e282-eaad-4a91-869c-0bc4feff61c5",
   "metadata": {},
   "outputs": [
    {
     "name": "stdout",
     "output_type": "stream",
     "text": [
      "[0, 1, 2, 3, 4]\n"
     ]
    }
   ],
   "source": [
    "number = [0, 1, 2, 3, 4]\n",
    "print(number)"
   ]
  },
  {
   "cell_type": "code",
   "execution_count": 43,
   "id": "6792f3f8-b53f-44a4-9daf-30e4921d8d3d",
   "metadata": {},
   "outputs": [],
   "source": [
    "for i in range(5):\n",
    "    del number[-1]"
   ]
  },
  {
   "cell_type": "code",
   "execution_count": 44,
   "id": "33b691d0-8236-47c2-990f-7e63203b5c0c",
   "metadata": {},
   "outputs": [
    {
     "name": "stdout",
     "output_type": "stream",
     "text": [
      "()\n"
     ]
    }
   ],
   "source": [
    "print(tuple(number))"
   ]
  },
  {
   "cell_type": "code",
   "execution_count": 47,
   "id": "660fdce7-e080-42f7-bc54-f2a935f37184",
   "metadata": {},
   "outputs": [
    {
     "name": "stdout",
     "output_type": "stream",
     "text": [
      "2 X 1 = 2\n",
      "2 X 2 = 4\n",
      "2 X 3 = 6\n",
      "2 X 4 = 8\n",
      "2 X 5 = 10\n",
      "2 X 6 = 12\n",
      "2 X 7 = 14\n",
      "2 X 8 = 16\n",
      "2 X 9 = 18\n",
      "3 X 1 = 3\n",
      "3 X 2 = 6\n",
      "3 X 3 = 9\n",
      "3 X 4 = 12\n",
      "3 X 5 = 15\n",
      "3 X 6 = 18\n",
      "3 X 7 = 21\n",
      "3 X 8 = 24\n",
      "3 X 9 = 27\n",
      "4 X 1 = 4\n",
      "4 X 2 = 8\n",
      "4 X 3 = 12\n",
      "4 X 4 = 16\n",
      "4 X 5 = 20\n",
      "4 X 6 = 24\n",
      "4 X 7 = 28\n",
      "4 X 8 = 32\n",
      "4 X 9 = 36\n",
      "5 X 1 = 5\n",
      "5 X 2 = 10\n",
      "5 X 3 = 15\n",
      "5 X 4 = 20\n",
      "5 X 5 = 25\n",
      "5 X 6 = 30\n",
      "5 X 7 = 35\n",
      "5 X 8 = 40\n",
      "5 X 9 = 45\n",
      "6 X 1 = 6\n",
      "6 X 2 = 12\n",
      "6 X 3 = 18\n",
      "6 X 4 = 24\n",
      "6 X 5 = 30\n",
      "6 X 6 = 36\n",
      "6 X 7 = 42\n",
      "6 X 8 = 48\n",
      "6 X 9 = 54\n",
      "7 X 1 = 7\n",
      "7 X 2 = 14\n",
      "7 X 3 = 21\n",
      "7 X 4 = 28\n",
      "7 X 5 = 35\n",
      "7 X 6 = 42\n",
      "7 X 7 = 49\n",
      "7 X 8 = 56\n",
      "7 X 9 = 63\n",
      "8 X 1 = 8\n",
      "8 X 2 = 16\n",
      "8 X 3 = 24\n",
      "8 X 4 = 32\n",
      "8 X 5 = 40\n",
      "8 X 6 = 48\n",
      "8 X 7 = 56\n",
      "8 X 8 = 64\n",
      "8 X 9 = 72\n",
      "9 X 1 = 9\n",
      "9 X 2 = 18\n",
      "9 X 3 = 27\n",
      "9 X 4 = 36\n",
      "9 X 5 = 45\n",
      "9 X 6 = 54\n",
      "9 X 7 = 63\n",
      "9 X 8 = 72\n",
      "9 X 9 = 81\n"
     ]
    }
   ],
   "source": [
    "# 2~9단까지 구구단 코드를 작성하시오\n",
    "dan=2\n",
    "num=1\n",
    "\n",
    "for dan in range(2, 10):\n",
    "    for num in range(1, 10):\n",
    "        print(dan, 'X', num, '=', dan*num)"
   ]
  },
  {
   "cell_type": "code",
   "execution_count": 51,
   "id": "1b784473-ccb1-412e-827c-b87234b125bb",
   "metadata": {},
   "outputs": [
    {
     "name": "stdout",
     "output_type": "stream",
     "text": [
      "2 X 1 = 2\n",
      "2 X 2 = 4\n",
      "2 X 3 = 6\n",
      "2 X 4 = 8\n",
      "2 X 5 = 10\n",
      "2 X 6 = 12\n",
      "2 X 7 = 14\n",
      "2 X 8 = 16\n",
      "2 X 9 = 18\n",
      "\n",
      "3 X 1 = 3\n",
      "3 X 2 = 6\n",
      "3 X 3 = 9\n",
      "3 X 4 = 12\n",
      "3 X 5 = 15\n",
      "3 X 6 = 18\n",
      "3 X 7 = 21\n",
      "3 X 8 = 24\n",
      "3 X 9 = 27\n",
      "\n",
      "4 X 1 = 4\n",
      "4 X 2 = 8\n",
      "4 X 3 = 12\n",
      "4 X 4 = 16\n",
      "4 X 5 = 20\n",
      "4 X 6 = 24\n",
      "4 X 7 = 28\n",
      "4 X 8 = 32\n",
      "4 X 9 = 36\n",
      "\n",
      "5 X 1 = 5\n",
      "5 X 2 = 10\n",
      "5 X 3 = 15\n",
      "5 X 4 = 20\n",
      "5 X 5 = 25\n",
      "5 X 6 = 30\n",
      "5 X 7 = 35\n",
      "5 X 8 = 40\n",
      "5 X 9 = 45\n",
      "\n",
      "6 X 1 = 6\n",
      "6 X 2 = 12\n",
      "6 X 3 = 18\n",
      "6 X 4 = 24\n",
      "6 X 5 = 30\n",
      "6 X 6 = 36\n",
      "6 X 7 = 42\n",
      "6 X 8 = 48\n",
      "6 X 9 = 54\n",
      "\n"
     ]
    }
   ],
   "source": [
    "dan =2\n",
    "for i in range(8):\n",
    "    number=1\n",
    "    if dan==7:\n",
    "        continue\n",
    "    for i in range(9):\n",
    "        print(dan, 'X', number, '=', number*dan)\n",
    "        number = number + 1\n",
    "        pass\n",
    "    print()\n",
    "    dan = dan + 1"
   ]
  },
  {
   "cell_type": "code",
   "execution_count": 48,
   "id": "a8927bad-a176-41ff-b8bf-5bc7f7dc75ec",
   "metadata": {},
   "outputs": [
    {
     "name": "stdout",
     "output_type": "stream",
     "text": [
      "1\t2\t4\t5\t"
     ]
    }
   ],
   "source": [
    "for i in range(1, 6):\n",
    "    if i==3:\n",
    "        continue\n",
    "    print(i, end='\\t')"
   ]
  },
  {
   "cell_type": "code",
   "execution_count": 49,
   "id": "679c560b-3b4a-4925-94dc-855ab2e767f0",
   "metadata": {},
   "outputs": [
    {
     "name": "stdout",
     "output_type": "stream",
     "text": [
      "1\t2\t"
     ]
    }
   ],
   "source": [
    "for i in range(1,6):\n",
    "    if i==3:\n",
    "        break\n",
    "    print(i, end='\\t')"
   ]
  },
  {
   "cell_type": "code",
   "execution_count": 54,
   "id": "335c6160-3988-4bce-a872-3f0f5dc20859",
   "metadata": {},
   "outputs": [
    {
     "name": "stdout",
     "output_type": "stream",
     "text": [
      "1\n",
      "3\n",
      "5\n",
      "7\n",
      "9\n"
     ]
    }
   ],
   "source": [
    "for i in range(1, 11):\n",
    "    if i % 2 == 0:\n",
    "        continue\n",
    "    print(i)"
   ]
  },
  {
   "cell_type": "code",
   "execution_count": 56,
   "id": "5c4c812a-f6ee-44a8-bd58-1bbf19137bcf",
   "metadata": {},
   "outputs": [
    {
     "name": "stdout",
     "output_type": "stream",
     "text": [
      "2\n",
      "4\n",
      "6\n",
      "8\n",
      "10\n"
     ]
    }
   ],
   "source": [
    "for i in range(1, 11):\n",
    "    if i % 2 != 1:\n",
    "        print(i)"
   ]
  },
  {
   "cell_type": "code",
   "execution_count": 57,
   "id": "60e0fabd-6d52-4532-877b-5d7593753015",
   "metadata": {},
   "outputs": [
    {
     "name": "stdout",
     "output_type": "stream",
     "text": [
      "1  2  3  4  5  6  7  8  9  10  "
     ]
    }
   ],
   "source": [
    "for i in range(1, 11):\n",
    "    print(i, end='  ')"
   ]
  },
  {
   "cell_type": "code",
   "execution_count": 59,
   "id": "43e95d3e-c556-4b4a-a374-ac1e0f57a549",
   "metadata": {},
   "outputs": [
    {
     "name": "stdout",
     "output_type": "stream",
     "text": [
      "1  2  4  5  6  7  8  9  10  11  12  14  15  16  17  18  19  20  "
     ]
    }
   ],
   "source": [
    "for i in range(1, 21):\n",
    "    if i % 10 == 3:\n",
    "        continue\n",
    "    print(i, end='  ')"
   ]
  },
  {
   "cell_type": "code",
   "execution_count": 60,
   "id": "79895874-adca-4ef8-812f-70d44b2701a9",
   "metadata": {},
   "outputs": [
    {
     "name": "stdout",
     "output_type": "stream",
     "text": [
      "21  22  24  25  26  27  28  29  30  31  32  "
     ]
    }
   ],
   "source": [
    "for i in range(21, 34):\n",
    "    if i % 10 == 3:\n",
    "        continue\n",
    "    print(i, end='  ')"
   ]
  },
  {
   "cell_type": "code",
   "execution_count": 104,
   "id": "2ed55fae-4f37-44b5-881c-6c84814304e1",
   "metadata": {},
   "outputs": [
    {
     "name": "stdin",
     "output_type": "stream",
     "text": [
      " 6\n"
     ]
    },
    {
     "name": "stdout",
     "output_type": "stream",
     "text": [
      "     *     \n",
      "    ***    \n",
      "   *****   \n",
      "  *******  \n",
      " ********* \n",
      "***********\n"
     ]
    }
   ],
   "source": [
    "# 산 모양으로 별 출력하기\n",
    "idx=int(input())\n",
    "\n",
    "for i in range(idx):\n",
    "    for j in range(idx*2-1):\n",
    "        basic = idx-1\n",
    "        if (j>=basic-i and j<=basic+i) :\n",
    "            print('*', end='')\n",
    "        else:\n",
    "            print(' ', end='')\n",
    "    print()"
   ]
  },
  {
   "cell_type": "code",
   "execution_count": 105,
   "id": "cbd62817-3799-4407-862c-6074d3b3809a",
   "metadata": {},
   "outputs": [
    {
     "name": "stdout",
     "output_type": "stream",
     "text": [
      "['1, 2, 3, 4, 5']\n"
     ]
    }
   ],
   "source": [
    "data=[]\n",
    "data.append('1, 2, 3, 4, 5')\n",
    "print(data)"
   ]
  },
  {
   "cell_type": "code",
   "execution_count": 106,
   "id": "8beda69f-1dff-4f07-9aac-adac3258cabe",
   "metadata": {},
   "outputs": [
    {
     "name": "stdout",
     "output_type": "stream",
     "text": [
      "['1, 2, 3, 4, 5', '6, 7, 8, 9, 10']\n"
     ]
    }
   ],
   "source": [
    "data.append('6, 7, 8, 9, 10')\n",
    "print(data)"
   ]
  },
  {
   "cell_type": "code",
   "execution_count": 107,
   "id": "4b248aaf-2e9c-4abc-ae56-4e82535603ce",
   "metadata": {},
   "outputs": [
    {
     "name": "stdout",
     "output_type": "stream",
     "text": [
      "['1, 2, 3, 4, 5', '6, 7, 8, 9, 10', '11, 12, 13, 14, 15']\n"
     ]
    }
   ],
   "source": [
    "data.append('11, 12, 13, 14, 15')\n",
    "print(data)"
   ]
  },
  {
   "cell_type": "code",
   "execution_count": 108,
   "id": "d32091c5-666f-4018-a047-afaddc2fd688",
   "metadata": {},
   "outputs": [
    {
     "data": {
      "text/plain": [
       "3"
      ]
     },
     "execution_count": 108,
     "metadata": {},
     "output_type": "execute_result"
    }
   ],
   "source": [
    "len(data)"
   ]
  },
  {
   "cell_type": "code",
   "execution_count": 109,
   "id": "082bb4f6-2912-488b-ac4b-ac81c0f4940a",
   "metadata": {},
   "outputs": [
    {
     "name": "stdout",
     "output_type": "stream",
     "text": [
      "1, 2, 3, 4, 5\n",
      "6, 7, 8, 9, 10\n",
      "11, 12, 13, 14, 15\n"
     ]
    }
   ],
   "source": [
    "for item in data:\n",
    "    print(item)"
   ]
  },
  {
   "cell_type": "code",
   "execution_count": 120,
   "id": "6b733ca9-be1d-4e2c-a062-90a189ddea1f",
   "metadata": {},
   "outputs": [
    {
     "name": "stdout",
     "output_type": "stream",
     "text": [
      "['1', ' 2', ' 3', ' 4', ' 5']\n",
      "['6', ' 7', ' 8', ' 9', ' 10']\n",
      "['11', ' 12', ' 13', ' 14', ' 15']\n",
      "\n",
      "[['1', ' 2', ' 3', ' 4', ' 5'], ['6', ' 7', ' 8', ' 9', ' 10'], ['11', ' 12', ' 13', ' 14', ' 15']]\n"
     ]
    }
   ],
   "source": [
    "matrix=list()\n",
    "for item in data:\n",
    "    temp=item.split(',')\n",
    "    print(temp)\n",
    "    matrix.append(temp)\n",
    "print()\n",
    "print(matrix)"
   ]
  },
  {
   "cell_type": "code",
   "execution_count": 121,
   "id": "a3b82a1e-f371-4c94-8771-0accf6aa2d3e",
   "metadata": {},
   "outputs": [
    {
     "data": {
      "text/plain": [
       "['1', ' 2', ' 3', ' 4', ' 5']"
      ]
     },
     "execution_count": 121,
     "metadata": {},
     "output_type": "execute_result"
    }
   ],
   "source": [
    "matrix[0]"
   ]
  },
  {
   "cell_type": "code",
   "execution_count": 122,
   "id": "ae4416c2-7738-4011-b0df-ced5483ef41d",
   "metadata": {},
   "outputs": [
    {
     "data": {
      "text/plain": [
       "' 5'"
      ]
     },
     "execution_count": 122,
     "metadata": {},
     "output_type": "execute_result"
    }
   ],
   "source": [
    "matrix[0][4]"
   ]
  },
  {
   "cell_type": "code",
   "execution_count": 123,
   "id": "a7d10db3-7993-4c42-a71b-b5168109df18",
   "metadata": {},
   "outputs": [
    {
     "name": "stdout",
     "output_type": "stream",
     "text": [
      "1 2 3 4 5\n",
      "6 7 8 9 10\n",
      "11 12 13 14 15\n"
     ]
    }
   ],
   "source": [
    "for row in matrix:\n",
    "    for column in row:\n",
    "        print(column, end='')\n",
    "        pass\n",
    "    print()"
   ]
  },
  {
   "cell_type": "code",
   "execution_count": 126,
   "id": "04bd3863-fa1f-4b34-b033-7d68a6a611a5",
   "metadata": {},
   "outputs": [
    {
     "name": "stdout",
     "output_type": "stream",
     "text": [
      "235 78.33333333333333\n"
     ]
    }
   ],
   "source": [
    "kim='98, 43, 21'\n",
    "lee='46, 92, 83'\n",
    "park='78, 88, 69'\n",
    "#3명 학생의 총점과 평균을 구하는 코드 작성하시오\n",
    "students=[kim, lee, park]\n",
    "count=1\n",
    "\n",
    "for temp in students:\n",
    "    student=temp.split(',')\n",
    "    total=0\n",
    "    for score in student:\n",
    "        total = total + int(score)\n",
    "\n",
    "avg = total/3\n",
    "print(total, avg)"
   ]
  },
  {
   "cell_type": "code",
   "execution_count": 131,
   "id": "5a1393b7-55bc-4376-a3f5-b52308475665",
   "metadata": {},
   "outputs": [
    {
     "name": "stdout",
     "output_type": "stream",
     "text": [
      "[['98', ' 43', ' 21'], ['46', ' 92', ' 83'], ['78', ' 88', ' 69']]\n"
     ]
    }
   ],
   "source": [
    "kim='98, 43, 21'\n",
    "lee='46, 92, 83'\n",
    "park='78, 88, 69'\n",
    "temps=[kim, lee, park]\n",
    "students=[]\n",
    "\n",
    "for value in temps:\n",
    "    students.append(value.split(','))\n",
    "\n",
    "print(students)"
   ]
  },
  {
   "cell_type": "code",
   "execution_count": 132,
   "id": "aaaefedd-8831-4b7d-9d99-c2ca46811f32",
   "metadata": {},
   "outputs": [
    {
     "name": "stdout",
     "output_type": "stream",
     "text": [
      "[[98, 43, 21], [46, 92, 83], [78, 88, 69]]\n"
     ]
    }
   ],
   "source": [
    "kim='98, 43, 21'\n",
    "lee='46, 92, 83'\n",
    "park='78, 88, 69'\n",
    "temps=[kim, lee, park]\n",
    "students=[]\n",
    "\n",
    "for value in temps:\n",
    "    intVal=[]\n",
    "    for val in value.split(','):\n",
    "        intVal.append(int(val))\n",
    "    students.append(intVal)\n",
    "\n",
    "print(students)"
   ]
  },
  {
   "cell_type": "code",
   "execution_count": null,
   "id": "5e6de783-e7d8-407b-aee2-934c56c1a1a1",
   "metadata": {},
   "outputs": [],
   "source": []
  }
 ],
 "metadata": {
  "kernelspec": {
   "display_name": "Python 3 (ipykernel)",
   "language": "python",
   "name": "python3"
  },
  "language_info": {
   "codemirror_mode": {
    "name": "ipython",
    "version": 3
   },
   "file_extension": ".py",
   "mimetype": "text/x-python",
   "name": "python",
   "nbconvert_exporter": "python",
   "pygments_lexer": "ipython3",
   "version": "3.10.11"
  }
 },
 "nbformat": 4,
 "nbformat_minor": 5
}
