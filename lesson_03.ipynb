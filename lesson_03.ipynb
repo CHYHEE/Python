{
 "cells": [
  {
   "cell_type": "code",
   "execution_count": 35,
   "id": "23c0913d-a99c-4806-8a73-7fb576628fb3",
   "metadata": {},
   "outputs": [
    {
     "name": "stdin",
     "output_type": "stream",
     "text": [
      " 1\n",
      " 2\n",
      " 3\n"
     ]
    },
    {
     "name": "stdout",
     "output_type": "stream",
     "text": [
      "6\n"
     ]
    }
   ],
   "source": [
    "# 1번\n",
    "# 세 수를 세 번으로 나누어 키보드로부터 입력 받아 합계와 평균을 출력하는 코드 작성\n",
    "a=int(input())\n",
    "b=int(input())\n",
    "c=int(input())\n",
    "\n",
    "print(a+b+c)"
   ]
  },
  {
   "cell_type": "code",
   "execution_count": 17,
   "id": "74734c31-3e5c-4382-a7bc-d87547ae2e54",
   "metadata": {},
   "outputs": [
    {
     "name": "stdin",
     "output_type": "stream",
     "text": [
      " 1 2 3\n"
     ]
    },
    {
     "name": "stdout",
     "output_type": "stream",
     "text": [
      "2\n"
     ]
    }
   ],
   "source": [
    "# 2번\n",
    "# 세 수를 한 번에 키보드로부터 입력 받아 합계와 평균을 출력하는 코드 작성\n",
    "a,b,c=map(int, input().split())\n",
    "print((a+b+c)//3)"
   ]
  },
  {
   "cell_type": "code",
   "execution_count": 1,
   "id": "c11c41b0-acf5-4a94-a879-7b0cfc32d07c",
   "metadata": {},
   "outputs": [
    {
     "name": "stdin",
     "output_type": "stream",
     "text": [
      " 1.0 2.0 3.0\n"
     ]
    },
    {
     "name": "stdout",
     "output_type": "stream",
     "text": [
      "6.0\n",
      "2.0\n"
     ]
    }
   ],
   "source": [
    "# 3번\n",
    "# 평균과 합계는 실수로 나타낸다.\n",
    "a,b,c=map(float, input().split())\n",
    "\n",
    "print(float(a+b+c))\n",
    "print(float((a+b+c)/3))"
   ]
  },
  {
   "cell_type": "code",
   "execution_count": 41,
   "id": "b57a2af7-924b-4999-8b3a-94bcfdc827da",
   "metadata": {},
   "outputs": [
    {
     "name": "stdout",
     "output_type": "stream",
     "text": [
      "1\n",
      "2\n",
      "3\n"
     ]
    }
   ],
   "source": [
    "print(1, 2, 3, sep='\\n')"
   ]
  },
  {
   "cell_type": "code",
   "execution_count": 42,
   "id": "e000b5c5-5d2a-480e-b93c-45c6a19505c9",
   "metadata": {},
   "outputs": [
    {
     "name": "stdout",
     "output_type": "stream",
     "text": [
      "1\\2\\3\n"
     ]
    }
   ],
   "source": [
    "print(1,2,3, sep='\\\\')   #1\\2\\3"
   ]
  },
  {
   "cell_type": "code",
   "execution_count": 50,
   "id": "854e7639-8a8c-4df3-9e02-5865ca76ab8d",
   "metadata": {},
   "outputs": [
    {
     "name": "stdout",
     "output_type": "stream",
     "text": [
      "1\t2-"
     ]
    }
   ],
   "source": [
    "print(1, end='\\t')\n",
    "print(2, end='-')"
   ]
  },
  {
   "cell_type": "code",
   "execution_count": 53,
   "id": "d70b6d2f-7b6a-46c9-b7b1-b1796e706192",
   "metadata": {},
   "outputs": [
    {
     "name": "stdout",
     "output_type": "stream",
     "text": [
      "2000/10/27 11:43:59\n"
     ]
    }
   ],
   "source": [
    "year=2000\n",
    "month=10\n",
    "day=27\n",
    "hour=11\n",
    "minute=43\n",
    "second=59\n",
    "\n",
    "print(year, month, day, sep='/', end=' ')\n",
    "print(hour, minute, second, sep=':')"
   ]
  },
  {
   "cell_type": "code",
   "execution_count": 54,
   "id": "187abc92-c6bc-4da7-980d-6ee25aca0253",
   "metadata": {},
   "outputs": [
    {
     "name": "stdin",
     "output_type": "stream",
     "text": [
      " 1999 12 31 10 37 21\n"
     ]
    },
    {
     "name": "stdout",
     "output_type": "stream",
     "text": [
      "1999-12-31T10:37:21\n"
     ]
    }
   ],
   "source": [
    "year, month, day, hour, minute, second =input().split()\n",
    "\n",
    "print(year, month, day, sep='-', end='T')\n",
    "print(hour, minute, second, sep=':')"
   ]
  },
  {
   "cell_type": "code",
   "execution_count": 58,
   "id": "5ea42e43-bd2d-4a24-9d7f-ebb9995d2451",
   "metadata": {},
   "outputs": [
    {
     "name": "stdout",
     "output_type": "stream",
     "text": [
      "일\t월\t화\t수\t목\t금\t토\n",
      "1\t2\t3\t4\t5\t6\t7\n",
      "8\t9\t10\t11\t12\t13\t14\n",
      "15\t16\t17\t18\t19\t20\t21\n",
      "22\t23\t24\t25\t26\t27\t28\n",
      "29\t30\t31\n"
     ]
    }
   ],
   "source": [
    "print('일', '월', '화', '수', '목', '금','토', sep='\\t')\n",
    "print(1, 2, 3, 4, 5, 6, 7, sep='\\t')\n",
    "print(8, 9, 10, 11, 12, 13, 14, sep='\\t')\n",
    "print(15, 16, 17, 18, 19, 20, 21, sep='\\t')\n",
    "print(22, 23, 24, 25, 26, 27, 28, sep='\\t')\n",
    "print(29, 30, 31, sep='\\t')"
   ]
  },
  {
   "cell_type": "code",
   "execution_count": 63,
   "id": "9ab7659e-1b9c-4989-b7a1-2611e0babc62",
   "metadata": {},
   "outputs": [
    {
     "name": "stdout",
     "output_type": "stream",
     "text": [
      "False\n"
     ]
    }
   ],
   "source": [
    "korean=92\n",
    "english=47\n",
    "math=86\n",
    "science=81\n",
    "\n",
    "print(korean > 50 and english > 50 and math > 50 and science > 50)"
   ]
  },
  {
   "cell_type": "code",
   "execution_count": 66,
   "id": "a10577c0-a5ca-4269-bfed-3a636abd0034",
   "metadata": {},
   "outputs": [
    {
     "name": "stdin",
     "output_type": "stream",
     "text": [
      " 90 80 85 80\n"
     ]
    },
    {
     "name": "stdout",
     "output_type": "stream",
     "text": [
      "False\n"
     ]
    }
   ],
   "source": [
    "korean, english, math, science=map(int,input().split())\n",
    "print(korean >= 90 and english > 80 and math > 85 and science >= 80)"
   ]
  },
  {
   "cell_type": "code",
   "execution_count": 69,
   "id": "b92f4343-6572-441f-8974-0dccf5a0ca8d",
   "metadata": {},
   "outputs": [],
   "source": [
    "a=10\n",
    "b=20"
   ]
  },
  {
   "cell_type": "code",
   "execution_count": 67,
   "id": "19c5b0a4-f341-4692-aa18-bc07a2d6d943",
   "metadata": {},
   "outputs": [
    {
     "name": "stdout",
     "output_type": "stream",
     "text": [
      "a\n"
     ]
    }
   ],
   "source": [
    "if a!=b:\n",
    "    print('a')\n",
    "else:\n",
    "    print('b')"
   ]
  },
  {
   "cell_type": "code",
   "execution_count": 70,
   "id": "8902224c-b874-4f30-ac03-89f5f662abf6",
   "metadata": {},
   "outputs": [
    {
     "name": "stdout",
     "output_type": "stream",
     "text": [
      "F\n"
     ]
    }
   ],
   "source": [
    "if a>90:\n",
    "    print('A')\n",
    "elif a>80:\n",
    "    print('B')\n",
    "elif a>70:\n",
    "    print('C')\n",
    "elif a>=60:\n",
    "    print('D')\n",
    "else:\n",
    "    print('F')"
   ]
  },
  {
   "cell_type": "code",
   "execution_count": 71,
   "id": "fa9408f7-c0af-4d81-9181-be339a2580b4",
   "metadata": {},
   "outputs": [
    {
     "name": "stdout",
     "output_type": "stream",
     "text": [
      "0 Hello\n",
      "1 Hello\n",
      "2 Hello\n",
      "3 Hello\n",
      "4 Hello\n",
      "5 Hello\n",
      "6 Hello\n",
      "7 Hello\n",
      "8 Hello\n",
      "9 Hello\n"
     ]
    }
   ],
   "source": [
    "for i in range(10):\n",
    "    print(i, 'Hello')"
   ]
  },
  {
   "cell_type": "code",
   "execution_count": 79,
   "id": "43fa32fd-716f-4e55-9808-02548e876ada",
   "metadata": {},
   "outputs": [
    {
     "name": "stdout",
     "output_type": "stream",
     "text": [
      "1\n",
      "2\n",
      "3\n",
      "4\n",
      "5\n",
      "6\n",
      "7\n",
      "8\n",
      "9\n",
      "10\n"
     ]
    }
   ],
   "source": [
    "number = 1\n",
    "for _ in range(1, 11):\n",
    "    print(number)\n",
    "    number = number + 1"
   ]
  },
  {
   "cell_type": "code",
   "execution_count": 80,
   "id": "a871125e-5779-45a0-878e-eb8c3613149e",
   "metadata": {},
   "outputs": [
    {
     "name": "stdout",
     "output_type": "stream",
     "text": [
      "1\n",
      "2\n",
      "3\n",
      "4\n",
      "5\n",
      "6\n",
      "7\n",
      "8\n",
      "9\n",
      "10\n"
     ]
    }
   ],
   "source": [
    "for i in range(1, 11):\n",
    "    print(i)"
   ]
  },
  {
   "cell_type": "code",
   "execution_count": 85,
   "id": "333e62cb-af79-4b76-a0aa-1dc55afb34c1",
   "metadata": {},
   "outputs": [
    {
     "name": "stdout",
     "output_type": "stream",
     "text": [
      "2 X 1 = 2\n",
      "2 X 2 = 4\n",
      "2 X 3 = 6\n",
      "2 X 4 = 8\n",
      "2 X 5 = 10\n",
      "2 X 6 = 12\n",
      "2 X 7 = 14\n",
      "2 X 8 = 16\n",
      "2 X 9 = 18\n"
     ]
    }
   ],
   "source": [
    "number=1\n",
    "for _ in range(9):\n",
    "    print('2 X', number, '=', 2*number)\n",
    "    number=number+1"
   ]
  },
  {
   "cell_type": "code",
   "execution_count": 104,
   "id": "0a280973-1a6d-443b-88c3-486eda0a29c3",
   "metadata": {},
   "outputs": [
    {
     "name": "stdout",
     "output_type": "stream",
     "text": [
      "일\t월\t화\t수\t목\t금\t토\n",
      "1\t2\t3\t4\t5\t6\t7\t\n",
      "\n",
      "8\t9\t10\t11\t12\t13\t14\t\n",
      "\n",
      "15\t16\t17\t18\t19\t20\t21\t\n",
      "\n",
      "22\t23\t24\t25\t26\t27\t28\t\n",
      "\n",
      "29\t30\t31\t"
     ]
    }
   ],
   "source": [
    "print('일', '월', '화', '수', '목', '금','토', sep='\\t')\n",
    "\n",
    "for i in range(1, 32):\n",
    "    print(i, end='\\t')\n",
    "    if(i%7 == 0):\n",
    "        print('\\n')"
   ]
  },
  {
   "cell_type": "code",
   "execution_count": null,
   "id": "890e8483-03b9-4870-879e-48c81f205205",
   "metadata": {},
   "outputs": [],
   "source": []
  }
 ],
 "metadata": {
  "kernelspec": {
   "display_name": "Python 3 (ipykernel)",
   "language": "python",
   "name": "python3"
  },
  "language_info": {
   "codemirror_mode": {
    "name": "ipython",
    "version": 3
   },
   "file_extension": ".py",
   "mimetype": "text/x-python",
   "name": "python",
   "nbconvert_exporter": "python",
   "pygments_lexer": "ipython3",
   "version": "3.10.11"
  }
 },
 "nbformat": 4,
 "nbformat_minor": 5
}
