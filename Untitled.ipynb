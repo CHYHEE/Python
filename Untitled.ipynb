{
 "cells": [
  {
   "cell_type": "code",
   "execution_count": 1,
   "id": "ddd8de25-56d0-48ae-b712-c8360a6dc598",
   "metadata": {},
   "outputs": [],
   "source": [
    "# data 폴더에 Abc1115.csv를 읽어서 2차원 리스트에 저장하는 코드 작성하시오\n",
    "# 저장될 때 각 데이터의 타입은 문제에서 주어진 대로 하시오\n",
    "# 1. 파일에서 모든 라인을 가져온다.\n",
    "# 2. 한 줄을 가져온다.\n",
    "# 3. 가져온 한 줄을 분리한다.\n",
    "# 4. 분리된 데이터를 타입에 맞추어 분리한다.\n",
    "# 5. 분리한 데이터를 리스트에 저장한다.\n",
    "# 6. 리스트를 리스트에 저장한다.\n",
    "# 7. 가지고 있는 줄(1000) 만큼 반복한다."
   ]
  },
  {
   "cell_type": "code",
   "execution_count": 2,
   "id": "690c3f0b-3735-467e-9d2e-8f48cf6f1ffd",
   "metadata": {},
   "outputs": [
    {
     "name": "stdout",
     "output_type": "stream",
     "text": [
      "1000\n"
     ]
    }
   ],
   "source": [
    "with open('.\\data\\Abc1115.csv', 'r') as file:\n",
    "    lines = file.readlines()\n",
    "\n",
    "print(len(lines))"
   ]
  },
  {
   "cell_type": "code",
   "execution_count": 3,
   "id": "65581b93-6df0-41f3-b548-409dc4d162aa",
   "metadata": {},
   "outputs": [
    {
     "data": {
      "text/plain": [
       "['990001,addx, 17, 29, 16, 49, 43,154,C,A,C\\n']"
      ]
     },
     "execution_count": 3,
     "metadata": {},
     "output_type": "execute_result"
    }
   ],
   "source": [
    "lines[0:1]"
   ]
  },
  {
   "cell_type": "code",
   "execution_count": 7,
   "id": "e532d74a-80ed-4159-a3eb-b974b2edcda5",
   "metadata": {},
   "outputs": [
    {
     "name": "stdout",
     "output_type": "stream",
     "text": [
      "['990001', 'addx', ' 17', ' 29', ' 16', ' 49', ' 43', '154', 'C', 'A', 'C']\n"
     ]
    }
   ],
   "source": [
    "for temp in lines[0:1]:\n",
    "    print(temp[:-1].split(','))"
   ]
  },
  {
   "cell_type": "code",
   "execution_count": 10,
   "id": "26627e6a-f436-4ef4-a83c-99d22db60836",
   "metadata": {},
   "outputs": [
    {
     "name": "stdout",
     "output_type": "stream",
     "text": [
      "9\n",
      "\n",
      "9\n",
      "\n",
      "0\n",
      "\n",
      "0\n",
      "\n",
      "0\n",
      "\n",
      "1\n",
      "\n"
     ]
    },
    {
     "ename": "ValueError",
     "evalue": "invalid literal for int() with base 10: ','",
     "output_type": "error",
     "traceback": [
      "\u001b[1;31m---------------------------------------------------------------------------\u001b[0m",
      "\u001b[1;31mValueError\u001b[0m                                Traceback (most recent call last)",
      "Cell \u001b[1;32mIn[10], line 2\u001b[0m\n\u001b[0;32m      1\u001b[0m \u001b[38;5;28;01mfor\u001b[39;00m i \u001b[38;5;129;01min\u001b[39;00m temp:\n\u001b[1;32m----> 2\u001b[0m     \u001b[38;5;28mprint\u001b[39m(\u001b[38;5;28;43mint\u001b[39;49m\u001b[43m(\u001b[49m\u001b[43mi\u001b[49m\u001b[43m[\u001b[49m\u001b[38;5;241;43m0\u001b[39;49m\u001b[43m:\u001b[49m\u001b[38;5;241;43m6\u001b[39;49m\u001b[43m]\u001b[49m\u001b[43m)\u001b[49m)\n\u001b[0;32m      3\u001b[0m     \u001b[38;5;28mprint\u001b[39m(i[\u001b[38;5;241m6\u001b[39m:\u001b[38;5;241m10\u001b[39m])\n",
      "\u001b[1;31mValueError\u001b[0m: invalid literal for int() with base 10: ','"
     ]
    }
   ],
   "source": [
    "for i in temp:\n",
    "    print(int(i[0:6]))\n",
    "    print(i[6:10])"
   ]
  },
  {
   "cell_type": "code",
   "execution_count": null,
   "id": "509691ef-ce73-4476-8e18-63e30552aa69",
   "metadata": {},
   "outputs": [],
   "source": []
  }
 ],
 "metadata": {
  "kernelspec": {
   "display_name": "Python 3 (ipykernel)",
   "language": "python",
   "name": "python3"
  },
  "language_info": {
   "codemirror_mode": {
    "name": "ipython",
    "version": 3
   },
   "file_extension": ".py",
   "mimetype": "text/x-python",
   "name": "python",
   "nbconvert_exporter": "python",
   "pygments_lexer": "ipython3",
   "version": "3.10.11"
  }
 },
 "nbformat": 4,
 "nbformat_minor": 5
}
