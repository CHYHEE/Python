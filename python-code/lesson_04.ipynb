{
 "cells": [
  {
   "cell_type": "code",
   "execution_count": 50,
   "id": "8c967d03-a372-4a86-bb18-2a1725fce561",
   "metadata": {},
   "outputs": [
    {
     "name": "stdout",
     "output_type": "stream",
     "text": [
      "\t\t2024년 9월\n",
      "\n",
      "일\t월\t화\t수\t목\t금\t토\n",
      "1\t2\t3\t4\t5\t6\t7\t\n",
      "\n",
      "8\t9\t10\t11\t12\t13\t14\t\n",
      "\n",
      "15\t16\t17\t18\t19\t20\t21\t\n",
      "\n",
      "22\t23\t24\t25\t26\t27\t28\t\n",
      "\n",
      "29\t30\t"
     ]
    }
   ],
   "source": [
    "#2024년 9월 달력을 아래와 같이 출력되도록 코드를 작성하시오\n",
    "print('\\t\\t2024년 9월\\n')\n",
    "print('일', '월', '화', '수', '목', '금','토', sep='\\t')\n",
    "for i in range(1, 31):\n",
    "    print(i, end='\\t')\n",
    "    if(i%7==0):\n",
    "        print('\\n')"
   ]
  },
  {
   "cell_type": "code",
   "execution_count": 24,
   "id": "81b6edf2-0609-4138-b816-2f3de49c6c62",
   "metadata": {},
   "outputs": [
    {
     "name": "stdout",
     "output_type": "stream",
     "text": [
      "2 X 1 = 2\n",
      "2 X 2 = 4\n",
      "2 X 3 = 6\n",
      "2 X 4 = 8\n",
      "2 X 5 = 10\n",
      "2 X 6 = 12\n",
      "2 X 7 = 14\n",
      "2 X 8 = 16\n",
      "2 X 9 = 18\n",
      "2 X 1 = 2\n",
      "2 X 2 = 4\n",
      "2 X 3 = 6\n",
      "2 X 4 = 8\n",
      "2 X 5 = 10\n",
      "2 X 6 = 12\n",
      "2 X 7 = 14\n",
      "2 X 8 = 16\n",
      "2 X 9 = 18\n",
      "2 X 1 = 2\n",
      "2 X 2 = 4\n",
      "2 X 3 = 6\n",
      "2 X 4 = 8\n",
      "2 X 5 = 10\n",
      "2 X 6 = 12\n",
      "2 X 7 = 14\n",
      "2 X 8 = 16\n",
      "2 X 9 = 18\n",
      "2 X 1 = 2\n",
      "2 X 2 = 4\n",
      "2 X 3 = 6\n",
      "2 X 4 = 8\n",
      "2 X 5 = 10\n",
      "2 X 6 = 12\n",
      "2 X 7 = 14\n",
      "2 X 8 = 16\n",
      "2 X 9 = 18\n",
      "2 X 1 = 2\n",
      "2 X 2 = 4\n",
      "2 X 3 = 6\n",
      "2 X 4 = 8\n",
      "2 X 5 = 10\n",
      "2 X 6 = 12\n",
      "2 X 7 = 14\n",
      "2 X 8 = 16\n",
      "2 X 9 = 18\n",
      "2 X 1 = 2\n",
      "2 X 2 = 4\n",
      "2 X 3 = 6\n",
      "2 X 4 = 8\n",
      "2 X 5 = 10\n",
      "2 X 6 = 12\n",
      "2 X 7 = 14\n",
      "2 X 8 = 16\n",
      "2 X 9 = 18\n",
      "2 X 1 = 2\n",
      "2 X 2 = 4\n",
      "2 X 3 = 6\n",
      "2 X 4 = 8\n",
      "2 X 5 = 10\n",
      "2 X 6 = 12\n",
      "2 X 7 = 14\n",
      "2 X 8 = 16\n",
      "2 X 9 = 18\n",
      "2 X 1 = 2\n",
      "2 X 2 = 4\n",
      "2 X 3 = 6\n",
      "2 X 4 = 8\n",
      "2 X 5 = 10\n",
      "2 X 6 = 12\n",
      "2 X 7 = 14\n",
      "2 X 8 = 16\n",
      "2 X 9 = 18\n"
     ]
    }
   ],
   "source": [
    "dan=2\n",
    "for i in range(8):\n",
    "    number=1\n",
    "    for i in range(9):\n",
    "        print(dan, \"X\", number, '=', number*2)\n",
    "        number=number+1\n",
    "    dan=dan+1"
   ]
  },
  {
   "cell_type": "code",
   "execution_count": 25,
   "id": "809753c1-156d-4cbd-8e1c-781bec46e457",
   "metadata": {},
   "outputs": [
    {
     "name": "stdout",
     "output_type": "stream",
     "text": [
      "Hello"
     ]
    }
   ],
   "source": [
    "for letter in 'Hello':\n",
    "    print(letter, end='')"
   ]
  },
  {
   "cell_type": "code",
   "execution_count": 35,
   "id": "d44491ef-098e-4489-a423-93ea5b27129e",
   "metadata": {},
   "outputs": [
    {
     "name": "stdout",
     "output_type": "stream",
     "text": [
      "15\n"
     ]
    }
   ],
   "source": [
    "total=0\n",
    "for i in number:\n",
    "    total=total+int(i)\n",
    "print(total)"
   ]
  },
  {
   "cell_type": "code",
   "execution_count": 36,
   "id": "953724bc-f7c0-4424-8d50-3633da3b3113",
   "metadata": {},
   "outputs": [
    {
     "name": "stdout",
     "output_type": "stream",
     "text": [
      "['H', 'e', 'l', 'l', 'o']\n"
     ]
    }
   ],
   "source": [
    "a=list('Hello')\n",
    "print(a)"
   ]
  },
  {
   "cell_type": "code",
   "execution_count": 37,
   "id": "e798570b-f712-4646-8eb7-c3c0a7c86410",
   "metadata": {},
   "outputs": [
    {
     "name": "stdout",
     "output_type": "stream",
     "text": [
      "range(0, 100)\n",
      "[0, 1, 2, 3, 4, 5, 6, 7, 8, 9]\n"
     ]
    }
   ],
   "source": [
    "print(range(100))\n",
    "b=list(range(10))\n",
    "print(b)"
   ]
  },
  {
   "cell_type": "code",
   "execution_count": 38,
   "id": "30edcbf5-e005-44e9-a52e-4b34fb8289a1",
   "metadata": {},
   "outputs": [
    {
     "name": "stdout",
     "output_type": "stream",
     "text": [
      "e\n",
      "5\n",
      "11\n"
     ]
    }
   ],
   "source": [
    "a=list('Hello')\n",
    "#Hello\n",
    "#01234\n",
    "print(a[1])\n",
    "print(len(a))\n",
    "print(len('Hello World'))"
   ]
  },
  {
   "cell_type": "code",
   "execution_count": 39,
   "id": "65e83181-b558-4377-adff-219923de56c0",
   "metadata": {},
   "outputs": [],
   "source": [
    "a=list(range(10))"
   ]
  },
  {
   "cell_type": "code",
   "execution_count": 40,
   "id": "7d150c16-afd1-4258-a2fe-a72f106c2cf4",
   "metadata": {},
   "outputs": [],
   "source": [
    "for i in a:\n",
    "    if i==30:\n",
    "        print(i)"
   ]
  },
  {
   "cell_type": "code",
   "execution_count": 42,
   "id": "7a4ec8f8-4095-48c9-a07e-44249a3e86f9",
   "metadata": {},
   "outputs": [
    {
     "data": {
      "text/plain": [
       "False"
      ]
     },
     "execution_count": 42,
     "metadata": {},
     "output_type": "execute_result"
    }
   ],
   "source": [
    "0 not in a"
   ]
  },
  {
   "cell_type": "code",
   "execution_count": 49,
   "id": "8f94e2c8-4a5a-49f1-a52f-6b5f0522307f",
   "metadata": {},
   "outputs": [
    {
     "name": "stdout",
     "output_type": "stream",
     "text": [
      "5 1234\n"
     ]
    }
   ],
   "source": [
    "#number의 수를 하나씩 분리하면 1, 2, 3, 4, 5\n",
    "\n",
    "#분리된 수를 합하여서 출력하는 코드를 작성하시오.\n",
    "#우선 5를 분리한다.\n",
    "total=0\n",
    "number=12345\n",
    "\n",
    "for i in range(5):\n",
    "    splitNumber=number % 10\n",
    "    number=number//10\n",
    "    print(splitNumber, number)\n",
    "    total=total+splitNumber\n",
    "\n",
    "print(total)"
   ]
  },
  {
   "cell_type": "code",
   "execution_count": 70,
   "id": "5e8021a5-5d79-42cb-8e9e-4c7ab19d7640",
   "metadata": {},
   "outputs": [
    {
     "name": "stdout",
     "output_type": "stream",
     "text": [
      "\t\t2024년 6월\n",
      "\n",
      "일\t월\t화\t수\t목\t금\t토\n",
      "\t\t\t\t\t\t1\t\n",
      "\n",
      "2\t3\t4\t5\t6\t7\t8\t\n",
      "\n",
      "9\t10\t11\t12\t13\t14\t15\t\n",
      "\n",
      "16\t17\t18\t19\t20\t21\t22\t\n",
      "\n",
      "23\t24\t25\t26\t27\t28\t29\t\n",
      "\n",
      "30\t"
     ]
    }
   ],
   "source": [
    "# 내 코드\n",
    "#2024년 6월 달력을 출력하는 코드를 작성하시오\n",
    "#2024년 9월 달력을 만드는 코드를 수정하여서 작성하시오\n",
    "print('\\t\\t2024년 6월\\n')\n",
    "print('일', '월', '화', '수', '목', '금','토', sep='\\t')\n",
    "print('\\t\\t\\t\\t\\t\\t', end='')\n",
    "for i in range(1, 31):\n",
    "    print(i, end='\\t')\n",
    "    if((i-1)%7==0):       #if(i%7==1)\n",
    "        print('\\n')\n",
    "\n"
   ]
  },
  {
   "cell_type": "code",
   "execution_count": 73,
   "id": "dadd9507-1086-4f6b-94b5-eda2839e6e52",
   "metadata": {},
   "outputs": [
    {
     "name": "stdin",
     "output_type": "stream",
     "text": [
      "월을 입력하세요>>> 6\n",
      "빈칸의 수를 입력하세요>>> 6\n",
      "마지막 날짜를 입력하세요>>> 30\n"
     ]
    },
    {
     "name": "stdout",
     "output_type": "stream",
     "text": [
      "\t\t2024년 6 월\n",
      "일\t월\t화\t수\t목\t금\t토\n",
      "\t\t\t\t\t\t1\t\n",
      "2\t3\t4\t5\t6\t7\t8\t\n",
      "9\t10\t11\t12\t13\t14\t15\t\n",
      "16\t17\t18\t19\t20\t21\t22\t\n",
      "23\t24\t25\t26\t27\t28\t29\t\n",
      "30\t"
     ]
    }
   ],
   "source": [
    "# 교수님 코드\n",
    "mon=int(input('월을 입력하세요>>>'))\n",
    "space=int(input('빈칸의 수를 입력하세요>>>'))\n",
    "lastDay=int(input('마지막 날짜를 입력하세요>>>'))\n",
    "\n",
    "print('\\t\\t2024년', mon, '월')\n",
    "print('일', '월', '화', '수', '목', '금','토', sep='\\t')\n",
    "\n",
    "day=1\n",
    "for i in range(space):\n",
    "    print('\\t', end='')\n",
    "for i in range(lastDay):\n",
    "    print(day, end='\\t')\n",
    "    if (space+day)%7==0:\n",
    "        print()\n",
    "    day=day+1"
   ]
  },
  {
   "cell_type": "code",
   "execution_count": 75,
   "id": "bb0c005e-bc25-4af4-8c1a-f60ce89edd95",
   "metadata": {},
   "outputs": [
    {
     "name": "stdin",
     "output_type": "stream",
     "text": [
      "월을 입력하세요>>> 8\n"
     ]
    },
    {
     "name": "stdout",
     "output_type": "stream",
     "text": [
      "\t\t2024년 8 월\n",
      "일\t월\t화\t수\t목\t금\t토\n",
      "\t\t\t\t1\t2\t3\t\n",
      "4\t5\t6\t7\t8\t9\t10\t\n",
      "11\t12\t13\t14\t15\t16\t17\t\n",
      "18\t19\t20\t21\t22\t23\t24\t\n",
      "25\t26\t27\t28\t29\t30\t31\t\n"
     ]
    }
   ],
   "source": [
    "# 교수님 코드\n",
    "mon=int(input('월을 입력하세요>>>'))\n",
    "spaces=[1, 4, 5, 1, 3, 6, 1, 4, 0, 2, 5, 0]\n",
    "lastDays=[31, 28, 31, 30, 31, 30, 31, 31, 30, 31, 30, 31]\n",
    "space=spaces[mon-1]\n",
    "lastDay=lastDays[mon-1]\n",
    "\n",
    "print('\\t\\t2024년', mon, '월')\n",
    "print('일', '월', '화', '수', '목', '금','토', sep='\\t')\n",
    "\n",
    "day=1\n",
    "for i in range(space):\n",
    "    print('\\t', end='')\n",
    "for i in range(lastDay):\n",
    "    print(day, end='\\t')\n",
    "    if (space+day)%7==0:\n",
    "        print()\n",
    "    day=day+1"
   ]
  },
  {
   "cell_type": "code",
   "execution_count": 79,
   "id": "71183635-1150-4948-8ad1-1871b0d9d1e1",
   "metadata": {},
   "outputs": [
    {
     "name": "stdin",
     "output_type": "stream",
     "text": [
      "월을 입력하세요>>> 2\n"
     ]
    },
    {
     "name": "stdout",
     "output_type": "stream",
     "text": [
      "\t\t2024년 2 월\n",
      "일\t월\t화\t수\t목\t금\t토\n",
      "\t\t\t\t1\t2\t3\t\n",
      "4\t5\t6\t7\t8\t9\t10\t\n",
      "11\t12\t13\t14\t15\t16\t17\t\n",
      "18\t19\t20\t21\t22\t23\t24\t\n",
      "25\t26\t27\t28\t29\t"
     ]
    }
   ],
   "source": [
    "# 교수님 코드\n",
    "mon=int(input('월을 입력하세요>>>'))\n",
    "year=2024\n",
    "febDay=28\n",
    "# 400나누어 떨어지거나\n",
    "# 4로 나누어 떨어지고 100으로 나누어 떨어지지 않아야 한다.\n",
    "lastDays=[31, febDay, 31, 30, 31, 30, 31, 31, 30, 31, 30, 31]\n",
    "if mon==2:\n",
    "    if year%400==0 or (year%4==0 and year%100!=0):\n",
    "        lastDays[1]=29\n",
    "        \n",
    "spaces=[1, 4, 5, 1, 3, 6, 1, 4, 0, 2, 5, 0]\n",
    "space=spaces[mon-1]\n",
    "lastDay=lastDays[mon-1]\n",
    "\n",
    "print('\\t\\t2024년', mon, '월')\n",
    "print('일', '월', '화', '수', '목', '금','토', sep='\\t')\n",
    "\n",
    "day=1\n",
    "for i in range(space):\n",
    "    print('\\t', end='')\n",
    "for i in range(lastDay):\n",
    "    print(day, end='\\t')\n",
    "    if (space+day)%7==0:\n",
    "        print()\n",
    "    day=day+1"
   ]
  },
  {
   "cell_type": "code",
   "execution_count": 80,
   "id": "e5f45f82-11ad-43ce-803c-fe3aa27e2d7e",
   "metadata": {},
   "outputs": [
    {
     "name": "stdout",
     "output_type": "stream",
     "text": [
      "5 1234\n",
      "4 123\n",
      "3 12\n",
      "2 1\n",
      "1 0\n",
      "15\n"
     ]
    }
   ],
   "source": [
    "total=0\n",
    "number=12345\n",
    "while True:\n",
    "    splitNumber=number%10\n",
    "    number=number//10\n",
    "    print(splitNumber, number)\n",
    "    total=total+splitNumber\n",
    "    if number==0:\n",
    "        break\n",
    "print(total)"
   ]
  },
  {
   "cell_type": "code",
   "execution_count": 81,
   "id": "c932b7b8-c0b9-4355-9321-c8f2b0280fdd",
   "metadata": {},
   "outputs": [
    {
     "name": "stdout",
     "output_type": "stream",
     "text": [
      "0 0\n",
      "15\n"
     ]
    }
   ],
   "source": [
    "isStop=False\n",
    "while not isStop:\n",
    "    splitNumber=number%10\n",
    "    number=number//10\n",
    "    print(splitNumber, number)\n",
    "    total=total+splitNumber\n",
    "    if number==0:\n",
    "        isStop=True\n",
    "\n",
    "print(total)"
   ]
  },
  {
   "cell_type": "code",
   "execution_count": null,
   "id": "428e0fcb-df13-4dbc-a0b7-e445ed740710",
   "metadata": {},
   "outputs": [],
   "source": []
  }
 ],
 "metadata": {
  "kernelspec": {
   "display_name": "Python 3 (ipykernel)",
   "language": "python",
   "name": "python3"
  },
  "language_info": {
   "codemirror_mode": {
    "name": "ipython",
    "version": 3
   },
   "file_extension": ".py",
   "mimetype": "text/x-python",
   "name": "python",
   "nbconvert_exporter": "python",
   "pygments_lexer": "ipython3",
   "version": "3.10.11"
  }
 },
 "nbformat": 4,
 "nbformat_minor": 5
}
