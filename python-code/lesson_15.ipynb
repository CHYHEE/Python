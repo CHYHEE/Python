{
 "cells": [
  {
   "cell_type": "code",
   "execution_count": 2,
   "id": "edd370f3-203b-498e-9ba8-ed665e5cc58c",
   "metadata": {},
   "outputs": [
    {
     "name": "stdout",
     "output_type": "stream",
     "text": [
      "542.2 210.3 38\n",
      "베기\n"
     ]
    }
   ],
   "source": [
    "class Knight:\n",
    "    def __init__(self, health, mana, armor):\n",
    "        self.health = health\n",
    "        self.mana = mana\n",
    "        self.armor = armor\n",
    "\n",
    "    def slash(self):\n",
    "        print('베기')\n",
    "\n",
    "x = Knight(health=542.2, mana=210.3, armor=38)\n",
    "print(x.health, x.mana, x.armor)\n",
    "x.slash()"
   ]
  },
  {
   "cell_type": "code",
   "execution_count": 7,
   "id": "ee8e2271-2492-4ea5-819e-dd0f43569ebf",
   "metadata": {},
   "outputs": [
    {
     "name": "stdin",
     "output_type": "stream",
     "text": [
      " 1803.68 1184.0 645\n"
     ]
    },
    {
     "name": "stdout",
     "output_type": "stream",
     "text": [
      "티버: 피해량 819.25\n"
     ]
    }
   ],
   "source": [
    "# p.446\n",
    "class Annie:\n",
    "    def __init__(self, health, mana, ability_power):\n",
    "        self.health = health\n",
    "        self.mana = mana\n",
    "        self.ability_power = ability_power\n",
    "\n",
    "    def tibbers(self):\n",
    "        print('티버: 피해량', self.ability_power * 0.65 + 400)\n",
    "\n",
    "health, mana, ability_power = map(float, input().split())\n",
    "\n",
    "x = Annie(health=health, mana=mana, ability_power=ability_power)\n",
    "x.tibbers()"
   ]
  },
  {
   "cell_type": "code",
   "execution_count": null,
   "id": "1a0d9452-e0ac-400c-b00c-68c913cadf95",
   "metadata": {},
   "outputs": [],
   "source": [
    "# p.479\n"
   ]
  }
 ],
 "metadata": {
  "kernelspec": {
   "display_name": "Python 3 (ipykernel)",
   "language": "python",
   "name": "python3"
  },
  "language_info": {
   "codemirror_mode": {
    "name": "ipython",
    "version": 3
   },
   "file_extension": ".py",
   "mimetype": "text/x-python",
   "name": "python",
   "nbconvert_exporter": "python",
   "pygments_lexer": "ipython3",
   "version": "3.10.11"
  }
 },
 "nbformat": 4,
 "nbformat_minor": 5
}
