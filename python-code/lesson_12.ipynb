{
 "cells": [
  {
   "cell_type": "code",
   "execution_count": 1,
   "id": "de76fb17-be0d-49eb-857a-a3b847b283ca",
   "metadata": {},
   "outputs": [],
   "source": [
    "#두수를 입력받아서 합한 결과를 리턴하는 함수 작성하시오.\n",
    "def plus(a,b):\n",
    "    c = a + b\n",
    "    return c\n",
    "\n",
    "#두수를 입력받아서 합한 결과를 출력하는 함수 작성하시오.\n",
    "def hap(a,b):\n",
    "    c = a + b\n",
    "    print(c)\n",
    "#이차원 리스트를 입력받아 지역코드가 B 인 자료에 대하여 (국어점수 + 영어점수) 중 \n",
    "#가장 큰값을 출력하되,만약 동일 값 발생시는 한번만 출력하시오.(20점)\n",
    "#함수명 solve1 인 함수를 작성하시오 (로직 비워둔다)\n",
    "\n",
    "def solve1(data):\n",
    "    answer = 0\n",
    "    \n",
    "    return answer\n",
    "    "
   ]
  },
  {
   "cell_type": "code",
   "execution_count": 2,
   "id": "209c2ae0-82d5-4c99-811b-d9525e75e80a",
   "metadata": {},
   "outputs": [
    {
     "name": "stdout",
     "output_type": "stream",
     "text": [
      "30\n",
      "30\n",
      "0\n"
     ]
    }
   ],
   "source": [
    "#plus 호출하시오(사용)\n",
    "result = plus(10,20)\n",
    "print(result)\n",
    "#hap 호출하시오(사용)\n",
    "hap(10,20)\n",
    "ans1 = solve1([])\n",
    "print(ans1)"
   ]
  },
  {
   "cell_type": "code",
   "execution_count": 3,
   "id": "7a675b03-f03b-432f-a4ce-3859b039afb0",
   "metadata": {},
   "outputs": [
    {
     "data": {
      "text/plain": [
       "<function __main__.<lambda>(x)>"
      ]
     },
     "execution_count": 3,
     "metadata": {},
     "output_type": "execute_result"
    }
   ],
   "source": [
    "lambda x : x + 10"
   ]
  },
  {
   "cell_type": "code",
   "execution_count": 4,
   "id": "e2f54ada-4cd8-4ab2-9e17-e5c7c27655ce",
   "metadata": {},
   "outputs": [],
   "source": [
    "def plus_ten(x):\n",
    "    return x+10"
   ]
  },
  {
   "cell_type": "code",
   "execution_count": 5,
   "id": "3defe2e8-66b2-47a3-9bd9-62f1e5734cd4",
   "metadata": {},
   "outputs": [
    {
     "name": "stdout",
     "output_type": "stream",
     "text": [
      "<map object at 0x00000140C10CB010>\n"
     ]
    }
   ],
   "source": [
    "print(map(plus_ten, [1, 2, 3]))"
   ]
  },
  {
   "cell_type": "code",
   "execution_count": 6,
   "id": "b20c738d-7f0b-4e4e-aecc-05a8964e5eb9",
   "metadata": {},
   "outputs": [
    {
     "name": "stdout",
     "output_type": "stream",
     "text": [
      "[11, 12, 13]\n"
     ]
    }
   ],
   "source": [
    "print(list(map(lambda x : x + 10, [1, 2, 3])))"
   ]
  },
  {
   "cell_type": "code",
   "execution_count": 7,
   "id": "1c48a024-d849-42c1-8962-7f0e1197bd90",
   "metadata": {},
   "outputs": [
    {
     "ename": "NameError",
     "evalue": "name 'a' is not defined",
     "output_type": "error",
     "traceback": [
      "\u001b[1;31m---------------------------------------------------------------------------\u001b[0m",
      "\u001b[1;31mNameError\u001b[0m                                 Traceback (most recent call last)",
      "Cell \u001b[1;32mIn[7], line 1\u001b[0m\n\u001b[1;32m----> 1\u001b[0m \u001b[38;5;28mmap\u001b[39m(\u001b[38;5;28;01mlambda\u001b[39;00m x : \u001b[38;5;28mstr\u001b[39m(x) \u001b[38;5;28;01mif\u001b[39;00m x\u001b[38;5;241m%\u001b[39m\u001b[38;5;241m3\u001b[39m\u001b[38;5;241m==\u001b[39m\u001b[38;5;241m0\u001b[39m \u001b[38;5;28;01melse\u001b[39;00m x, \u001b[43ma\u001b[49m)\n",
      "\u001b[1;31mNameError\u001b[0m: name 'a' is not defined"
     ]
    }
   ],
   "source": [
    "map(lambda x : str(x) if x%3==0 else x, a)"
   ]
  },
  {
   "cell_type": "code",
   "execution_count": 9,
   "id": "72c590c7-5e84-4c01-92b1-f711379e05f5",
   "metadata": {},
   "outputs": [],
   "source": [
    "def factorial(n):\n",
    "    if n == 1:\n",
    "        return 1\n",
    "    # 5!=5X4X3X2X1\n",
    "    return n*factorial(n-1)"
   ]
  },
  {
   "cell_type": "code",
   "execution_count": 10,
   "id": "252d0dde-0d32-4db7-b115-6a67ff2896ac",
   "metadata": {},
   "outputs": [
    {
     "name": "stdout",
     "output_type": "stream",
     "text": [
      "10\n",
      "20\n",
      "30\n",
      "40\n"
     ]
    }
   ],
   "source": [
    "x = {'a':10, 'b':20, 'c':30, 'd':40}\n",
    "for key in x:\n",
    "    print(x[key])"
   ]
  },
  {
   "cell_type": "code",
   "execution_count": 11,
   "id": "97f84fca-0d12-4e32-8557-23388b251123",
   "metadata": {},
   "outputs": [
    {
     "name": "stdout",
     "output_type": "stream",
     "text": [
      "a 10\n",
      "b 20\n",
      "c 30\n",
      "d 40\n"
     ]
    }
   ],
   "source": [
    "for key, value in x.items():\n",
    "    print(key, value)"
   ]
  },
  {
   "cell_type": "code",
   "execution_count": 12,
   "id": "4b04ec0a-f29e-40f6-b60a-ae7d5f3507d0",
   "metadata": {},
   "outputs": [],
   "source": [
    "x['e'] = 50"
   ]
  },
  {
   "cell_type": "code",
   "execution_count": 13,
   "id": "b2e1f9cb-43b0-494d-99af-70e75f297f8a",
   "metadata": {},
   "outputs": [
    {
     "name": "stdout",
     "output_type": "stream",
     "text": [
      "{'a': 10, 'b': 20, 'c': 30, 'd': 40, 'e': 50}\n"
     ]
    }
   ],
   "source": [
    "print(x)"
   ]
  },
  {
   "cell_type": "code",
   "execution_count": 14,
   "id": "5b9c5b72-36f8-4399-8259-b587bc8463f5",
   "metadata": {},
   "outputs": [],
   "source": [
    "x = {key:value for key, value in x.items() if value != 20}"
   ]
  },
  {
   "cell_type": "code",
   "execution_count": 15,
   "id": "81685f82-6e30-474e-ba25-ca511bd3eca2",
   "metadata": {},
   "outputs": [
    {
     "name": "stdout",
     "output_type": "stream",
     "text": [
      "{'a': 10, 'c': 30, 'd': 40, 'e': 50}\n"
     ]
    }
   ],
   "source": [
    "print(x)"
   ]
  },
  {
   "cell_type": "code",
   "execution_count": 8,
   "id": "30f9e8bc-ddeb-4082-997f-439d2555db88",
   "metadata": {},
   "outputs": [],
   "source": [
    "def collect_data(name,major,addr='daejeon',age=30):\n",
    "\n",
    "    pass"
   ]
  },
  {
   "cell_type": "code",
   "execution_count": 9,
   "id": "3110e378-368c-4925-825d-1bfb53f0a72d",
   "metadata": {},
   "outputs": [],
   "source": [
    "def makeDataFromFile(fileDir,fileName):\n",
    "    students = []\n",
    "    with open(fileDir+'\\\\'+fileName,'r') as file:\n",
    "        #1-1. 파일안의 컨텐츠에 연결하여 모든 라인을 가져온다.\n",
    "        lines = file.readlines()\n",
    "    for line in lines:\n",
    "        student = []\n",
    "        # 3.가져온 한줄을 분리한다.(콤마로 분리)\n",
    "        temp = line[:-1].split(',')\n",
    "        # 4.분리된 데이터를 타입에 맞추어 분리한다\n",
    "        stdNo = int(temp[0])\n",
    "        student.append(stdNo)\n",
    "        student.append(temp[1])\n",
    "        for ele in temp[2:8]:\n",
    "            val = int(ele)\n",
    "            student.append(val)\n",
    "        # 5.분리한 데이터를 리스트에 저장한다.\n",
    "        for ele in temp[8:]:\n",
    "            student.append(ele)\n",
    "        # 6.리스트를 리스트에 저장한다.\n",
    "        students.append(student)\n",
    "    return students"
   ]
  },
  {
   "cell_type": "code",
   "execution_count": 10,
   "id": "1fb3c315-77af-46b8-81c4-045837082cfb",
   "metadata": {},
   "outputs": [
    {
     "name": "stdout",
     "output_type": "stream",
     "text": [
      "1000\n",
      "[990001, 'addx', 17, 29, 16, 49, 43, 154, 'C', 'A', 'C']\n",
      "[990002, 'stch', 30, 9, 48, 25, 81, 193, 'C', 'A', 'A']\n",
      "[990003, 'gali', 93, 60, 6, 84, 36, 279, 'A', 'C', 'A']\n",
      "[990004, 'miat', 73, 22, 48, 24, 72, 239, 'B', 'C', 'C']\n",
      "[990005, 'oran', 33, 38, 59, 58, 28, 216, 'C', 'B', 'A']\n",
      "[990006, 'sj24', 27, 65, 54, 77, 33, 256, 'B', 'A', 'A']\n",
      "[990007, 'kor2', 33, 85, 98, 60, 66, 342, 'A', 'B', 'A']\n",
      "[990008, 'vsky', 41, 5, 99, 14, 67, 226, 'C', 'A', 'C']\n",
      "[990009, 'kimd', 74, 4, 1, 33, 53, 165, 'B', 'C', 'A']\n",
      "[990010, 'blue', 55, 84, 50, 89, 37, 315, 'A', 'B', 'A']\n"
     ]
    }
   ],
   "source": [
    "students = makeDataFromFile('.\\data','Abc1115.csv')\n",
    "print(len(students))\n",
    "for student in students[:10]:\n",
    "    print(student)"
   ]
  },
  {
   "cell_type": "code",
   "execution_count": 11,
   "id": "10c2cef3-425e-4d43-9e89-db12e537198d",
   "metadata": {},
   "outputs": [],
   "source": [
    "students.sort(key=lambda x : [-x[7],x[0]])"
   ]
  },
  {
   "cell_type": "code",
   "execution_count": 12,
   "id": "b75b3200-eb86-4f63-b6cf-fd4b287665fc",
   "metadata": {},
   "outputs": [
    {
     "name": "stdout",
     "output_type": "stream",
     "text": [
      "[990364, 'ywjs', 88, 81, 100, 84, 81, 434, 'B', 'C', 'A']\n",
      "[990051, 'soor', 94, 98, 85, 64, 75, 416, 'A', 'B', 'A']\n",
      "[990422, 'itkz', 93, 97, 74, 69, 80, 413, 'C', 'B', 'B']\n",
      "[990039, 'huff', 52, 99, 97, 87, 72, 407, 'A', 'C', 'A']\n",
      "[990659, 'pete', 100, 98, 77, 44, 85, 404, 'B', 'C', 'C']\n",
      "[990753, 'firs', 82, 58, 93, 86, 83, 402, 'A', 'C', 'B']\n",
      "[990865, 'hysu', 54, 96, 96, 55, 95, 396, 'C', 'A', 'A']\n",
      "[990710, 'kleo', 85, 87, 49, 76, 98, 395, 'B', 'C', 'B']\n",
      "[990014, 'oldn', 83, 89, 67, 67, 87, 393, 'B', 'C', 'A']\n",
      "[990440, 'gino', 59, 67, 91, 81, 95, 393, 'A', 'B', 'A']\n"
     ]
    }
   ],
   "source": [
    "for student in students[:10]:\n",
    "    print(student)"
   ]
  },
  {
   "cell_type": "code",
   "execution_count": null,
   "id": "e0177ee3-b09e-4796-b1d2-e7f511366e1b",
   "metadata": {},
   "outputs": [],
   "source": []
  }
 ],
 "metadata": {
  "kernelspec": {
   "display_name": "Python 3 (ipykernel)",
   "language": "python",
   "name": "python3"
  },
  "language_info": {
   "codemirror_mode": {
    "name": "ipython",
    "version": 3
   },
   "file_extension": ".py",
   "mimetype": "text/x-python",
   "name": "python",
   "nbconvert_exporter": "python",
   "pygments_lexer": "ipython3",
   "version": "3.10.11"
  }
 },
 "nbformat": 4,
 "nbformat_minor": 5
}
