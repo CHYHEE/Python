{
 "cells": [
  {
   "cell_type": "code",
   "execution_count": 4,
   "id": "99b62c13-489a-40e1-a639-f00023bc239b",
   "metadata": {},
   "outputs": [],
   "source": [
    "def makeDataFromFile(directory, fileName):\n",
    "    students = []    # 파일에 있는 데이터를 저장하는 2차원 리스트\n",
    "    \n",
    "    return students"
   ]
  },
  {
   "cell_type": "code",
   "execution_count": 5,
   "id": "b22130f0-edb4-4585-a495-45107ceec987",
   "metadata": {},
   "outputs": [],
   "source": [
    "def solveQuiz1(data):\n",
    "    answer = None\n",
    "    return answer"
   ]
  },
  {
   "cell_type": "code",
   "execution_count": 6,
   "id": "a41f33e7-57f0-4704-b254-64e62f3845b8",
   "metadata": {},
   "outputs": [],
   "source": [
    "def solveQuiz2(data):\n",
    "    answer = None\n",
    "    return answer"
   ]
  },
  {
   "cell_type": "code",
   "execution_count": 7,
   "id": "0fc75c00-3cf0-4321-ac43-0127243581b0",
   "metadata": {},
   "outputs": [],
   "source": [
    "def solveQuiz3(data):\n",
    "    answer = None\n",
    "    return answer"
   ]
  },
  {
   "cell_type": "code",
   "execution_count": 8,
   "id": "1224bcdd-3b3b-4033-bb3f-1e1e375a6cf1",
   "metadata": {},
   "outputs": [],
   "source": [
    "def solveQuiz4(data):\n",
    "    answer = None\n",
    "    return answer"
   ]
  },
  {
   "cell_type": "code",
   "execution_count": 9,
   "id": "618cfb76-69a7-431c-af4e-e0a023e3d31b",
   "metadata": {},
   "outputs": [],
   "source": [
    "def marking(quizNo, answer):\n",
    "\n",
    "    pass"
   ]
  },
  {
   "cell_type": "code",
   "execution_count": 10,
   "id": "48f5f749-ba18-4c12-9428-beddf68d3f04",
   "metadata": {},
   "outputs": [],
   "source": [
    "# 실행함수\n",
    "def goToTestCenter():\n",
    "    data = makeDataFromFile('','')\n",
    "    answer = solveQuiz(data)\n",
    "    marking(1, answer)\n",
    "    answer = solveQuiz2(data)\n",
    "    marking(2, answer)\n",
    "    answer = solveQuiz3(data)\n",
    "    marking(3, answer)\n",
    "    answer = solveQuiz4(data)\n",
    "    marking(4, answer)\n",
    "    pass"
   ]
  },
  {
   "cell_type": "code",
   "execution_count": null,
   "id": "a677cec1-971e-4d27-95e8-8a29d217a4f1",
   "metadata": {},
   "outputs": [],
   "source": []
  }
 ],
 "metadata": {
  "kernelspec": {
   "display_name": "Python 3 (ipykernel)",
   "language": "python",
   "name": "python3"
  },
  "language_info": {
   "codemirror_mode": {
    "name": "ipython",
    "version": 3
   },
   "file_extension": ".py",
   "mimetype": "text/x-python",
   "name": "python",
   "nbconvert_exporter": "python",
   "pygments_lexer": "ipython3",
   "version": "3.10.11"
  }
 },
 "nbformat": 4,
 "nbformat_minor": 5
}
