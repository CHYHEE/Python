{
 "cells": [
  {
   "cell_type": "code",
   "execution_count": 1,
   "id": "69c33218-1917-4934-ab5f-d17ad9c84bf5",
   "metadata": {},
   "outputs": [],
   "source": [
    "a = [10, 20, 30, 15, 20, 40]"
   ]
  },
  {
   "cell_type": "code",
   "execution_count": 8,
   "id": "a7f57803-cf00-4f3b-abcf-efa4981628d2",
   "metadata": {},
   "outputs": [],
   "source": [
    "a.sort(reverse=True)"
   ]
  },
  {
   "cell_type": "code",
   "execution_count": 9,
   "id": "c85a51e9-b923-4075-9bec-2912973eb1c0",
   "metadata": {},
   "outputs": [
    {
     "name": "stdout",
     "output_type": "stream",
     "text": [
      "[40, 30, 20, 20, 15, 10]\n"
     ]
    }
   ],
   "source": [
    "print(a)"
   ]
  },
  {
   "cell_type": "code",
   "execution_count": 11,
   "id": "7107e7e5-8078-4ce1-83ae-193a4ccb7acd",
   "metadata": {},
   "outputs": [],
   "source": [
    "b = [3, 1, 9, 5]"
   ]
  },
  {
   "cell_type": "code",
   "execution_count": 14,
   "id": "1b719309-488a-486b-9d40-c8081d37b6c0",
   "metadata": {},
   "outputs": [],
   "source": [
    "result = sorted(b)"
   ]
  },
  {
   "cell_type": "code",
   "execution_count": 16,
   "id": "265b4c46-badb-414d-88b2-c37061cba4aa",
   "metadata": {},
   "outputs": [
    {
     "name": "stdout",
     "output_type": "stream",
     "text": [
      "[1, 3, 5, 9]\n"
     ]
    }
   ],
   "source": [
    "print(result)"
   ]
  },
  {
   "cell_type": "code",
   "execution_count": 3,
   "id": "f839342b-4836-4bb6-ace7-62c6d7899783",
   "metadata": {},
   "outputs": [
    {
     "data": {
      "text/plain": [
       "2"
      ]
     },
     "execution_count": 3,
     "metadata": {},
     "output_type": "execute_result"
    }
   ],
   "source": [
    "a.count(20)"
   ]
  },
  {
   "cell_type": "code",
   "execution_count": 4,
   "id": "00b3e1af-222e-49fa-8b99-e5dc8e8414a7",
   "metadata": {},
   "outputs": [
    {
     "data": {
      "text/plain": [
       "5"
      ]
     },
     "execution_count": 4,
     "metadata": {},
     "output_type": "execute_result"
    }
   ],
   "source": [
    "a.index(40)"
   ]
  },
  {
   "cell_type": "code",
   "execution_count": 6,
   "id": "6c1c6095-0b53-4bf4-98e7-4b0ea5432b83",
   "metadata": {},
   "outputs": [
    {
     "name": "stdout",
     "output_type": "stream",
     "text": [
      "5 40\n"
     ]
    }
   ],
   "source": [
    "for index, value in enumerate(a):\n",
    "    if value == 40:\n",
    "        print(index, value)"
   ]
  },
  {
   "cell_type": "code",
   "execution_count": 23,
   "id": "046f73ea-7c78-40a5-af87-363c80325dc6",
   "metadata": {},
   "outputs": [],
   "source": [
    "a = [i for i in range(10) if i%2==0]"
   ]
  },
  {
   "cell_type": "code",
   "execution_count": 24,
   "id": "c05fba4b-bab4-488d-a956-2e1402ff1cfb",
   "metadata": {},
   "outputs": [
    {
     "name": "stdout",
     "output_type": "stream",
     "text": [
      "[0, 2, 4, 6, 8]\n"
     ]
    }
   ],
   "source": [
    "print(a)"
   ]
  },
  {
   "cell_type": "code",
   "execution_count": 25,
   "id": "e3c4682f-4241-458b-86c3-b9615d0498c3",
   "metadata": {},
   "outputs": [
    {
     "name": "stdout",
     "output_type": "stream",
     "text": [
      "['alpha', 'bravo', 'delta', 'hotel', 'india']\n"
     ]
    }
   ],
   "source": [
    "a = ['alpha', 'bravo', 'charlie', 'delta', 'echo', 'foxtrot', 'golf', 'hotel', 'india']\n",
    "b = [i for i in a if len(i) == 5]\n",
    "\n",
    "print(b)"
   ]
  },
  {
   "cell_type": "code",
   "execution_count": 28,
   "id": "7574f4ed-bc7f-4a56-9fd0-204799b396df",
   "metadata": {},
   "outputs": [],
   "source": [
    "a = [1]\n",
    "a[1:] = [40]"
   ]
  },
  {
   "cell_type": "code",
   "execution_count": 29,
   "id": "11d1d3ac-8671-4625-85ca-74fb07d3f0fc",
   "metadata": {},
   "outputs": [
    {
     "name": "stdout",
     "output_type": "stream",
     "text": [
      "[1, 40]\n"
     ]
    }
   ],
   "source": [
    "print(a)"
   ]
  },
  {
   "cell_type": "code",
   "execution_count": 40,
   "id": "8e592fdd-5871-42ee-a4ba-634084097255",
   "metadata": {},
   "outputs": [],
   "source": [
    "a = list(map(str,[1.2, 3.2, 3.4]))"
   ]
  },
  {
   "cell_type": "code",
   "execution_count": 41,
   "id": "e648b1e7-4d46-4683-a001-55f0301dae13",
   "metadata": {},
   "outputs": [
    {
     "name": "stdout",
     "output_type": "stream",
     "text": [
      "['1.2', '3.2', '3.4']\n"
     ]
    }
   ],
   "source": [
    "print(a)"
   ]
  },
  {
   "cell_type": "code",
   "execution_count": 42,
   "id": "2c8c86d2-db97-4e7c-bdc2-0c250f524d0e",
   "metadata": {},
   "outputs": [],
   "source": [
    "b = map(str,[1.2, 3.2, 3.4])"
   ]
  },
  {
   "cell_type": "code",
   "execution_count": 43,
   "id": "088760d1-495f-4fc5-90bc-b274d79fd6ae",
   "metadata": {},
   "outputs": [
    {
     "name": "stdout",
     "output_type": "stream",
     "text": [
      "<map object at 0x000002D6CBAD1F30>\n"
     ]
    }
   ],
   "source": [
    "print(b)"
   ]
  },
  {
   "cell_type": "code",
   "execution_count": 38,
   "id": "3e2965dd-8c9c-4c2d-807d-6b9ac5410d95",
   "metadata": {},
   "outputs": [],
   "source": [
    "k, m, n = b"
   ]
  },
  {
   "cell_type": "code",
   "execution_count": 39,
   "id": "497d548f-fad8-40a0-9203-d3f95a248e7b",
   "metadata": {},
   "outputs": [
    {
     "name": "stdout",
     "output_type": "stream",
     "text": [
      "1.2 3.2 3.4\n"
     ]
    }
   ],
   "source": [
    "print(k, m, n)"
   ]
  },
  {
   "cell_type": "code",
   "execution_count": 46,
   "id": "9a16f435-df9f-4c8e-b7e7-00b4f47ce4b5",
   "metadata": {},
   "outputs": [],
   "source": [
    "a = ['alpha', 'bravo', 'charlie']\n",
    "b = [word for word in a if len(word)==5]"
   ]
  },
  {
   "cell_type": "code",
   "execution_count": 47,
   "id": "f5beee4c-5f20-446b-9a71-b1aaf106a27c",
   "metadata": {},
   "outputs": [
    {
     "name": "stdout",
     "output_type": "stream",
     "text": [
      "['alpha', 'bravo']\n"
     ]
    }
   ],
   "source": [
    "print(b)"
   ]
  },
  {
   "cell_type": "code",
   "execution_count": 48,
   "id": "c48f6a1d-98d5-473d-8e14-ea412c16cc14",
   "metadata": {},
   "outputs": [
    {
     "name": "stdout",
     "output_type": "stream",
     "text": [
      "['alpha', 'bravo']\n"
     ]
    }
   ],
   "source": [
    "c = []\n",
    "for word in a:\n",
    "    if len(word)==5:\n",
    "        c.append(word)\n",
    "\n",
    "print(c)"
   ]
  },
  {
   "cell_type": "code",
   "execution_count": 55,
   "id": "c2da599c-c874-4783-8efe-c5686eb73adf",
   "metadata": {},
   "outputs": [],
   "source": [
    "quiz = [2**i for i in range(1,11) if i!=2 and i!=9]"
   ]
  },
  {
   "cell_type": "code",
   "execution_count": 56,
   "id": "493a2189-3f8b-4f5e-a48d-3b3926422576",
   "metadata": {},
   "outputs": [
    {
     "data": {
      "text/plain": [
       "[2, 8, 16, 32, 64, 128, 256, 1024]"
      ]
     },
     "execution_count": 56,
     "metadata": {},
     "output_type": "execute_result"
    }
   ],
   "source": [
    "quiz"
   ]
  },
  {
   "cell_type": "code",
   "execution_count": 63,
   "id": "fdc506d6-c145-4f46-8d7f-45af355efe0a",
   "metadata": {},
   "outputs": [],
   "source": [
    "quiz1 = [2**i for index, i in enumerate(range(10,21)) if index!=1]"
   ]
  },
  {
   "cell_type": "code",
   "execution_count": 64,
   "id": "2c482f4f-ab40-4d73-aaf8-57bad0299f2a",
   "metadata": {},
   "outputs": [
    {
     "data": {
      "text/plain": [
       "[1024, 4096, 8192, 16384, 32768, 65536, 131072, 262144, 524288, 1048576]"
      ]
     },
     "execution_count": 64,
     "metadata": {},
     "output_type": "execute_result"
    }
   ],
   "source": [
    "quiz1"
   ]
  },
  {
   "cell_type": "code",
   "execution_count": 65,
   "id": "1d542cca-0fe4-4713-893a-98ef85622928",
   "metadata": {},
   "outputs": [
    {
     "ename": "TypeError",
     "evalue": "'str' object does not support item assignment",
     "output_type": "error",
     "traceback": [
      "\u001b[1;31m---------------------------------------------------------------------------\u001b[0m",
      "\u001b[1;31mTypeError\u001b[0m                                 Traceback (most recent call last)",
      "Cell \u001b[1;32mIn[65], line 1\u001b[0m\n\u001b[1;32m----> 1\u001b[0m \u001b[43ma\u001b[49m\u001b[43m[\u001b[49m\u001b[38;5;241;43m0\u001b[39;49m\u001b[43m]\u001b[49m\u001b[43m[\u001b[49m\u001b[38;5;241;43m0\u001b[39;49m\u001b[43m]\u001b[49m \u001b[38;5;241m=\u001b[39m \u001b[38;5;241m100\u001b[39m\n",
      "\u001b[1;31mTypeError\u001b[0m: 'str' object does not support item assignment"
     ]
    }
   ],
   "source": [
    "a"
   ]
  },
  {
   "cell_type": "code",
   "execution_count": 65,
   "id": "14205672-c712-452c-a975-893e04d00130",
   "metadata": {},
   "outputs": [
    {
     "ename": "TypeError",
     "evalue": "'str' object does not support item assignment",
     "output_type": "error",
     "traceback": [
      "\u001b[1;31m---------------------------------------------------------------------------\u001b[0m",
      "\u001b[1;31mTypeError\u001b[0m                                 Traceback (most recent call last)",
      "Cell \u001b[1;32mIn[65], line 1\u001b[0m\n\u001b[1;32m----> 1\u001b[0m \u001b[43ma\u001b[49m\u001b[43m[\u001b[49m\u001b[38;5;241;43m0\u001b[39;49m\u001b[43m]\u001b[49m\u001b[43m[\u001b[49m\u001b[38;5;241;43m0\u001b[39;49m\u001b[43m]\u001b[49m \u001b[38;5;241m=\u001b[39m \u001b[38;5;241m100\u001b[39m\n",
      "\u001b[1;31mTypeError\u001b[0m: 'str' object does not support item assignment"
     ]
    }
   ],
   "source": [
    "a[0][0] = 100"
   ]
  },
  {
   "cell_type": "code",
   "execution_count": 66,
   "id": "49934d05-ea5e-4391-8c0c-255b6b86c5da",
   "metadata": {},
   "outputs": [
    {
     "data": {
      "text/plain": [
       "['alpha', 'bravo', 'charlie']"
      ]
     },
     "execution_count": 66,
     "metadata": {},
     "output_type": "execute_result"
    }
   ],
   "source": [
    "a"
   ]
  },
  {
   "cell_type": "code",
   "execution_count": null,
   "id": "f9b3ed11-7c91-457c-bea2-5d18d29131c9",
   "metadata": {},
   "outputs": [],
   "source": []
  }
 ],
 "metadata": {
  "kernelspec": {
   "display_name": "Python 3 (ipykernel)",
   "language": "python",
   "name": "python3"
  },
  "language_info": {
   "codemirror_mode": {
    "name": "ipython",
    "version": 3
   },
   "file_extension": ".py",
   "mimetype": "text/x-python",
   "name": "python",
   "nbconvert_exporter": "python",
   "pygments_lexer": "ipython3",
   "version": "3.10.11"
  }
 },
 "nbformat": 4,
 "nbformat_minor": 5
}
