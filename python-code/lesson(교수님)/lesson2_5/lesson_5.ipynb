{
 "cells": [
  {
   "cell_type": "code",
   "execution_count": 25,
   "id": "0156b3b9-0795-4121-948d-8c9d06177346",
   "metadata": {},
   "outputs": [
    {
     "name": "stdout",
     "output_type": "stream",
     "text": [
      "20\n"
     ]
    }
   ],
   "source": [
    "words = 'internationalization' #I18N\n",
    "print(len(words))"
   ]
  },
  {
   "cell_type": "code",
   "execution_count": 9,
   "id": "8897b4f4-eb27-4aa5-b06a-ca76f1d7330b",
   "metadata": {},
   "outputs": [
    {
     "name": "stdout",
     "output_type": "stream",
     "text": [
      "natio\n"
     ]
    }
   ],
   "source": [
    "subset = words[5:10]\n",
    "print(subset)"
   ]
  },
  {
   "cell_type": "code",
   "execution_count": 26,
   "id": "d6ac522d-d96d-4d08-93e2-b0ad8426037f",
   "metadata": {},
   "outputs": [
    {
     "name": "stdout",
     "output_type": "stream",
     "text": [
      "internationalizatio\n"
     ]
    }
   ],
   "source": [
    "print(words[:-1])"
   ]
  },
  {
   "cell_type": "code",
   "execution_count": 11,
   "id": "7b50dea1-f2fa-4fc3-8f97-c298f2137a0e",
   "metadata": {},
   "outputs": [
    {
     "name": "stdout",
     "output_type": "stream",
     "text": [
      "[0, 1, 2, 3, 4, 5, 6, 7, 8, 9]\n"
     ]
    }
   ],
   "source": [
    "numbers = list(range(0,10,1))\n",
    "print(numbers)"
   ]
  },
  {
   "cell_type": "code",
   "execution_count": 12,
   "id": "f0090b57-5670-408f-ae55-5f55b8122c37",
   "metadata": {},
   "outputs": [
    {
     "name": "stdout",
     "output_type": "stream",
     "text": [
      "[0, 2, 4, 6, 8]\n"
     ]
    }
   ],
   "source": [
    "print(numbers[0:9:2])"
   ]
  },
  {
   "cell_type": "code",
   "execution_count": 13,
   "id": "b87d5509-304b-436e-9b27-04cd3c75a75c",
   "metadata": {},
   "outputs": [
    {
     "name": "stdout",
     "output_type": "stream",
     "text": [
      "hello\n"
     ]
    }
   ],
   "source": [
    "letters = 'hello'\n",
    "print(letters[0:])"
   ]
  },
  {
   "cell_type": "code",
   "execution_count": 14,
   "id": "46056a38-4816-41f5-84d3-196a26fd6c9b",
   "metadata": {},
   "outputs": [
    {
     "name": "stdout",
     "output_type": "stream",
     "text": [
      "hello\n"
     ]
    }
   ],
   "source": [
    "print(letters[:])"
   ]
  },
  {
   "cell_type": "code",
   "execution_count": 15,
   "id": "3789b76a-8ef2-4764-bc98-50897d5cb982",
   "metadata": {},
   "outputs": [
    {
     "name": "stdout",
     "output_type": "stream",
     "text": [
      "hello\n"
     ]
    }
   ],
   "source": [
    "print(letters[::])"
   ]
  },
  {
   "cell_type": "code",
   "execution_count": 16,
   "id": "48d4a182-e650-40e5-939f-d5460be9c909",
   "metadata": {},
   "outputs": [
    {
     "name": "stdout",
     "output_type": "stream",
     "text": [
      "olleh\n"
     ]
    }
   ],
   "source": [
    "print(letters[::-1])"
   ]
  },
  {
   "cell_type": "code",
   "execution_count": 17,
   "id": "707051b4-dfe9-4157-a78c-5c2eb585fcc9",
   "metadata": {},
   "outputs": [],
   "source": [
    "import random"
   ]
  },
  {
   "cell_type": "code",
   "execution_count": 18,
   "id": "8f37d06f-f2bf-4382-858c-9e4b706fb51e",
   "metadata": {},
   "outputs": [
    {
     "name": "stdout",
     "output_type": "stream",
     "text": [
      "0.3805401934352156\n"
     ]
    }
   ],
   "source": [
    "print(random.random()) #0.0<=r<1.0"
   ]
  },
  {
   "cell_type": "code",
   "execution_count": 24,
   "id": "e45d7c10-0823-43b2-a1cf-fe43aff373af",
   "metadata": {},
   "outputs": [
    {
     "name": "stdout",
     "output_type": "stream",
     "text": [
      "2\n",
      "3\n",
      "2\n",
      "1\n",
      "3\n",
      "3\n",
      "2\n",
      "2\n",
      "3\n",
      "1\n",
      "3\n",
      "3\n",
      "1\n",
      "1\n",
      "2\n",
      "3\n",
      "2\n",
      "3\n",
      "1\n",
      "2\n",
      "1\n",
      "3\n",
      "1\n",
      "2\n",
      "2\n",
      "1\n",
      "2\n",
      "3\n",
      "3\n",
      "3\n",
      "1\n",
      "1\n",
      "2\n",
      "1\n",
      "1\n",
      "3\n",
      "2\n",
      "3\n",
      "3\n",
      "2\n",
      "3\n",
      "1\n",
      "1\n",
      "3\n",
      "2\n",
      "2\n",
      "2\n",
      "2\n",
      "3\n",
      "2\n",
      "1\n",
      "1\n",
      "1\n",
      "2\n",
      "2\n",
      "1\n",
      "2\n",
      "3\n",
      "1\n",
      "2\n",
      "2\n",
      "2\n",
      "3\n",
      "3\n",
      "3\n",
      "1\n",
      "2\n",
      "1\n",
      "2\n",
      "2\n",
      "2\n",
      "2\n",
      "3\n",
      "1\n",
      "1\n",
      "1\n",
      "1\n",
      "1\n",
      "1\n",
      "2\n",
      "2\n",
      "1\n",
      "3\n",
      "1\n",
      "3\n",
      "1\n",
      "1\n",
      "2\n",
      "2\n",
      "1\n",
      "3\n",
      "1\n",
      "1\n",
      "1\n",
      "2\n",
      "2\n",
      "1\n",
      "2\n",
      "1\n",
      "3\n"
     ]
    }
   ],
   "source": [
    "for _ in range(100):\n",
    "    print(random.randrange(1,3))"
   ]
  },
  {
   "cell_type": "code",
   "execution_count": 21,
   "id": "4f032be4-7ded-49b2-94d8-9182459f0490",
   "metadata": {},
   "outputs": [
    {
     "name": "stdout",
     "output_type": "stream",
     "text": [
      "[0, 1, 2, 3, 4, 5, 6, 7, 8, 9]\n"
     ]
    }
   ],
   "source": [
    "print(list(range(0,10)))"
   ]
  },
  {
   "cell_type": "code",
   "execution_count": 27,
   "id": "b08fd81e-b066-4f32-8a42-cc84490161ec",
   "metadata": {},
   "outputs": [
    {
     "name": "stdout",
     "output_type": "stream",
     "text": [
      "[1, 2, 3, 4, 5, 6, 7, 8, 9, 10]\n"
     ]
    }
   ],
   "source": [
    "numbers = list(range(1,11))\n",
    "print(numbers)"
   ]
  },
  {
   "cell_type": "code",
   "execution_count": 28,
   "id": "7344d292-4662-4daf-8106-4a6eac5af321",
   "metadata": {},
   "outputs": [],
   "source": [
    "for _ in range(5):\n",
    "    del numbers[-1]"
   ]
  },
  {
   "cell_type": "code",
   "execution_count": 29,
   "id": "6524541e-1fb9-4d23-8603-bb36e3b8f06c",
   "metadata": {},
   "outputs": [
    {
     "name": "stdout",
     "output_type": "stream",
     "text": [
      "(1, 2, 3, 4, 5)\n"
     ]
    }
   ],
   "source": [
    "print(tuple(numbers))"
   ]
  },
  {
   "cell_type": "code",
   "execution_count": 30,
   "id": "5015efc8-204e-440e-b174-0d0eb32f3f32",
   "metadata": {},
   "outputs": [
    {
     "name": "stdout",
     "output_type": "stream",
     "text": [
      "[1, 2, 3]\n"
     ]
    }
   ],
   "source": [
    "abc = [1,2,3]\n",
    "print(abc)"
   ]
  },
  {
   "cell_type": "code",
   "execution_count": 31,
   "id": "d3ccfb14-d509-4791-ae21-20a4505404a0",
   "metadata": {},
   "outputs": [],
   "source": [
    "abc.append(4)"
   ]
  },
  {
   "cell_type": "code",
   "execution_count": 32,
   "id": "5d0756c5-3199-4b2b-878a-af555331d6d4",
   "metadata": {},
   "outputs": [
    {
     "name": "stdout",
     "output_type": "stream",
     "text": [
      "[1, 2, 3, 4]\n"
     ]
    }
   ],
   "source": [
    "print(abc)"
   ]
  },
  {
   "cell_type": "code",
   "execution_count": 42,
   "id": "e41d4b2e-89e4-4dc4-895e-85cebbe30fdd",
   "metadata": {},
   "outputs": [
    {
     "name": "stdout",
     "output_type": "stream",
     "text": [
      "2 X  1 =  2\n",
      "2 X  2 =  4\n",
      "2 X  3 =  6\n",
      "2 X  4 =  8\n",
      "2 X  5 =  10\n",
      "2 X  6 =  12\n",
      "2 X  7 =  14\n",
      "2 X  8 =  16\n",
      "2 X  9 =  18\n",
      "\n",
      "3 X  1 =  3\n",
      "3 X  2 =  6\n",
      "3 X  3 =  9\n",
      "3 X  4 =  12\n",
      "3 X  5 =  15\n",
      "3 X  6 =  18\n",
      "3 X  7 =  21\n",
      "3 X  8 =  24\n",
      "3 X  9 =  27\n",
      "\n",
      "4 X  1 =  4\n",
      "4 X  2 =  8\n",
      "4 X  3 =  12\n",
      "4 X  4 =  16\n",
      "4 X  5 =  20\n",
      "4 X  6 =  24\n",
      "4 X  7 =  28\n",
      "4 X  8 =  32\n",
      "4 X  9 =  36\n",
      "\n",
      "5 X  1 =  5\n",
      "5 X  2 =  10\n",
      "5 X  3 =  15\n",
      "5 X  4 =  20\n",
      "5 X  5 =  25\n",
      "5 X  6 =  30\n",
      "5 X  7 =  35\n",
      "5 X  8 =  40\n",
      "5 X  9 =  45\n",
      "\n",
      "6 X  1 =  6\n",
      "6 X  2 =  12\n",
      "6 X  3 =  18\n",
      "6 X  4 =  24\n",
      "6 X  5 =  30\n",
      "6 X  6 =  36\n",
      "6 X  7 =  42\n",
      "6 X  8 =  48\n",
      "6 X  9 =  54\n",
      "\n",
      "8 X  1 =  8\n",
      "8 X  2 =  16\n",
      "8 X  3 =  24\n",
      "8 X  4 =  32\n",
      "8 X  5 =  40\n",
      "8 X  6 =  48\n",
      "8 X  7 =  56\n",
      "8 X  8 =  64\n",
      "8 X  9 =  72\n",
      "\n",
      "9 X  1 =  9\n",
      "9 X  2 =  18\n",
      "9 X  3 =  27\n",
      "9 X  4 =  36\n",
      "9 X  5 =  45\n",
      "9 X  6 =  54\n",
      "9 X  7 =  63\n",
      "9 X  8 =  72\n",
      "9 X  9 =  81\n",
      "\n"
     ]
    }
   ],
   "source": [
    "dan = 1\n",
    "for _ in range(8):\n",
    "    number = 1\n",
    "    dan = dan + 1\n",
    "    if dan == 7:\n",
    "        continue\n",
    "    for _ in range(9):\n",
    "        print(dan,'X ',number, '= ',number*dan)\n",
    "        number = number + 1\n",
    "        pass     \n",
    "    print()\n",
    "    "
   ]
  },
  {
   "cell_type": "code",
   "execution_count": 39,
   "id": "0fb201f4-deea-4514-8131-9dbd0befbb19",
   "metadata": {},
   "outputs": [
    {
     "name": "stdout",
     "output_type": "stream",
     "text": [
      "1\t2\t4\t5\t"
     ]
    }
   ],
   "source": [
    "for i in range(1,6):\n",
    "    if i == 3:\n",
    "        continue\n",
    "    print(i, end='\\t')"
   ]
  },
  {
   "cell_type": "code",
   "execution_count": 40,
   "id": "6ab2301c-1886-44d0-b559-29b51787946e",
   "metadata": {},
   "outputs": [
    {
     "name": "stdout",
     "output_type": "stream",
     "text": [
      "1\t2\t"
     ]
    }
   ],
   "source": [
    "for i in range(1,6):\n",
    "    if i == 3:\n",
    "        break\n",
    "    print(i, end='\\t')"
   ]
  },
  {
   "cell_type": "code",
   "execution_count": 43,
   "id": "9ec97793-5842-4070-8825-0a6e4ed38628",
   "metadata": {},
   "outputs": [
    {
     "name": "stdout",
     "output_type": "stream",
     "text": [
      "1\n",
      "3\n",
      "5\n",
      "7\n",
      "9\n"
     ]
    }
   ],
   "source": [
    "for i in range(1,11):\n",
    "    if i % 2 == 0:\n",
    "        continue\n",
    "    print(i)"
   ]
  },
  {
   "cell_type": "code",
   "execution_count": 46,
   "id": "aa3777a0-b4db-4df4-ad8f-451d7f3e32fa",
   "metadata": {},
   "outputs": [
    {
     "name": "stdout",
     "output_type": "stream",
     "text": [
      "1\n",
      "3\n",
      "5\n",
      "7\n",
      "9\n"
     ]
    }
   ],
   "source": [
    "for i in range(1,11):\n",
    "    if i % 2 == 1:\n",
    "        print(i)"
   ]
  },
  {
   "cell_type": "code",
   "execution_count": 51,
   "id": "340999c7-95c4-4bad-a558-5034ecb57265",
   "metadata": {},
   "outputs": [
    {
     "name": "stdout",
     "output_type": "stream",
     "text": [
      "21  22  24  25  26  27  28  29  30  31  32  "
     ]
    }
   ],
   "source": [
    "for i in range(21,34):\n",
    "    if i % 10 == 3:\n",
    "        continue\n",
    "    print(i,end='  ')"
   ]
  },
  {
   "cell_type": "code",
   "execution_count": 53,
   "id": "cf0cb600-d638-4790-a5eb-e0539b53dd8c",
   "metadata": {},
   "outputs": [
    {
     "name": "stdin",
     "output_type": "stream",
     "text": [
      " 5\n"
     ]
    },
    {
     "name": "stdout",
     "output_type": "stream",
     "text": [
      "    *    \n",
      "   ***   \n",
      "  *****  \n",
      " ******* \n",
      "*********\n"
     ]
    }
   ],
   "source": [
    "idx = int(input())\n",
    "for i in range(idx):\n",
    "    for j in range(idx*2-1):\n",
    "        basic = idx-1\n",
    "        if (j>=basic-i and j<=basic+i):\n",
    "            #print(basic)\n",
    "            print('*',end='')\n",
    "        else:\n",
    "            print(' ',end='')\n",
    "    print()"
   ]
  },
  {
   "cell_type": "code",
   "execution_count": 54,
   "id": "32421e70-b326-482e-8953-2e066ffde217",
   "metadata": {},
   "outputs": [
    {
     "name": "stdout",
     "output_type": "stream",
     "text": [
      "[1, 2, 3, 4, 5]\n"
     ]
    }
   ],
   "source": [
    "mlist = [1,2,3,4,5]\n",
    "print(mlist)"
   ]
  },
  {
   "cell_type": "code",
   "execution_count": 57,
   "id": "fce2a3c3-b3b3-47b8-95dd-1b1328743896",
   "metadata": {},
   "outputs": [
    {
     "name": "stdout",
     "output_type": "stream",
     "text": [
      "[3, 4, 5]\n"
     ]
    }
   ],
   "source": [
    "length = len(mlist)\n",
    "print(mlist[2:5])"
   ]
  },
  {
   "cell_type": "code",
   "execution_count": 58,
   "id": "0fdd3ef8-97c3-4e92-a74a-6fcb4be4d38b",
   "metadata": {},
   "outputs": [
    {
     "name": "stdout",
     "output_type": "stream",
     "text": [
      "['1,2,3,4,5']\n"
     ]
    }
   ],
   "source": [
    "data =[]\n",
    "data.append('1,2,3,4,5')\n",
    "print(data)"
   ]
  },
  {
   "cell_type": "code",
   "execution_count": 59,
   "id": "144b8fde-5728-4f2d-8295-059fe649edd5",
   "metadata": {},
   "outputs": [
    {
     "name": "stdout",
     "output_type": "stream",
     "text": [
      "['1,2,3,4,5', '6,7,8,9,10']\n"
     ]
    }
   ],
   "source": [
    "data.append('6,7,8,9,10')\n",
    "print(data)"
   ]
  },
  {
   "cell_type": "code",
   "execution_count": 60,
   "id": "4c6c463f-6542-4b89-971c-0a8ea5d0a190",
   "metadata": {},
   "outputs": [
    {
     "name": "stdout",
     "output_type": "stream",
     "text": [
      "['1,2,3,4,5', '6,7,8,9,10', '11,12,13,14,15']\n"
     ]
    }
   ],
   "source": [
    "data.append('11,12,13,14,15')\n",
    "print(data)"
   ]
  },
  {
   "cell_type": "code",
   "execution_count": 61,
   "id": "fe141bc1-0476-4ece-a043-49ce374f20d2",
   "metadata": {},
   "outputs": [
    {
     "data": {
      "text/plain": [
       "3"
      ]
     },
     "execution_count": 61,
     "metadata": {},
     "output_type": "execute_result"
    }
   ],
   "source": [
    "len(data)"
   ]
  },
  {
   "cell_type": "code",
   "execution_count": 62,
   "id": "3eea6e95-688f-44e6-a3b4-ffb34e25b8e6",
   "metadata": {},
   "outputs": [
    {
     "name": "stdout",
     "output_type": "stream",
     "text": [
      "1,2,3,4,5\n",
      "6,7,8,9,10\n",
      "11,12,13,14,15\n"
     ]
    }
   ],
   "source": [
    "for item in data:\n",
    "    print(item)"
   ]
  },
  {
   "cell_type": "code",
   "execution_count": 66,
   "id": "8ffecdd5-2a6c-465d-b719-a68e949f133e",
   "metadata": {},
   "outputs": [
    {
     "name": "stdout",
     "output_type": "stream",
     "text": [
      "['1', '2', '3', '4', '5']\n",
      "['6', '7', '8', '9', '10']\n",
      "['11', '12', '13', '14', '15']\n",
      "\n",
      "[['1', '2', '3', '4', '5'], ['6', '7', '8', '9', '10'], ['11', '12', '13', '14', '15']]\n"
     ]
    }
   ],
   "source": [
    "matrix = list()\n",
    "for item in data:\n",
    "    temp = item.split(',')\n",
    "    print(temp)\n",
    "    matrix.append(temp)\n",
    "print()\n",
    "print(matrix)"
   ]
  },
  {
   "cell_type": "code",
   "execution_count": 69,
   "id": "cebfcef0-5f43-4fdc-a5c2-b4038faba877",
   "metadata": {},
   "outputs": [
    {
     "data": {
      "text/plain": [
       "['1', '2', '3', '4', '5']"
      ]
     },
     "execution_count": 69,
     "metadata": {},
     "output_type": "execute_result"
    }
   ],
   "source": [
    "matrix[0]"
   ]
  },
  {
   "cell_type": "code",
   "execution_count": 70,
   "id": "8203e049-b6fa-427b-b336-a2d099b8042e",
   "metadata": {},
   "outputs": [
    {
     "data": {
      "text/plain": [
       "'5'"
      ]
     },
     "execution_count": 70,
     "metadata": {},
     "output_type": "execute_result"
    }
   ],
   "source": [
    "matrix[0][4]"
   ]
  },
  {
   "cell_type": "code",
   "execution_count": 74,
   "id": "00f73439-9e87-4262-a70c-70c747b7ac40",
   "metadata": {},
   "outputs": [
    {
     "name": "stdout",
     "output_type": "stream",
     "text": [
      "1 2 3 4 5 \n",
      "6 7 8 9 10 \n",
      "11 12 13 14 15 \n"
     ]
    }
   ],
   "source": [
    "for row in matrix:\n",
    "    for column in row:\n",
    "        print(column,end=' ')\n",
    "        pass\n",
    "    print()"
   ]
  },
  {
   "cell_type": "code",
   "execution_count": 77,
   "id": "0e7566d7-402a-42b4-9872-c3effcd8743a",
   "metadata": {},
   "outputs": [
    {
     "name": "stdout",
     "output_type": "stream",
     "text": [
      "162 54.0\n",
      "221 73.66666666666667\n",
      "235 78.33333333333333\n"
     ]
    }
   ],
   "source": [
    "\n",
    "kim = '98,43,21'\n",
    "lee = '46,92,83'\n",
    "park = '78,88,69'\n",
    "#3명 학생의 총점과 평균을 구하는 코드 작성하시오\n",
    "students = [kim,lee,park]\n",
    "count = 1\n",
    "for temp in students:\n",
    "    student = temp.split(',')\n",
    "    total = 0\n",
    "    for score in student:\n",
    "        total = total + int(score)\n",
    "    \n",
    "    avg = total/3\n",
    "    print(total,avg)"
   ]
  },
  {
   "cell_type": "code",
   "execution_count": 83,
   "id": "ddae6612-4870-48e9-aeca-8b2bdb9fb3e5",
   "metadata": {},
   "outputs": [
    {
     "name": "stdout",
     "output_type": "stream",
     "text": [
      "[[98, 43, 21], [46, 92, 83], [78, 88, 69]]\n"
     ]
    }
   ],
   "source": [
    "kim = '98,43,21'\n",
    "lee = '46,92,83'\n",
    "park = '78,88,69'\n",
    "temps = [kim,lee,park]\n",
    "students = []\n",
    "for value in temps:\n",
    "    intVal = []\n",
    "    for val in value.split(','):\n",
    "        #print(val)\n",
    "        intVal.append(int(val))\n",
    "    students.append(intVal)\n",
    "\n",
    "print(students)"
   ]
  },
  {
   "cell_type": "code",
   "execution_count": 87,
   "id": "815925e2-4034-4df5-8940-6cff1fe66b12",
   "metadata": {},
   "outputs": [
    {
     "name": "stdout",
     "output_type": "stream",
     "text": [
      "[[98, 43, 21], [46, 92, 83], [78, 88, 69]]\n"
     ]
    }
   ],
   "source": [
    "kim = '98,43,21'\n",
    "lee = '46,92,83'\n",
    "park = '78,88,69'\n",
    "temps = [kim,lee,park]\n",
    "students = []\n",
    "for value in temps:\n",
    "    students.append(list(map(int,value.split(','))))\n",
    "\n",
    "print(students)"
   ]
  },
  {
   "cell_type": "code",
   "execution_count": null,
   "id": "77719864-96a6-4853-9dbf-1502096b481f",
   "metadata": {},
   "outputs": [],
   "source": []
  }
 ],
 "metadata": {
  "kernelspec": {
   "display_name": "Python 3 (ipykernel)",
   "language": "python",
   "name": "python3"
  },
  "language_info": {
   "codemirror_mode": {
    "name": "ipython",
    "version": 3
   },
   "file_extension": ".py",
   "mimetype": "text/x-python",
   "name": "python",
   "nbconvert_exporter": "python",
   "pygments_lexer": "ipython3",
   "version": "3.10.11"
  }
 },
 "nbformat": 4,
 "nbformat_minor": 5
}
