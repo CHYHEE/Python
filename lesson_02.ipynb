{
 "cells": [
  {
   "cell_type": "code",
   "execution_count": 1,
   "id": "8b1fd521-4747-47bd-b13a-bd255a86c04f",
   "metadata": {},
   "outputs": [
    {
     "name": "stdout",
     "output_type": "stream",
     "text": [
      "Hello World!\n"
     ]
    }
   ],
   "source": [
    "print(\"Hello World!\")"
   ]
  },
  {
   "cell_type": "code",
   "execution_count": 2,
   "id": "746a73c9-abac-4ed7-a262-ea80823645a3",
   "metadata": {},
   "outputs": [
    {
     "data": {
      "text/plain": [
       "2"
      ]
     },
     "execution_count": 2,
     "metadata": {},
     "output_type": "execute_result"
    }
   ],
   "source": [
    "1+1"
   ]
  },
  {
   "cell_type": "code",
   "execution_count": 4,
   "id": "1ed800dd-4f29-4913-b06e-46bce93ff2d4",
   "metadata": {},
   "outputs": [],
   "source": [
    "if 1==2:\n",
    "    print('false')"
   ]
  },
  {
   "cell_type": "code",
   "execution_count": 5,
   "id": "d5d076f6-f31f-406d-8d4b-0da3229f6532",
   "metadata": {},
   "outputs": [
    {
     "data": {
      "text/plain": [
       "20"
      ]
     },
     "execution_count": 5,
     "metadata": {},
     "output_type": "execute_result"
    }
   ],
   "source": [
    "10*2"
   ]
  },
  {
   "cell_type": "code",
   "execution_count": 6,
   "id": "f325ebfc-a40b-4cf6-9bcc-b7e777c24f86",
   "metadata": {},
   "outputs": [
    {
     "data": {
      "text/plain": [
       "2.5"
      ]
     },
     "execution_count": 6,
     "metadata": {},
     "output_type": "execute_result"
    }
   ],
   "source": [
    "10/4"
   ]
  },
  {
   "cell_type": "code",
   "execution_count": 7,
   "id": "c700ad4c-ed58-419f-80fe-e0deff8b5138",
   "metadata": {},
   "outputs": [
    {
     "data": {
      "text/plain": [
       "2"
      ]
     },
     "execution_count": 7,
     "metadata": {},
     "output_type": "execute_result"
    }
   ],
   "source": [
    "10//4"
   ]
  },
  {
   "cell_type": "code",
   "execution_count": 1,
   "id": "c58a6dff-b6db-40a3-8345-f09058ee3299",
   "metadata": {},
   "outputs": [
    {
     "data": {
      "text/plain": [
       "'55'"
      ]
     },
     "execution_count": 1,
     "metadata": {},
     "output_type": "execute_result"
    }
   ],
   "source": [
    "\"5\" * 2 "
   ]
  },
  {
   "cell_type": "code",
   "execution_count": 2,
   "id": "0e2732a3-ad76-4036-a075-c1ae4a0791db",
   "metadata": {},
   "outputs": [
    {
     "data": {
      "text/plain": [
       "10"
      ]
     },
     "execution_count": 2,
     "metadata": {},
     "output_type": "execute_result"
    }
   ],
   "source": [
    "int('10')"
   ]
  },
  {
   "cell_type": "code",
   "execution_count": 3,
   "id": "fa409238-4d75-42ec-b7a6-a85e9bd76fb2",
   "metadata": {},
   "outputs": [
    {
     "data": {
      "text/plain": [
       "3"
      ]
     },
     "execution_count": 3,
     "metadata": {},
     "output_type": "execute_result"
    }
   ],
   "source": [
    "int(10/3)"
   ]
  },
  {
   "cell_type": "code",
   "execution_count": 4,
   "id": "1d249eea-3fe7-4907-ba52-a8be1f51fdb3",
   "metadata": {},
   "outputs": [
    {
     "name": "stdout",
     "output_type": "stream",
     "text": [
      "7\n"
     ]
    }
   ],
   "source": [
    "print(int(0.2467 * 12 + 4.159))"
   ]
  },
  {
   "cell_type": "code",
   "execution_count": 5,
   "id": "d6fb9c47-5259-4bea-ba74-d9b0cbc38b86",
   "metadata": {},
   "outputs": [
    {
     "name": "stdout",
     "output_type": "stream",
     "text": [
      "286.2\n"
     ]
    }
   ],
   "source": [
    "print(102 * 0.6 + 225)"
   ]
  },
  {
   "cell_type": "code",
   "execution_count": 6,
   "id": "eaaaf5af-0e49-4310-8f9b-5d27700b2da7",
   "metadata": {},
   "outputs": [
    {
     "name": "stdout",
     "output_type": "stream",
     "text": [
      "hello~ world\n"
     ]
    }
   ],
   "source": [
    "words = \"hello~ world\"\n",
    "print(words)"
   ]
  },
  {
   "cell_type": "code",
   "execution_count": 7,
   "id": "ca325b9f-09c3-4642-9320-7c9a8847c8d9",
   "metadata": {},
   "outputs": [
    {
     "name": "stdout",
     "output_type": "stream",
     "text": [
      "286.2\n"
     ]
    }
   ],
   "source": [
    "ap = 102\n",
    "demage = ap * 0.6 + 225\n",
    "print(demage)"
   ]
  },
  {
   "cell_type": "code",
   "execution_count": 8,
   "id": "74d7a103-b8a9-411d-9500-a8063f83344e",
   "metadata": {},
   "outputs": [
    {
     "data": {
      "text/plain": [
       "286.2"
      ]
     },
     "execution_count": 8,
     "metadata": {},
     "output_type": "execute_result"
    }
   ],
   "source": [
    "demage"
   ]
  },
  {
   "cell_type": "code",
   "execution_count": 9,
   "id": "7240ff74-306f-4dda-8cf6-4009aaf7ac8c",
   "metadata": {},
   "outputs": [
    {
     "data": {
      "text/plain": [
       "'hello~ world'"
      ]
     },
     "execution_count": 9,
     "metadata": {},
     "output_type": "execute_result"
    }
   ],
   "source": [
    "words"
   ]
  },
  {
   "cell_type": "code",
   "execution_count": 10,
   "id": "dfa75121-aeea-4fd0-a2e2-2d0c063774cb",
   "metadata": {},
   "outputs": [],
   "source": [
    "x=10\n",
    "del x"
   ]
  },
  {
   "cell_type": "code",
   "execution_count": 11,
   "id": "76180ad5-3457-47cc-8499-1b18047c8a45",
   "metadata": {},
   "outputs": [
    {
     "ename": "NameError",
     "evalue": "name 'x' is not defined",
     "output_type": "error",
     "traceback": [
      "\u001b[1;31m---------------------------------------------------------------------------\u001b[0m",
      "\u001b[1;31mNameError\u001b[0m                                 Traceback (most recent call last)",
      "Cell \u001b[1;32mIn[11], line 1\u001b[0m\n\u001b[1;32m----> 1\u001b[0m \u001b[43mx\u001b[49m\n",
      "\u001b[1;31mNameError\u001b[0m: name 'x' is not defined"
     ]
    }
   ],
   "source": [
    "x"
   ]
  },
  {
   "cell_type": "code",
   "execution_count": 12,
   "id": "870a7eff-c8aa-4ec4-bb3a-c81e634abd7a",
   "metadata": {},
   "outputs": [
    {
     "ename": "NameError",
     "evalue": "name 'none' is not defined",
     "output_type": "error",
     "traceback": [
      "\u001b[1;31m---------------------------------------------------------------------------\u001b[0m",
      "\u001b[1;31mNameError\u001b[0m                                 Traceback (most recent call last)",
      "Cell \u001b[1;32mIn[12], line 1\u001b[0m\n\u001b[1;32m----> 1\u001b[0m x\u001b[38;5;241m=\u001b[39m\u001b[43mnone\u001b[49m\n",
      "\u001b[1;31mNameError\u001b[0m: name 'none' is not defined"
     ]
    }
   ],
   "source": [
    "x=none"
   ]
  },
  {
   "cell_type": "code",
   "execution_count": 13,
   "id": "27060d16-44b3-4c89-9ca7-cd6f2e25ce4f",
   "metadata": {},
   "outputs": [
    {
     "ename": "NameError",
     "evalue": "name 'none' is not defined",
     "output_type": "error",
     "traceback": [
      "\u001b[1;31m---------------------------------------------------------------------------\u001b[0m",
      "\u001b[1;31mNameError\u001b[0m                                 Traceback (most recent call last)",
      "Cell \u001b[1;32mIn[13], line 1\u001b[0m\n\u001b[1;32m----> 1\u001b[0m x\u001b[38;5;241m=\u001b[39m\u001b[43mnone\u001b[49m\n\u001b[0;32m      2\u001b[0m \u001b[38;5;28mprint\u001b[39m(x)\n",
      "\u001b[1;31mNameError\u001b[0m: name 'none' is not defined"
     ]
    }
   ],
   "source": [
    "x=none\n",
    "print(x)"
   ]
  },
  {
   "cell_type": "code",
   "execution_count": 14,
   "id": "42be59cc-5f70-4281-899c-889589f7b465",
   "metadata": {},
   "outputs": [
    {
     "name": "stdout",
     "output_type": "stream",
     "text": [
      "None\n"
     ]
    }
   ],
   "source": [
    "x=None\n",
    "print(x)"
   ]
  },
  {
   "cell_type": "code",
   "execution_count": 15,
   "id": "63b90b55-91cd-4f04-bd7b-d5bf07c8bf02",
   "metadata": {},
   "outputs": [
    {
     "name": "stdin",
     "output_type": "stream",
     "text": [
      " 123\n"
     ]
    }
   ],
   "source": [
    "a = input()"
   ]
  },
  {
   "cell_type": "code",
   "execution_count": 16,
   "id": "0c81e53e-111c-44c8-a927-2c51b175e451",
   "metadata": {},
   "outputs": [
    {
     "name": "stdin",
     "output_type": "stream",
     "text": [
      " 102030\n"
     ]
    }
   ],
   "source": [
    "a = input()"
   ]
  },
  {
   "cell_type": "code",
   "execution_count": 17,
   "id": "d1b3aa19-5e7d-4573-9e52-cd77d7a9cbd1",
   "metadata": {},
   "outputs": [
    {
     "name": "stdout",
     "output_type": "stream",
     "text": [
      "102030\n"
     ]
    }
   ],
   "source": [
    "print(a)"
   ]
  },
  {
   "cell_type": "code",
   "execution_count": 18,
   "id": "4f230eb0-bdad-4ad2-9a55-326bb7d7811e",
   "metadata": {},
   "outputs": [
    {
     "data": {
      "text/plain": [
       "str"
      ]
     },
     "execution_count": 18,
     "metadata": {},
     "output_type": "execute_result"
    }
   ],
   "source": [
    "type(a)"
   ]
  },
  {
   "cell_type": "code",
   "execution_count": 19,
   "id": "99ef8d94-252e-44ad-b583-4bacc9dd4a37",
   "metadata": {},
   "outputs": [
    {
     "name": "stdin",
     "output_type": "stream",
     "text": [
      " 1\n"
     ]
    },
    {
     "ename": "ValueError",
     "evalue": "not enough values to unpack (expected 3, got 1)",
     "output_type": "error",
     "traceback": [
      "\u001b[1;31m---------------------------------------------------------------------------\u001b[0m",
      "\u001b[1;31mValueError\u001b[0m                                Traceback (most recent call last)",
      "Cell \u001b[1;32mIn[19], line 1\u001b[0m\n\u001b[1;32m----> 1\u001b[0m a, b, c \u001b[38;5;241m=\u001b[39m \u001b[38;5;28mmap\u001b[39m(\u001b[38;5;28mint\u001b[39m, \u001b[38;5;28minput\u001b[39m()\u001b[38;5;241m.\u001b[39msplit())\n",
      "\u001b[1;31mValueError\u001b[0m: not enough values to unpack (expected 3, got 1)"
     ]
    }
   ],
   "source": [
    "a, b, c = map(int, input().split())"
   ]
  },
  {
   "cell_type": "code",
   "execution_count": 20,
   "id": "ccd0bc2d-3c17-4347-b08f-c48666a2b081",
   "metadata": {},
   "outputs": [
    {
     "name": "stdin",
     "output_type": "stream",
     "text": [
      " -10 20 30\n"
     ]
    },
    {
     "name": "stdout",
     "output_type": "stream",
     "text": [
      "40\n"
     ]
    }
   ],
   "source": [
    "a, b, c = map(int, input().split())\n",
    "print(a + b + c)"
   ]
  },
  {
   "cell_type": "code",
   "execution_count": 21,
   "id": "685b9bf5-8ac6-4840-82b6-19d7d0b91caf",
   "metadata": {},
   "outputs": [],
   "source": [
    "a= 50\n",
    "b=100\n",
    "c=None"
   ]
  },
  {
   "cell_type": "code",
   "execution_count": 22,
   "id": "2e4e7bb6-4985-4558-a0a1-753d192a737b",
   "metadata": {},
   "outputs": [
    {
     "name": "stdout",
     "output_type": "stream",
     "text": [
      "50\n",
      "100\n",
      "None\n"
     ]
    }
   ],
   "source": [
    "print(a)\n",
    "print(b)\n",
    "print(c)"
   ]
  },
  {
   "cell_type": "code",
   "execution_count": 25,
   "id": "2249a684-59d4-4fab-8c73-c97c0c88ea00",
   "metadata": {},
   "outputs": [
    {
     "name": "stdin",
     "output_type": "stream",
     "text": [
      " 32 53 22 95\n"
     ]
    },
    {
     "name": "stdout",
     "output_type": "stream",
     "text": [
      "50\n"
     ]
    }
   ],
   "source": [
    "a,b,c,d=map(int, input().split())\n",
    "print((a+b+c+d)//4)"
   ]
  },
  {
   "cell_type": "code",
   "execution_count": null,
   "id": "a5ab3001-862a-46a6-9179-2709c0a9d8c9",
   "metadata": {},
   "outputs": [],
   "source": []
  },
  {
   "cell_type": "code",
   "execution_count": null,
   "id": "22534e50-1efe-4c17-976e-a6f59a576e8f",
   "metadata": {},
   "outputs": [],
   "source": []
  },
  {
   "cell_type": "code",
   "execution_count": null,
   "id": "c07aecae-b11b-45f4-bd74-7eed7d9742a1",
   "metadata": {},
   "outputs": [],
   "source": []
  },
  {
   "cell_type": "code",
   "execution_count": 27,
   "id": "7aeff77f-0340-4b57-b649-84b9944b8cef",
   "metadata": {},
   "outputs": [
    {
     "name": "stdin",
     "output_type": "stream",
     "text": [
      " 1 2 3\n"
     ]
    },
    {
     "name": "stdout",
     "output_type": "stream",
     "text": [
      "6\n"
     ]
    }
   ],
   "source": [
    "a,b,c=map(int, input().split()); print(a+b+c)"
   ]
  },
  {
   "cell_type": "code",
   "execution_count": 29,
   "id": "2f911198-31dc-4b9f-96f4-8eb7394077e7",
   "metadata": {},
   "outputs": [
    {
     "ename": "SyntaxError",
     "evalue": "incomplete input (3690006925.py, line 1)",
     "output_type": "error",
     "traceback": [
      "\u001b[1;36m  Cell \u001b[1;32mIn[29], line 1\u001b[1;36m\u001b[0m\n\u001b[1;33m    print(sum(map(int, input().split()))\u001b[0m\n\u001b[1;37m                                        ^\u001b[0m\n\u001b[1;31mSyntaxError\u001b[0m\u001b[1;31m:\u001b[0m incomplete input\n"
     ]
    }
   ],
   "source": [
    "print(sum(map(int, input().split()))"
   ]
  },
  {
   "cell_type": "code",
   "execution_count": null,
   "id": "85a15076-f2ef-43ef-a56c-ad5b1d3ce6f7",
   "metadata": {},
   "outputs": [],
   "source": []
  }
 ],
 "metadata": {
  "kernelspec": {
   "display_name": "Python 3 (ipykernel)",
   "language": "python",
   "name": "python3"
  },
  "language_info": {
   "codemirror_mode": {
    "name": "ipython",
    "version": 3
   },
   "file_extension": ".py",
   "mimetype": "text/x-python",
   "name": "python",
   "nbconvert_exporter": "python",
   "pygments_lexer": "ipython3",
   "version": "3.10.11"
  }
 },
 "nbformat": 4,
 "nbformat_minor": 5
}
