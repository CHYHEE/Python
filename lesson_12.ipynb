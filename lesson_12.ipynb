{
 "cells": [
  {
   "cell_type": "code",
   "execution_count": 1,
   "id": "de76fb17-be0d-49eb-857a-a3b847b283ca",
   "metadata": {},
   "outputs": [],
   "source": [
    "# 두 수를 입력받아서 합한 결과를 리턴하는 함수 작성하시오\n",
    "def plus(a, b):\n",
    "    c = a + b\n",
    "    return c\n",
    "\n",
    "# 두 수를 입력받아서 합한 결과를 출력하는 함수 작성하시오\n",
    "def hap(a,b):\n",
    "    c = a + b\n",
    "    print(c)\n",
    "\n",
    "# 이차원 리스트를 입력받아 지역코드가 B인 자료에 대하여(국어점수 + 영어점수) 중\n",
    "# 가장 큰 값을 출력하되, 만약 동일 값 발생시는 한 번만 출력하시오(20점)\n",
    "# 함수명 solve1인 함수를 작성하시오(로직을 비워둔다)\n",
    "def solve1(data):\n",
    "    answer = 0\n",
    "\n",
    "    return answer"
   ]
  },
  {
   "cell_type": "code",
   "execution_count": 3,
   "id": "209c2ae0-82d5-4c99-811b-d9525e75e80a",
   "metadata": {},
   "outputs": [
    {
     "ename": "NameError",
     "evalue": "name 'plus' is not defined",
     "output_type": "error",
     "traceback": [
      "\u001b[1;31m---------------------------------------------------------------------------\u001b[0m",
      "\u001b[1;31mNameError\u001b[0m                                 Traceback (most recent call last)",
      "Cell \u001b[1;32mIn[3], line 2\u001b[0m\n\u001b[0;32m      1\u001b[0m \u001b[38;5;66;03m# plus 함수를 사용하시오\u001b[39;00m\n\u001b[1;32m----> 2\u001b[0m result \u001b[38;5;241m=\u001b[39m \u001b[43mplus\u001b[49m(\u001b[38;5;241m10\u001b[39m, \u001b[38;5;241m20\u001b[39m)\n\u001b[0;32m      3\u001b[0m \u001b[38;5;28mprint\u001b[39m(result)\n",
      "\u001b[1;31mNameError\u001b[0m: name 'plus' is not defined"
     ]
    }
   ],
   "source": [
    "# plus 호출하시오(함수 사용)\n",
    "result = plus(10, 20)\n",
    "print(result)\n",
    "# hap 호출하시오(함수 사용)\n",
    "\n",
    "\n",
    "# solve1 호출하시오(함수 사용)"
   ]
  },
  {
   "cell_type": "code",
   "execution_count": 4,
   "id": "7a675b03-f03b-432f-a4ce-3859b039afb0",
   "metadata": {},
   "outputs": [
    {
     "data": {
      "text/plain": [
       "<function __main__.<lambda>(x)>"
      ]
     },
     "execution_count": 4,
     "metadata": {},
     "output_type": "execute_result"
    }
   ],
   "source": [
    "lambda x : x + 10"
   ]
  },
  {
   "cell_type": "code",
   "execution_count": 5,
   "id": "e2f54ada-4cd8-4ab2-9e17-e5c7c27655ce",
   "metadata": {},
   "outputs": [],
   "source": [
    "def plus_ten(x):\n",
    "    return x+10"
   ]
  },
  {
   "cell_type": "code",
   "execution_count": 6,
   "id": "3defe2e8-66b2-47a3-9bd9-62f1e5734cd4",
   "metadata": {},
   "outputs": [
    {
     "name": "stdout",
     "output_type": "stream",
     "text": [
      "<map object at 0x000001F7C29BBE80>\n"
     ]
    }
   ],
   "source": [
    "print(map(plus_ten, [1, 2, 3]))"
   ]
  },
  {
   "cell_type": "code",
   "execution_count": 7,
   "id": "b20c738d-7f0b-4e4e-aecc-05a8964e5eb9",
   "metadata": {},
   "outputs": [
    {
     "name": "stdout",
     "output_type": "stream",
     "text": [
      "[11, 12, 13]\n"
     ]
    }
   ],
   "source": [
    "print(list(map(lambda x : x + 10, [1, 2, 3])))"
   ]
  },
  {
   "cell_type": "code",
   "execution_count": 8,
   "id": "1c48a024-d849-42c1-8962-7f0e1197bd90",
   "metadata": {},
   "outputs": [
    {
     "ename": "NameError",
     "evalue": "name 'a' is not defined",
     "output_type": "error",
     "traceback": [
      "\u001b[1;31m---------------------------------------------------------------------------\u001b[0m",
      "\u001b[1;31mNameError\u001b[0m                                 Traceback (most recent call last)",
      "Cell \u001b[1;32mIn[8], line 1\u001b[0m\n\u001b[1;32m----> 1\u001b[0m \u001b[38;5;28mmap\u001b[39m(\u001b[38;5;28;01mlambda\u001b[39;00m x : \u001b[38;5;28mstr\u001b[39m(x) \u001b[38;5;28;01mif\u001b[39;00m x\u001b[38;5;241m%\u001b[39m\u001b[38;5;241m3\u001b[39m\u001b[38;5;241m==\u001b[39m\u001b[38;5;241m0\u001b[39m \u001b[38;5;28;01melse\u001b[39;00m x, \u001b[43ma\u001b[49m)\n",
      "\u001b[1;31mNameError\u001b[0m: name 'a' is not defined"
     ]
    }
   ],
   "source": [
    "map(lambda x : str(x) if x%3==0 else x, a)"
   ]
  },
  {
   "cell_type": "code",
   "execution_count": 9,
   "id": "72c590c7-5e84-4c01-92b1-f711379e05f5",
   "metadata": {},
   "outputs": [],
   "source": [
    "def factorial(n):\n",
    "    if n == 1:\n",
    "        return 1\n",
    "    # 5!=5X4X3X2X1\n",
    "    return n*factorial(n-1)"
   ]
  },
  {
   "cell_type": "code",
   "execution_count": 10,
   "id": "252d0dde-0d32-4db7-b115-6a67ff2896ac",
   "metadata": {},
   "outputs": [
    {
     "name": "stdout",
     "output_type": "stream",
     "text": [
      "10\n",
      "20\n",
      "30\n",
      "40\n"
     ]
    }
   ],
   "source": [
    "x = {'a':10, 'b':20, 'c':30, 'd':40}\n",
    "for key in x:\n",
    "    print(x[key])"
   ]
  },
  {
   "cell_type": "code",
   "execution_count": 11,
   "id": "97f84fca-0d12-4e32-8557-23388b251123",
   "metadata": {},
   "outputs": [
    {
     "name": "stdout",
     "output_type": "stream",
     "text": [
      "a 10\n",
      "b 20\n",
      "c 30\n",
      "d 40\n"
     ]
    }
   ],
   "source": [
    "for key, value in x.items():\n",
    "    print(key, value)"
   ]
  },
  {
   "cell_type": "code",
   "execution_count": 12,
   "id": "4b04ec0a-f29e-40f6-b60a-ae7d5f3507d0",
   "metadata": {},
   "outputs": [],
   "source": [
    "x['e'] = 50"
   ]
  },
  {
   "cell_type": "code",
   "execution_count": 13,
   "id": "b2e1f9cb-43b0-494d-99af-70e75f297f8a",
   "metadata": {},
   "outputs": [
    {
     "name": "stdout",
     "output_type": "stream",
     "text": [
      "{'a': 10, 'b': 20, 'c': 30, 'd': 40, 'e': 50}\n"
     ]
    }
   ],
   "source": [
    "print(x)"
   ]
  },
  {
   "cell_type": "code",
   "execution_count": 14,
   "id": "5b9c5b72-36f8-4399-8259-b587bc8463f5",
   "metadata": {},
   "outputs": [],
   "source": [
    "x = {key:value for key, value in x.items() if value != 20}"
   ]
  },
  {
   "cell_type": "code",
   "execution_count": 15,
   "id": "81685f82-6e30-474e-ba25-ca511bd3eca2",
   "metadata": {},
   "outputs": [
    {
     "name": "stdout",
     "output_type": "stream",
     "text": [
      "{'a': 10, 'c': 30, 'd': 40, 'e': 50}\n"
     ]
    }
   ],
   "source": [
    "print(x)"
   ]
  },
  {
   "cell_type": "code",
   "execution_count": null,
   "id": "30f9e8bc-ddeb-4082-997f-439d2555db88",
   "metadata": {},
   "outputs": [],
   "source": [
    "def collect_data(a,b,c):\n",
    "\n",
    "    pass"
   ]
  }
 ],
 "metadata": {
  "kernelspec": {
   "display_name": "Python 3 (ipykernel)",
   "language": "python",
   "name": "python3"
  },
  "language_info": {
   "codemirror_mode": {
    "name": "ipython",
    "version": 3
   },
   "file_extension": ".py",
   "mimetype": "text/x-python",
   "name": "python",
   "nbconvert_exporter": "python",
   "pygments_lexer": "ipython3",
   "version": "3.10.11"
  }
 },
 "nbformat": 4,
 "nbformat_minor": 5
}
