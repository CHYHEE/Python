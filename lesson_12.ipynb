{
 "cells": [
  {
   "cell_type": "code",
   "execution_count": 1,
   "id": "de76fb17-be0d-49eb-857a-a3b847b283ca",
   "metadata": {},
   "outputs": [],
   "source": [
    "# 두 수를 입력받아서 합한 결과를 리턴하는 함수 작성하시오\n",
    "def plus(a, b):\n",
    "    c = a + b\n",
    "    return c\n",
    "\n",
    "# 두 수를 입력받아서 합한 결과를 출력하는 함수 작성하시오\n",
    "def hap(a,b):\n",
    "    c = a + b\n",
    "    print(c)\n",
    "\n",
    "# 이차원 리스트를 입력받아 지역코드가 B인 자료에 대하여(국어점수 + 영어점수) 중\n",
    "# 가장 큰 값을 출력하되, 만약 동일 값 발생시는 한 번만 출력하시오(20점)\n",
    "# 함수명 solve1인 함수를 작성하시오(로직을 비워둔다)\n",
    "def solve1(data):\n",
    "    answer = 0\n",
    "\n",
    "    return answer"
   ]
  },
  {
   "cell_type": "code",
   "execution_count": 3,
   "id": "209c2ae0-82d5-4c99-811b-d9525e75e80a",
   "metadata": {},
   "outputs": [
    {
     "ename": "NameError",
     "evalue": "name 'plus' is not defined",
     "output_type": "error",
     "traceback": [
      "\u001b[1;31m---------------------------------------------------------------------------\u001b[0m",
      "\u001b[1;31mNameError\u001b[0m                                 Traceback (most recent call last)",
      "Cell \u001b[1;32mIn[3], line 2\u001b[0m\n\u001b[0;32m      1\u001b[0m \u001b[38;5;66;03m# plus 함수를 사용하시오\u001b[39;00m\n\u001b[1;32m----> 2\u001b[0m result \u001b[38;5;241m=\u001b[39m \u001b[43mplus\u001b[49m(\u001b[38;5;241m10\u001b[39m, \u001b[38;5;241m20\u001b[39m)\n\u001b[0;32m      3\u001b[0m \u001b[38;5;28mprint\u001b[39m(result)\n",
      "\u001b[1;31mNameError\u001b[0m: name 'plus' is not defined"
     ]
    }
   ],
   "source": [
    "# plus 호출하시오(함수 사용)\n",
    "result = plus(10, 20)\n",
    "print(result)\n",
    "# hap 호출하시오(함수 사용)\n",
    "\n",
    "\n",
    "# solve1 호출하시오(함수 사용)"
   ]
  },
  {
   "cell_type": "code",
   "execution_count": null,
   "id": "e2f54ada-4cd8-4ab2-9e17-e5c7c27655ce",
   "metadata": {},
   "outputs": [],
   "source": []
  }
 ],
 "metadata": {
  "kernelspec": {
   "display_name": "Python 3 (ipykernel)",
   "language": "python",
   "name": "python3"
  },
  "language_info": {
   "codemirror_mode": {
    "name": "ipython",
    "version": 3
   },
   "file_extension": ".py",
   "mimetype": "text/x-python",
   "name": "python",
   "nbconvert_exporter": "python",
   "pygments_lexer": "ipython3",
   "version": "3.10.11"
  }
 },
 "nbformat": 4,
 "nbformat_minor": 5
}
