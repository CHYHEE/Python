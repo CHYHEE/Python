{
 "cells": [
  {
   "cell_type": "code",
   "execution_count": 8,
   "id": "8c967d03-a372-4a86-bb18-2a1725fce561",
   "metadata": {},
   "outputs": [
    {
     "name": "stdout",
     "output_type": "stream",
     "text": [
      "2024년 9월\n",
      "일\t월\t화\t수\t목\t금\t토\n",
      "1\t2\t3\t4\t5\t6\t7\t\n",
      "\n",
      "8\t9\t10\t11\t12\t13\t14\t\n",
      "\n",
      "15\t16\t17\t18\t19\t20\t21\t\n",
      "\n",
      "22\t23\t24\t25\t26\t27\t28\t\n",
      "\n",
      "29\t30\t31\t"
     ]
    }
   ],
   "source": [
    "#2024년 9월 달력을 아래와 같이 출력되도록 코드를 작성하시오\n",
    "print('2024년 9월\\n')\n",
    "print('일', '월', '화', '수', '목', '금','토', sep='\\t')\n",
    "for i in range(1, 32):\n",
    "    print(i, end='\\t')\n",
    "    if(i%7==0):\n",
    "        print('\\n')"
   ]
  },
  {
   "cell_type": "code",
   "execution_count": null,
   "id": "81b6edf2-0609-4138-b816-2f3de49c6c62",
   "metadata": {},
   "outputs": [],
   "source": []
  }
 ],
 "metadata": {
  "kernelspec": {
   "display_name": "Python 3 (ipykernel)",
   "language": "python",
   "name": "python3"
  },
  "language_info": {
   "codemirror_mode": {
    "name": "ipython",
    "version": 3
   },
   "file_extension": ".py",
   "mimetype": "text/x-python",
   "name": "python",
   "nbconvert_exporter": "python",
   "pygments_lexer": "ipython3",
   "version": "3.10.11"
  }
 },
 "nbformat": 4,
 "nbformat_minor": 5
}
