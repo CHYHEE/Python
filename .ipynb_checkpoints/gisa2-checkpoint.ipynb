{
 "cells": [
  {
   "cell_type": "code",
   "execution_count": 15,
   "id": "541b7349-67a0-4dce-b2b8-cd6b5ebc6417",
   "metadata": {},
   "outputs": [
    {
     "name": "stdout",
     "output_type": "stream",
     "text": [
      "['990001', 'addx', ' 17', ' 29', ' 16', ' 49', ' 43', '154', 'C', 'A', 'C']\n"
     ]
    },
    {
     "data": {
      "text/plain": [
       "[[990001, 'addx', 17, 29, 16, 49, 43, 154, 'C', 'A', 'C']]"
      ]
     },
     "execution_count": 15,
     "metadata": {},
     "output_type": "execute_result"
    }
   ],
   "source": [
    "# 1. # 파일에서 모든 라인을 가져온다.\n",
    "with open('.\\data\\Abc1115.csv', 'r') as file:\n",
    "    lines = file.readlines()\n",
    "    \n",
    "# 2. 한 줄을 가져온다.\n",
    "lines[0:1]\n",
    "\n",
    "# 3. 가져온 한 줄을 분리한다.(콤마로 분리)\n",
    "for temp in lines[0:1]:\n",
    "    print(temp[:-1].split(','))\n",
    "    \n",
    "# 4. 분리된 데이터를 타입에 맞추어 분리한다.\n",
    "data = []\n",
    "for line in lines:\n",
    "    aa = []\n",
    "    temp = line[:-1].split(',')\n",
    "    aa.append(int(temp[0]))\n",
    "    aa.append(temp[1])\n",
    "    for ele in temp[2:-3]:\n",
    "        aa.append(int(ele))\n",
    "    for i in temp[-3:]:\n",
    "        aa.append(i)\n",
    "\n",
    "    data.append(aa)\n",
    "\n",
    "data[0:1]\n",
    "\n",
    "# 5. 분리한 데이터를 리스트에 저장한다.\n",
    "\n",
    "\n",
    "# 6. 리스트를 리스트에 저장한다."
   ]
  },
  {
   "cell_type": "code",
   "execution_count": null,
   "id": "b1332a9d-a0e5-460e-ac12-8402f5aa832e",
   "metadata": {},
   "outputs": [],
   "source": []
  }
 ],
 "metadata": {
  "kernelspec": {
   "display_name": "Python 3 (ipykernel)",
   "language": "python",
   "name": "python3"
  },
  "language_info": {
   "codemirror_mode": {
    "name": "ipython",
    "version": 3
   },
   "file_extension": ".py",
   "mimetype": "text/x-python",
   "name": "python",
   "nbconvert_exporter": "python",
   "pygments_lexer": "ipython3",
   "version": "3.10.11"
  }
 },
 "nbformat": 4,
 "nbformat_minor": 5
}
