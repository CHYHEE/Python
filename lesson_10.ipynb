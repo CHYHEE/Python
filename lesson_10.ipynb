{
 "cells": [
  {
   "cell_type": "code",
   "execution_count": 1,
   "id": "c307f048-6858-4b30-8852-263d45e7a574",
   "metadata": {},
   "outputs": [],
   "source": [
    "def print_numbers(a, b, c):\n",
    "    print(a)\n",
    "    print(b)\n",
    "    print(c)"
   ]
  },
  {
   "cell_type": "code",
   "execution_count": 3,
   "id": "286b35fc-dc22-4a9b-88f5-ac2da07205bd",
   "metadata": {},
   "outputs": [],
   "source": [
    "def print_list(a):\n",
    "    print(a)"
   ]
  },
  {
   "cell_type": "code",
   "execution_count": 5,
   "id": "0ed2f901-ed1f-44bd-a3e9-896b0c46a70a",
   "metadata": {},
   "outputs": [
    {
     "name": "stdout",
     "output_type": "stream",
     "text": [
      "1\n",
      "2\n",
      "3\n"
     ]
    }
   ],
   "source": [
    "print_numbers(*[1, 2, 3])"
   ]
  },
  {
   "cell_type": "code",
   "execution_count": 4,
   "id": "8d1b1d94-d328-4201-a3f0-08fbb05a39b2",
   "metadata": {},
   "outputs": [
    {
     "name": "stdout",
     "output_type": "stream",
     "text": [
      "[1, 2, 3]\n"
     ]
    }
   ],
   "source": [
    "print_list([1, 2, 3])"
   ]
  },
  {
   "cell_type": "code",
   "execution_count": 8,
   "id": "0ec005a0-2d3d-40a9-9a76-c360f65da8ce",
   "metadata": {},
   "outputs": [],
   "source": [
    "def get_min_max_score(*args):\n",
    "    return min(args), max(args)"
   ]
  },
  {
   "cell_type": "code",
   "execution_count": 9,
   "id": "ea043ab5-25de-4cc1-a789-a5ba00aa7a1b",
   "metadata": {},
   "outputs": [],
   "source": [
    "def get_average(*args):\n",
    "    return sum(args)/len(args)"
   ]
  },
  {
   "cell_type": "code",
   "execution_count": 13,
   "id": "45d52fc7-e22a-44db-b3ef-0ab468b0c811",
   "metadata": {},
   "outputs": [
    {
     "name": "stdin",
     "output_type": "stream",
     "text": [
      " 89 92 73 83\n"
     ]
    },
    {
     "ename": "TypeError",
     "evalue": "int() argument must be a string, a bytes-like object or a real number, not 'list'",
     "output_type": "error",
     "traceback": [
      "\u001b[1;31m---------------------------------------------------------------------------\u001b[0m",
      "\u001b[1;31mTypeError\u001b[0m                                 Traceback (most recent call last)",
      "Cell \u001b[1;32mIn[13], line 1\u001b[0m\n\u001b[1;32m----> 1\u001b[0m korean, english, mathematics, science \u001b[38;5;241m=\u001b[39m \u001b[38;5;28mmap\u001b[39m(\u001b[38;5;28;43mint\u001b[39;49m\u001b[43m(\u001b[49m\u001b[38;5;28;43minput\u001b[39;49m\u001b[43m(\u001b[49m\u001b[43m)\u001b[49m\u001b[38;5;241;43m.\u001b[39;49m\u001b[43msplit\u001b[49m\u001b[43m(\u001b[49m\u001b[38;5;124;43m'\u001b[39;49m\u001b[38;5;124;43m \u001b[39;49m\u001b[38;5;124;43m'\u001b[39;49m\u001b[43m)\u001b[49m\u001b[43m)\u001b[49m)\n\u001b[0;32m      2\u001b[0m min_score, max_score \u001b[38;5;241m=\u001b[39m get_min_max_score(korean, english, mathematics, science)\n\u001b[0;32m      3\u001b[0m average_score \u001b[38;5;241m=\u001b[39m get_average(korean, english, mathematics, science)\n",
      "\u001b[1;31mTypeError\u001b[0m: int() argument must be a string, a bytes-like object or a real number, not 'list'"
     ]
    }
   ],
   "source": [
    "korean, english, mathematics, science = map(int(input().split('')))\n",
    "min_score, max_score = get_min_max_score(korean, english, mathematics, science)\n",
    "average_score = get_average(korean, english, mathematics, science)\n",
    "print('min : {:.2f}, max : {:.2f}, average : {:.2f}'.format(min_score, max_score, average_score))\n",
    "\n",
    "min_score, max_score = get_min_max_score(english, science)\n",
    "average_score = get_average(english, science)\n",
    "print('min : {:.2f}, max : {:.2f}, average : {:.2f}'.format(min_score, max_score, average_score))"
   ]
  },
  {
   "cell_type": "code",
   "execution_count": 14,
   "id": "ec9b4bed-3d88-4fe1-a113-5d80e0f97229",
   "metadata": {},
   "outputs": [],
   "source": [
    "def hello(count):\n",
    "    if count == 10:\n",
    "        return\n",
    "    count = count + 1\n",
    "    print('Hello world!', count)\n",
    "    hello(count)"
   ]
  },
  {
   "cell_type": "code",
   "execution_count": 15,
   "id": "f571f069-7737-41e2-b1a8-5588278616f9",
   "metadata": {},
   "outputs": [
    {
     "name": "stdout",
     "output_type": "stream",
     "text": [
      "Hello world! 1\n",
      "Hello world! 2\n",
      "Hello world! 3\n",
      "Hello world! 4\n",
      "Hello world! 5\n",
      "Hello world! 6\n",
      "Hello world! 7\n",
      "Hello world! 8\n",
      "Hello world! 9\n",
      "Hello world! 10\n"
     ]
    }
   ],
   "source": [
    "hello(0)"
   ]
  },
  {
   "cell_type": "code",
   "execution_count": null,
   "id": "c4d05093-33b9-4052-aa76-678ead86ffa3",
   "metadata": {},
   "outputs": [],
   "source": []
  }
 ],
 "metadata": {
  "kernelspec": {
   "display_name": "Python 3 (ipykernel)",
   "language": "python",
   "name": "python3"
  },
  "language_info": {
   "codemirror_mode": {
    "name": "ipython",
    "version": 3
   },
   "file_extension": ".py",
   "mimetype": "text/x-python",
   "name": "python",
   "nbconvert_exporter": "python",
   "pygments_lexer": "ipython3",
   "version": "3.10.11"
  }
 },
 "nbformat": 4,
 "nbformat_minor": 5
}
