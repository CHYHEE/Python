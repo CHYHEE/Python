{
 "cells": [
  {
   "cell_type": "code",
   "execution_count": 2,
   "id": "f9647157-142e-44dc-ab68-a2c8f2fa6e55",
   "metadata": {},
   "outputs": [
    {
     "name": "stdout",
     "output_type": "stream",
     "text": [
      "Hello"
     ]
    }
   ],
   "source": [
    "for letter in \"Hello\":\n",
    "    print(letter,end='')"
   ]
  },
  {
   "cell_type": "code",
   "execution_count": 3,
   "id": "4f6ec2d7-79a1-4cb9-a687-30ed7a33ae82",
   "metadata": {},
   "outputs": [],
   "source": [
    "number = '12345'\n",
    "#number의 수를 하나씩 분리하면 1,2,3,4,5\n",
    "#분리된 수를 합하여서 출력하는 코드 작성하시오."
   ]
  },
  {
   "cell_type": "code",
   "execution_count": 7,
   "id": "284a1411-57cb-4ac8-9478-ea51847c0e18",
   "metadata": {},
   "outputs": [
    {
     "name": "stdout",
     "output_type": "stream",
     "text": [
      "15\n"
     ]
    }
   ],
   "source": [
    "total = 0\n",
    "for i in number:\n",
    "    total = total + int(i)\n",
    "print(total)"
   ]
  },
  {
   "cell_type": "code",
   "execution_count": 14,
   "id": "099453a1-82b9-48b9-8976-7cf2a0786dc5",
   "metadata": {},
   "outputs": [
    {
     "name": "stdout",
     "output_type": "stream",
     "text": [
      "['H', 'e', 'l', 'l', 'o']\n",
      "e\n",
      "5\n",
      "11\n"
     ]
    }
   ],
   "source": [
    "a = list('Hello')\n",
    "#Hello\n",
    "#01234\n",
    "print(a)\n",
    "print(a[1])\n",
    "print(len(a))\n",
    "print(len('Hello World'))"
   ]
  },
  {
   "cell_type": "code",
   "execution_count": 10,
   "id": "64c17f47-297b-46e9-8d6e-46c893027526",
   "metadata": {},
   "outputs": [
    {
     "name": "stdout",
     "output_type": "stream",
     "text": [
      "range(0, 100)\n",
      "[0, 1, 2, 3, 4, 5, 6, 7, 8, 9]\n"
     ]
    }
   ],
   "source": [
    "print(range(100))\n",
    "b = list(range(10))\n",
    "print(b)"
   ]
  },
  {
   "cell_type": "code",
   "execution_count": 4,
   "id": "c6ccd002-80a9-4dcf-95e9-52f2532250bd",
   "metadata": {},
   "outputs": [],
   "source": [
    "a = list(range(10,101,10))"
   ]
  },
  {
   "cell_type": "code",
   "execution_count": 5,
   "id": "a2b78dca-95d7-4174-a279-2e5d88ea9331",
   "metadata": {},
   "outputs": [
    {
     "data": {
      "text/plain": [
       "[10, 20, 30, 40, 50, 60, 70, 80, 90, 100]"
      ]
     },
     "execution_count": 5,
     "metadata": {},
     "output_type": "execute_result"
    }
   ],
   "source": [
    "a"
   ]
  },
  {
   "cell_type": "code",
   "execution_count": 6,
   "id": "e5a83064-ac32-401c-815b-8a991d6fcfe1",
   "metadata": {},
   "outputs": [
    {
     "data": {
      "text/plain": [
       "30"
      ]
     },
     "execution_count": 6,
     "metadata": {},
     "output_type": "execute_result"
    }
   ],
   "source": [
    "a[2]"
   ]
  },
  {
   "cell_type": "code",
   "execution_count": 19,
   "id": "900354cc-039c-4405-b3d8-ae2690c248ab",
   "metadata": {},
   "outputs": [
    {
     "name": "stdout",
     "output_type": "stream",
     "text": [
      "30\n"
     ]
    }
   ],
   "source": [
    "for i in a:\n",
    "    if i==30:\n",
    "        print(i)"
   ]
  },
  {
   "cell_type": "code",
   "execution_count": 22,
   "id": "b5451e61-a432-430d-9c1b-cd2bb01ad6b1",
   "metadata": {},
   "outputs": [
    {
     "data": {
      "text/plain": [
       "True"
      ]
     },
     "execution_count": 22,
     "metadata": {},
     "output_type": "execute_result"
    }
   ],
   "source": [
    "0 not in a"
   ]
  },
  {
   "cell_type": "code",
   "execution_count": 29,
   "id": "9225735d-c968-46a4-bcca-7c9d91c4077c",
   "metadata": {},
   "outputs": [
    {
     "name": "stdout",
     "output_type": "stream",
     "text": [
      "5 1234\n",
      "4 123\n",
      "3 12\n",
      "2 1\n",
      "1 0\n",
      "15\n"
     ]
    }
   ],
   "source": [
    "total = 0;\n",
    "number = 12345\n",
    "#number의 수를 하나씩 분리하면 1,2,3,4,5\n",
    "#분리된 수를 합하여서 출력하는 코드 작성하시오.\n",
    "#우선 5를 분리한다. \n",
    "for _ in range(5):\n",
    "    splitNumber = number % 10\n",
    "    number = number // 10\n",
    "    print(splitNumber,number)\n",
    "    total = total + splitNumber\n",
    "\n",
    "print(total)"
   ]
  },
  {
   "cell_type": "code",
   "execution_count": 44,
   "id": "a41ee908-2047-40f6-8f9c-b1b510d27fe1",
   "metadata": {},
   "outputs": [
    {
     "name": "stdin",
     "output_type": "stream",
     "text": [
      "월을 입력하세요 >>>  2\n"
     ]
    },
    {
     "name": "stdout",
     "output_type": "stream",
     "text": [
      "\t\t\t2024년  2 월\n",
      "일\t월\t화\t수\t목\t금\t토\n",
      "\t\t\t\t1\t2\t3\t\n",
      "4\t5\t6\t7\t8\t9\t10\t\n",
      "11\t12\t13\t14\t15\t16\t17\t\n",
      "18\t19\t20\t21\t22\t23\t24\t\n",
      "25\t26\t27\t28\t29\t"
     ]
    }
   ],
   "source": [
    "#2024년 6월 달력을 출력하는 코드 작성하시오.\n",
    "#2024년 9월 달력을 만드는 코드를 수정하여서 작성하시오.\n",
    "mon = int(input('월을 입력하세요 >>> '))\n",
    "year = 2024\n",
    "#febDay = 28\n",
    "#400나누어 떨어지거나\n",
    "#4로 나누어 떨어지고 100으로 나누어 떨어지지 않아야 한다.\n",
    "lastDays = [31,28,31,30,31,30,31,31,30,31,30,31]\n",
    "if mon==2:\n",
    "    if year%400==0 or (year%4==0 and year%100!=0):\n",
    "        lastDays[1] = 29\n",
    "        \n",
    "spaces = [1,4,5,1,3,6,1,4,0,2,5,0]\n",
    "\n",
    "#space = int(input('빈칸의 수를 입력하세요 >>> '))\n",
    "#lastDay = int(input('마지막 날짜를 입력하세요 >>> '))\n",
    "space = spaces[mon-1]\n",
    "lastDay = lastDays[mon-1]\n",
    "print('\\t\\t\\t2024년 ',mon,'월')\n",
    "print('일','월','화','수','목','금','토',sep='\\t',end='\\n')\n",
    "day = 1\n",
    "for _ in range(space):\n",
    "    print('\\t',end='')\n",
    "for _ in range(lastDay):\n",
    "    print(day,end='\\t')\n",
    "    if (space+day)%7==0:\n",
    "        print()\n",
    "    day = day + 1"
   ]
  },
  {
   "cell_type": "code",
   "execution_count": 49,
   "id": "c6aa0ed7-afbf-4709-b43d-bfac623bf0bc",
   "metadata": {},
   "outputs": [
    {
     "name": "stdout",
     "output_type": "stream",
     "text": [
      "3 12\n",
      "2 1\n",
      "1 0\n",
      "6\n"
     ]
    }
   ],
   "source": [
    "total = 0;\n",
    "number = 123\n",
    "#number의 수를 하나씩 분리하면 1,2,3,4,5\n",
    "#분리된 수를 합하여서 출력하는 코드 작성하시오.\n",
    "#우선 5를 분리한다. \n",
    "isStop = False\n",
    "while not isStop:\n",
    "    splitNumber = number % 10\n",
    "    number = number // 10\n",
    "    print(splitNumber,number)\n",
    "    total = total + splitNumber\n",
    "    if number==0:\n",
    "        isStop = True\n",
    "print(total)"
   ]
  },
  {
   "cell_type": "code",
   "execution_count": null,
   "id": "7a88c647-9d3a-4a3d-bab7-02e8fc7fff4b",
   "metadata": {},
   "outputs": [],
   "source": [
    "while True:\n",
    "    if '멈출조건':\n",
    "        break"
   ]
  },
  {
   "cell_type": "code",
   "execution_count": 2,
   "id": "deb9a2e4-4ecd-4e1e-bb2e-d371fcb989af",
   "metadata": {},
   "outputs": [
    {
     "name": "stdin",
     "output_type": "stream",
     "text": [
      "월을 입력하세요 >>>  7\n",
      "빈칸의 수를 입력하세요 >>>  1\n",
      "마지막 날짜를 입력하세요 >>>  31\n"
     ]
    },
    {
     "name": "stdout",
     "output_type": "stream",
     "text": [
      "\t\t\t2024년  7 월\n",
      "일\t월\t화\t수\t목\t금\t토\n",
      "\t1\t2\t3\t4\t5\t6\t\n",
      "7\t8\t9\t10\t11\t12\t13\t\n",
      "14\t15\t16\t17\t18\t19\t20\t\n",
      "21\t22\t23\t24\t25\t26\t27\t\n",
      "28\t29\t30\t31\t"
     ]
    }
   ],
   "source": [
    "mon = int(input('월을 입력하세요 >>> '))\n",
    "space = int(input('빈칸의 수를 입력하세요 >>> '))\n",
    "lastDay = int(input('마지막 날짜를 입력하세요 >>> '))\n",
    "print('\\t\\t\\t2024년 ',mon,'월')\n",
    "print('일','월','화','수','목','금','토',sep='\\t',end='\\n')\n",
    "day = 1\n",
    "#space = 1\n",
    "#lastDay = 31\n",
    "for _ in range(space):\n",
    "    print('\\t',end='')\n",
    "for _ in range(lastDay):\n",
    "    print(day,end='\\t')\n",
    "    if (space+day)%7==0:\n",
    "        print()\n",
    "    day = day + 1"
   ]
  },
  {
   "cell_type": "code",
   "execution_count": null,
   "id": "ce9f5926-12c7-436a-8836-5b45e20e27e6",
   "metadata": {},
   "outputs": [],
   "source": []
  }
 ],
 "metadata": {
  "kernelspec": {
   "display_name": "Python 3 (ipykernel)",
   "language": "python",
   "name": "python3"
  },
  "language_info": {
   "codemirror_mode": {
    "name": "ipython",
    "version": 3
   },
   "file_extension": ".py",
   "mimetype": "text/x-python",
   "name": "python",
   "nbconvert_exporter": "python",
   "pygments_lexer": "ipython3",
   "version": "3.10.11"
  }
 },
 "nbformat": 4,
 "nbformat_minor": 5
}
