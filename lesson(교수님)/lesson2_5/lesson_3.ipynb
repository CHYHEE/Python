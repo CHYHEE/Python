{
 "cells": [
  {
   "cell_type": "code",
   "execution_count": 7,
   "id": "ba17d12e-cfb6-48e0-9c61-20a06f6b52bc",
   "metadata": {},
   "outputs": [
    {
     "name": "stdout",
     "output_type": "stream",
     "text": [
      "1\n",
      "2\n",
      "3\n"
     ]
    }
   ],
   "source": [
    "print(1,2,3,sep='\\n') #1\\2\\3"
   ]
  },
  {
   "cell_type": "code",
   "execution_count": 8,
   "id": "d8aab383-82b0-49b3-9aad-e1186d048b6e",
   "metadata": {},
   "outputs": [
    {
     "name": "stdout",
     "output_type": "stream",
     "text": [
      "1\n",
      "2\n",
      "3\n"
     ]
    }
   ],
   "source": [
    "print('1\\n2\\n3')"
   ]
  },
  {
   "cell_type": "code",
   "execution_count": 13,
   "id": "1f95711b-2d90-4c1d-b87a-15fa795a3a97",
   "metadata": {},
   "outputs": [
    {
     "name": "stdout",
     "output_type": "stream",
     "text": [
      "1\t2-"
     ]
    }
   ],
   "source": [
    "print(1,end='\\t')\n",
    "print(2,end='-')"
   ]
  },
  {
   "cell_type": "code",
   "execution_count": 18,
   "id": "5cdf982d-8547-4245-9461-84e626d3dc10",
   "metadata": {},
   "outputs": [],
   "source": [
    "a = 10\n",
    "b = 10"
   ]
  },
  {
   "cell_type": "code",
   "execution_count": 21,
   "id": "539a8c20-ec1d-4f5d-a4e2-6aa755999942",
   "metadata": {},
   "outputs": [
    {
     "name": "stdout",
     "output_type": "stream",
     "text": [
      "b\n"
     ]
    }
   ],
   "source": [
    "if a!=b:\n",
    "    print('a')\n",
    "else:\n",
    "    print('b')"
   ]
  },
  {
   "cell_type": "code",
   "execution_count": 23,
   "id": "b8813c77-2378-4247-8d5a-0114f33f84ca",
   "metadata": {},
   "outputs": [
    {
     "name": "stdout",
     "output_type": "stream",
     "text": [
      "F\n"
     ]
    }
   ],
   "source": [
    "if a>90:\n",
    "    print('A')\n",
    "elif a>80:\n",
    "    print('B')\n",
    "elif a>70:\n",
    "    print('C')\n",
    "elif a>=60:\n",
    "    print('D')\n",
    "else:\n",
    "    print('F')\n",
    "    "
   ]
  },
  {
   "cell_type": "code",
   "execution_count": 40,
   "id": "1377701d-a868-4fbd-8e82-5cc5f02dbcca",
   "metadata": {},
   "outputs": [
    {
     "name": "stdout",
     "output_type": "stream",
     "text": [
      "1\n",
      "2\n",
      "3\n",
      "4\n",
      "5\n",
      "6\n",
      "7\n",
      "8\n",
      "9\n",
      "10\n"
     ]
    }
   ],
   "source": [
    "number = 1\n",
    "for i in range(1,11):\n",
    "    print(i)\n",
    "    #print(number)\n",
    "    #number = number + 1"
   ]
  },
  {
   "cell_type": "code",
   "execution_count": 44,
   "id": "47a5ce03-c575-48f8-996c-82abeb77727a",
   "metadata": {},
   "outputs": [
    {
     "name": "stdout",
     "output_type": "stream",
     "text": [
      "2X 1 = 2\n",
      "2X 2 = 4\n",
      "2X 3 = 6\n",
      "2X 4 = 8\n",
      "2X 5 = 10\n",
      "2X 6 = 12\n",
      "2X 7 = 14\n",
      "2X 8 = 16\n",
      "2X 9 = 18\n"
     ]
    }
   ],
   "source": [
    "number = 1\n",
    "for _ in range(9):\n",
    "    print('2X',number,'=',2*number)\n",
    "    number = number + 1"
   ]
  },
  {
   "cell_type": "code",
   "execution_count": 15,
   "id": "38ea3a2e-3dda-4f29-8470-1e5d1fd918bf",
   "metadata": {},
   "outputs": [
    {
     "name": "stdout",
     "output_type": "stream",
     "text": [
      "\t\t\t2024년 9월\n",
      "일\t월\t화\t수\t목\t금\t토\n",
      "1\t2\t3\t4\t5\t6\t7\t\n",
      "8\t9\t10\t11\t12\t13\t14\t\n",
      "15\t16\t17\t18\t19\t20\t21\t\n",
      "22\t23\t24\t25\t26\t27\t28\t\n",
      "29\t30\t31\t"
     ]
    }
   ],
   "source": [
    "print('\\t\\t\\t2024년 9월')\n",
    "print('일','월','화','수','목','금','토',sep='\\t',end='\\n')\n",
    "day = 1\n",
    "for _ in range(31):\n",
    "    print(day,end='\\t')\n",
    "    if day%7==0:\n",
    "        print()\n",
    "    day = day + 1"
   ]
  },
  {
   "cell_type": "code",
   "execution_count": 59,
   "id": "d95a1f5b-b423-4bf8-bd2b-0c60d8939885",
   "metadata": {},
   "outputs": [
    {
     "name": "stdout",
     "output_type": "stream",
     "text": [
      "일\t월\t화\t수\t목\t금\t토\n",
      "1\t2\t3\t4\t5\t6\t7\t\n",
      "8\t9\t10\t11\t12\t13\t14\t\n",
      "15\t16\t17\t18\t19\t20\t21\t\n",
      "22\t23\t24\t25\t26\t27\t28\t\n",
      "29\t30\t31\t"
     ]
    }
   ],
   "source": [
    "print('일','월','화','수','목','금','토',sep='\\t',end='\\n')\n",
    "\n",
    "for day in range(1,32):\n",
    "    print(day,end='\\t')\n",
    "    if day%7==0:\n",
    "        print()\n",
    "    #day = day + 1\n"
   ]
  },
  {
   "cell_type": "code",
   "execution_count": 2,
   "id": "4c61ef4e-8cde-45bf-bc3e-78600bade2f8",
   "metadata": {},
   "outputs": [
    {
     "name": "stdout",
     "output_type": "stream",
     "text": [
      "2 X  1 =  2\n",
      "2 X  2 =  4\n",
      "2 X  3 =  6\n",
      "2 X  4 =  8\n",
      "2 X  5 =  10\n",
      "2 X  6 =  12\n",
      "2 X  7 =  14\n",
      "2 X  8 =  16\n",
      "2 X  9 =  18\n",
      "\n",
      "3 X  1 =  3\n",
      "3 X  2 =  6\n",
      "3 X  3 =  9\n",
      "3 X  4 =  12\n",
      "3 X  5 =  15\n",
      "3 X  6 =  18\n",
      "3 X  7 =  21\n",
      "3 X  8 =  24\n",
      "3 X  9 =  27\n",
      "\n",
      "4 X  1 =  4\n",
      "4 X  2 =  8\n",
      "4 X  3 =  12\n",
      "4 X  4 =  16\n",
      "4 X  5 =  20\n",
      "4 X  6 =  24\n",
      "4 X  7 =  28\n",
      "4 X  8 =  32\n",
      "4 X  9 =  36\n",
      "\n",
      "5 X  1 =  5\n",
      "5 X  2 =  10\n",
      "5 X  3 =  15\n",
      "5 X  4 =  20\n",
      "5 X  5 =  25\n",
      "5 X  6 =  30\n",
      "5 X  7 =  35\n",
      "5 X  8 =  40\n",
      "5 X  9 =  45\n",
      "\n",
      "6 X  1 =  6\n",
      "6 X  2 =  12\n",
      "6 X  3 =  18\n",
      "6 X  4 =  24\n",
      "6 X  5 =  30\n",
      "6 X  6 =  36\n",
      "6 X  7 =  42\n",
      "6 X  8 =  48\n",
      "6 X  9 =  54\n",
      "\n",
      "8 X  1 =  8\n",
      "8 X  2 =  16\n",
      "8 X  3 =  24\n",
      "8 X  4 =  32\n",
      "8 X  5 =  40\n",
      "8 X  6 =  48\n",
      "8 X  7 =  56\n",
      "8 X  8 =  64\n",
      "8 X  9 =  72\n",
      "\n",
      "9 X  1 =  9\n",
      "9 X  2 =  18\n",
      "9 X  3 =  27\n",
      "9 X  4 =  36\n",
      "9 X  5 =  45\n",
      "9 X  6 =  54\n",
      "9 X  7 =  63\n",
      "9 X  8 =  72\n",
      "9 X  9 =  81\n",
      "\n"
     ]
    }
   ],
   "source": [
    "dan = 1\n",
    "for _ in range(8):\n",
    "    number = 1\n",
    "    dan = dan + 1\n",
    "    if dan==7:\n",
    "        continue\n",
    "    for _ in range(9):\n",
    "        print(dan,'X ',number, '= ',number*dan)\n",
    "        number = number + 1\n",
    "        pass     \n",
    "    print()\n",
    "    \n"
   ]
  },
  {
   "cell_type": "code",
   "execution_count": null,
   "id": "b7726193-7d51-4496-b55d-38a8cbcb1664",
   "metadata": {},
   "outputs": [],
   "source": []
  }
 ],
 "metadata": {
  "kernelspec": {
   "display_name": "Python 3 (ipykernel)",
   "language": "python",
   "name": "python3"
  },
  "language_info": {
   "codemirror_mode": {
    "name": "ipython",
    "version": 3
   },
   "file_extension": ".py",
   "mimetype": "text/x-python",
   "name": "python",
   "nbconvert_exporter": "python",
   "pygments_lexer": "ipython3",
   "version": "3.10.11"
  }
 },
 "nbformat": 4,
 "nbformat_minor": 5
}
