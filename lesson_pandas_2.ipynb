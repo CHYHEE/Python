{
 "cells": [
  {
   "cell_type": "code",
   "execution_count": 1,
   "id": "8012cbeb-af68-42a0-b5b7-fe4860591669",
   "metadata": {},
   "outputs": [],
   "source": [
    "import pandas as pd"
   ]
  },
  {
   "cell_type": "code",
   "execution_count": 2,
   "id": "018b0db5-75b4-40ab-be86-29d664dd5866",
   "metadata": {},
   "outputs": [
    {
     "name": "stdout",
     "output_type": "stream",
     "text": [
      "2.2.2\n"
     ]
    }
   ],
   "source": [
    "print(pd.__version__)"
   ]
  },
  {
   "cell_type": "code",
   "execution_count": 3,
   "id": "22ec60be-8404-4255-b67e-efeb9939e1b2",
   "metadata": {},
   "outputs": [],
   "source": [
    "# 파일에서 데이터프레임을 생성\n",
    "# csv와 tsv 차이 때문에 sep을 한다?\n",
    "dataframe = pd.read_csv('../doit_pandas-master/data/gapminder.tsv', sep = '\\t')"
   ]
  },
  {
   "cell_type": "code",
   "execution_count": 5,
   "id": "4c2d3059-6786-4fde-ad04-72565956c4cb",
   "metadata": {},
   "outputs": [],
   "source": [
    "df = pd.DataFrame()"
   ]
  },
  {
   "cell_type": "code",
   "execution_count": 6,
   "id": "eeb7738a-5eee-4205-b55d-f336224c4649",
   "metadata": {},
   "outputs": [],
   "source": [
    "df = pd.DataFrame(\n",
    "    data = {},\n",
    "    index = [],\n",
    "    columns = []\n",
    ")"
   ]
  },
  {
   "cell_type": "code",
   "execution_count": 8,
   "id": "191832e9-169c-49bb-a2e7-659d84c0ee16",
   "metadata": {},
   "outputs": [],
   "source": [
    "# 클래스를 통해 직접 데이터프레임 생성\n",
    "df = pd.DataFrame(\n",
    "    data = {'Occupation':['Chemist', 'Statistician'],\n",
    "           'Born' : ['1920-07-25', '1876-06-13'],\n",
    "           'Age' : [27, 61]},\n",
    "    index = ['Rosaline Franklin', 'William Gosset'],\n",
    "    columns = ['Occupation', 'Born', 'Age']\n",
    ")"
   ]
  },
  {
   "cell_type": "code",
   "execution_count": 9,
   "id": "3d101678-d4d8-4da1-83e5-a193af288a64",
   "metadata": {},
   "outputs": [
    {
     "name": "stdout",
     "output_type": "stream",
     "text": [
      "                     Occupation        Born  Age\n",
      "Rosaline Franklin       Chemist  1920-07-25   27\n",
      "William Gosset     Statistician  1876-06-13   61\n"
     ]
    }
   ],
   "source": [
    "print(df)"
   ]
  },
  {
   "cell_type": "code",
   "execution_count": 4,
   "id": "26c4f9f4-41c8-4d94-a796-9be584afed98",
   "metadata": {},
   "outputs": [
    {
     "name": "stdout",
     "output_type": "stream",
     "text": [
      "       country continent  year  lifeExp       pop   gdpPercap\n",
      "0  Afghanistan      Asia  1952   28.801   8425333  779.445314\n",
      "1  Afghanistan      Asia  1957   30.332   9240934  820.853030\n",
      "2  Afghanistan      Asia  1962   31.997  10267083  853.100710\n",
      "3  Afghanistan      Asia  1967   34.020  11537966  836.197138\n",
      "4  Afghanistan      Asia  1972   36.088  13079460  739.981106\n"
     ]
    }
   ],
   "source": [
    "print(dataframe.head())"
   ]
  },
  {
   "cell_type": "code",
   "execution_count": null,
   "id": "96c4b87b-cbf3-4ef9-bfdc-3b721853fe75",
   "metadata": {},
   "outputs": [],
   "source": [
    "gisa_df = pd."
   ]
  }
 ],
 "metadata": {
  "kernelspec": {
   "display_name": "Python 3 (ipykernel)",
   "language": "python",
   "name": "python3"
  },
  "language_info": {
   "codemirror_mode": {
    "name": "ipython",
    "version": 3
   },
   "file_extension": ".py",
   "mimetype": "text/x-python",
   "name": "python",
   "nbconvert_exporter": "python",
   "pygments_lexer": "ipython3",
   "version": "3.10.11"
  }
 },
 "nbformat": 4,
 "nbformat_minor": 5
}
