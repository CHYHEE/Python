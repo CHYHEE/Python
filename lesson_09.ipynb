{
 "cells": [
  {
   "cell_type": "code",
   "execution_count": 8,
   "id": "642b4bd8-63fc-4631-8227-690a4b6391ff",
   "metadata": {},
   "outputs": [
    {
     "name": "stdin",
     "output_type": "stream",
     "text": [
      "월을 입력하세요 :  5\n"
     ]
    },
    {
     "name": "stdout",
     "output_type": "stream",
     "text": [
      "\t\t2024년 5 월\n",
      "일\t월\t화\t수\t목\t금\t토\n",
      "\t\t\t1\t2\t3\t4\t\n",
      "5\t6\t7\t8\t9\t10\t11\t\n",
      "12\t13\t14\t15\t16\t17\t18\t\n",
      "19\t20\t21\t22\t23\t24\t25\t\n",
      "26\t27\t28\t29\t30\t31\t"
     ]
    }
   ],
   "source": [
    "# mon은 사용자에게서 정수로 입력 받는다.\n",
    "mon = int(input('월을 입력하세요 : '))\n",
    "# year은 2024로 초기값\n",
    "year = 2024\n",
    "# lastDays는 배열의 순서대로 초기값 설정해 준다.\n",
    "lastDays = [31, 28, 31, 30, 31, 30, 31, 31, 30, 31, 30, 31]\n",
    "# 만약 mon이 2라면\n",
    "if mon==2:\n",
    "    # 만약 year이 400으로 나누었을 때 나머지가 0이거나 year을 4로 나누었을 때 0이고 100으로 나누었을 때 0이 아니면\n",
    "    if year%400==0 or (year%4==0 and year%100!=0):\n",
    "        # lastDays에 1번째 배열의 값이 29이다.\n",
    "        lastDays[1] = 29\n",
    "# spaces의 배열의 순서대로 초기값을 설정해 준다.\n",
    "spaces = [1, 4, 5, 1, 3, 6, 1, 4, 0, 2, 5, 0]\n",
    "# space는 spaces에 mon-1번째의 배열을 갖는다?\n",
    "space=spaces[mon-1]\n",
    "# lastDay는 lastDays의 mon-1번째의 배열을 갖는다?\n",
    "lastDay=lastDays[mon-1]\n",
    "\n",
    "# 탭탭2024년 사용자에게 입력받은 mon 월 출력\n",
    "print('\\t\\t2024년', mon, '월')\n",
    "# 일 월 화 수 목 금 토 출력 중간에 탭으로 간격 벌리기\n",
    "print('일', '월', '화', '수', '목', '금','토', sep='\\t')\n",
    "\n",
    "# day는 1로 초기값을 갖고\n",
    "day=1\n",
    "# 반복할 횟수 space를 설정하고\n",
    "for i in range(space):\n",
    "    # 탭을 반복 실행 마지막은 빈칸 출력\n",
    "    print('\\t', end='')\n",
    "# 반복할 횟수 lastDay를 설정하고 \n",
    "for i in range(lastDay):\n",
    "    # day를 반복 실행 마지막은 탭 출력\n",
    "    print(day, end='\\t')\n",
    "    # 만약 space+day를 더해서 7로 나누었을 때 나머지가 0이면\n",
    "    if (space+day)%7==0:\n",
    "        # 출력한다.\n",
    "        print()\n",
    "    # day는 day에 1씩 더해준다.\n",
    "    day=day+1"
   ]
  },
  {
   "cell_type": "code",
   "execution_count": 12,
   "id": "b564a150-9465-49bb-8d58-3f93c3397146",
   "metadata": {},
   "outputs": [
    {
     "name": "stdin",
     "output_type": "stream",
     "text": [
      "월을 입력하세요 :  5\n"
     ]
    },
    {
     "name": "stdout",
     "output_type": "stream",
     "text": [
      "\n",
      "\t\t2024년 5 월\n",
      "\n",
      "일\t월\t화\t수\t목\t금\t토\n",
      "\t\t\t1\t2\t3\t4\t\n",
      "5\t6\t7\t8\t9\t10\t11\t\n",
      "12\t13\t14\t15\t16\t17\t18\t\n",
      "19\t20\t21\t22\t23\t24\t25\t\n",
      "26\t27\t28\t29\t30\t31\t"
     ]
    }
   ],
   "source": [
    "# 시\n",
    "# mon은 사용자에게서 정수로 입력 받는다.\n",
    "mon = int(input('월을 입력하세요 : '))\n",
    "# year은 2024로 초기값\n",
    "year = 2024\n",
    "# lastDays는 배열의 순서대로(31, 28, 31, 30, 31, 30, 31, 31, 30, 31, 30, 31) 초기값 설정해 준다.\n",
    "lastDays = [31, 28, 31, 30, 31, 30, 31, 31, 30, 31, 30, 31]\n",
    "# 만약 mon이 2라면\n",
    "if mon == 2:\n",
    "    # 만약 year이 400으로 나누었을 때 나머지가 0이거나 year을 4로 나누었을 때 0이고 100으로 나누었을 때 0이 아니면\n",
    "    if year%400 == 0 or (year%4==0 and year%100==0):\n",
    "        # lastDays에 1번째 배열의 값이 29이다.\n",
    "        lastDays[1] = 29\n",
    "# spaces의 배열의 순서대로(1, 4, 5, 1, 3, 6, 1, 4, 0, 2, 5, 0) 초기값을 설정해 준다.\n",
    "spaces = [1, 4, 5, 1, 3, 6, 1, 4, 0, 2, 5, 0]\n",
    "# space는 spaces에 mon-1번째의 배열을 갖는다?\n",
    "space = spaces[mon-1]\n",
    "# lastDay는 lastDays의 mon-1번째의 배열을 갖는다?\n",
    "lastDay = lastDays[mon-1]\n",
    "\n",
    "# 탭탭2024년 사용자에게 입력받은 mon 월 출력\n",
    "print('\\n\\t\\t2024년', mon, '월\\n')\n",
    "# 일 월 화 수 목 금 토 출력 중간에 탭으로 간격 벌리기\n",
    "print('일', '월', '화', '수', '목', '금', '토', sep='\\t')\n",
    "# day는 1로 초기값을 갖고\n",
    "day = 1\n",
    "# 반복할 횟수 space를 설정하고\n",
    "for i in range(space):\n",
    "    # 탭을 반복 실행 마지막은 빈칸 출력\n",
    "    print('\\t', end='')\n",
    "# 반복할 횟수 lastDay를 설정하고 \n",
    "for i in range(lastDay):\n",
    "    # day를 반복 실행 마지막은 탭 출력\n",
    "    print(day, end='\\t')\n",
    "    # 만약 space+day를 더해서 7로 나누었을 때 나머지가 0이면\n",
    "    if (space+day)%7==0:\n",
    "        # 출력한다.\n",
    "        print()\n",
    "    # day는 day에 1씩 더해준다.\n",
    "    day = day + 1"
   ]
  },
  {
   "cell_type": "code",
   "execution_count": 29,
   "id": "5be53d03-8794-4aba-a4ae-0fab6d49fbc1",
   "metadata": {},
   "outputs": [
    {
     "name": "stdin",
     "output_type": "stream",
     "text": [
      "월을 입력하세요>>> 9\n"
     ]
    },
    {
     "name": "stdout",
     "output_type": "stream",
     "text": [
      "\t\t2024년 9 월\n",
      "일\t월\t화\t수\t목\t금\t토\n",
      "1\t2\t3\t4\t5\t6\t7\t\n",
      "8\t9\t10\t11\t12\t13\t14\t\n",
      "15\t16\t17\t18\t19\t20\t21\t\n",
      "22\t23\t24\t25\t26\t27\t28\t\n",
      "29\t30\t"
     ]
    }
   ],
   "source": [
    "for datetime import datetime\n",
    "mon=int(input('월을 입력하세요>>>'))\n",
    "year=2024\n",
    "# 빈칸 정보를 얻기위해 datetime모듈의 datetime 객체 사용\n",
    "now = datetime(year, mon, 1)\n",
    "\n",
    "lastDays=[31, 28, 31, 30, 31, 30, 31, 31, 30, 31, 30, 31]\n",
    "if mon==2:\n",
    "    if year%400==0 or (year%4==0 and year%100!=0):\n",
    "        lastDays[1]=29\n",
    "# 요일 정보와 빈칸정보의 비교를 통해서 +1을 하면 빈칸 데이터가 나옴\n",
    "space=(now.weekday()+1)%7\n",
    "lastDay=lastDays[mon-1]\n",
    "\n",
    "print('\\t\\t2024년', mon, '월')\n",
    "print('일', '월', '화', '수', '목', '금','토', sep='\\t')\n",
    "\n",
    "day=1\n",
    "for i in range(space):\n",
    "    print('\\t', end='')\n",
    "for i in range(lastDay):\n",
    "    print(day, end='\\t')\n",
    "    if (space+day)%7==0:\n",
    "        print()\n",
    "    day=day+1"
   ]
  },
  {
   "cell_type": "code",
   "execution_count": 13,
   "id": "22f6d6bf-919a-452d-8eba-e90ca6c2af99",
   "metadata": {},
   "outputs": [],
   "source": [
    "import datetime"
   ]
  },
  {
   "cell_type": "code",
   "execution_count": 14,
   "id": "41f2e975-6943-47b3-a869-bbf369045634",
   "metadata": {},
   "outputs": [
    {
     "name": "stdout",
     "output_type": "stream",
     "text": [
      "2024-07-04 11:08:13.863743\n"
     ]
    }
   ],
   "source": [
    "now = datetime.datetime.today()\n",
    "print(now)"
   ]
  },
  {
   "cell_type": "code",
   "execution_count": 15,
   "id": "d715b0e0-9475-4ee1-b939-7a00dbf55658",
   "metadata": {},
   "outputs": [
    {
     "data": {
      "text/plain": [
       "4"
      ]
     },
     "execution_count": 15,
     "metadata": {},
     "output_type": "execute_result"
    }
   ],
   "source": [
    "now.day"
   ]
  },
  {
   "cell_type": "code",
   "execution_count": 16,
   "id": "3502a80d-338f-4ed6-8f7b-0131fd4d6cbc",
   "metadata": {},
   "outputs": [
    {
     "data": {
      "text/plain": [
       "7"
      ]
     },
     "execution_count": 16,
     "metadata": {},
     "output_type": "execute_result"
    }
   ],
   "source": [
    "now.month"
   ]
  },
  {
   "cell_type": "code",
   "execution_count": 17,
   "id": "52182f0c-73b4-40e0-ab58-75ab5203b7f7",
   "metadata": {},
   "outputs": [
    {
     "data": {
      "text/plain": [
       "3"
      ]
     },
     "execution_count": 17,
     "metadata": {},
     "output_type": "execute_result"
    }
   ],
   "source": [
    "now.weekday()"
   ]
  },
  {
   "cell_type": "code",
   "execution_count": 21,
   "id": "1c41d6b5-7eab-4256-8b38-dc5beb8a435a",
   "metadata": {},
   "outputs": [],
   "source": [
    "july = datetime.datetime(2024,9,1)"
   ]
  },
  {
   "cell_type": "code",
   "execution_count": 22,
   "id": "e2ce0b08-509c-400f-8430-85bd3ce55aaa",
   "metadata": {},
   "outputs": [
    {
     "name": "stdout",
     "output_type": "stream",
     "text": [
      "6\n"
     ]
    }
   ],
   "source": [
    "print(july.weekday())"
   ]
  },
  {
   "cell_type": "code",
   "execution_count": 30,
   "id": "af34d896-1bc1-4404-ab3e-9b8efe603d7a",
   "metadata": {},
   "outputs": [],
   "source": [
    "import random"
   ]
  },
  {
   "cell_type": "code",
   "execution_count": 31,
   "id": "89d0077f-1925-44b2-b76e-949df2a99720",
   "metadata": {},
   "outputs": [
    {
     "name": "stdout",
     "output_type": "stream",
     "text": [
      "0.26126783762070604\n"
     ]
    }
   ],
   "source": [
    "print(random.random())"
   ]
  },
  {
   "cell_type": "code",
   "execution_count": 32,
   "id": "0d467ccb-1367-4f6d-b4e4-ecd38a0ac0c7",
   "metadata": {},
   "outputs": [
    {
     "name": "stdout",
     "output_type": "stream",
     "text": [
      "4\n",
      "18\n",
      "5\n",
      "8\n",
      "38\n",
      "17\n"
     ]
    }
   ],
   "source": [
    "for i in range(6):\n",
    "    print(random.randrange(1, 46))"
   ]
  },
  {
   "cell_type": "code",
   "execution_count": 64,
   "id": "318a5e59-4cdb-4612-b042-7da6284bcf92",
   "metadata": {},
   "outputs": [
    {
     "name": "stdout",
     "output_type": "stream",
     "text": [
      "6233\n"
     ]
    }
   ],
   "source": [
    "# 중복없이 4자리수(1000~9999)를 생성하는 코드를 작성하시오\n",
    "number = random.randrange(1000,10000)\n",
    "# number를 중복검사한다.\n",
    "# 한 자리씩 잘라서 리스트에 넣고 다음 수로 비교하기\n",
    "print(number)"
   ]
  },
  {
   "cell_type": "code",
   "execution_count": 65,
   "id": "061c66d9-9b95-4e92-b46c-1cab5dd4218c",
   "metadata": {},
   "outputs": [
    {
     "name": "stdout",
     "output_type": "stream",
     "text": [
      "1489\n"
     ]
    }
   ],
   "source": [
    "while True:\n",
    "    number = random.randrange(1000,10000)\n",
    "    # set이라는 컬렉션이 있음\n",
    "    # 순서가 없고 중복을 허락하지 않는 데이터 집합\n",
    "    temp = str(number)\n",
    "    temp = set(list(temp))\n",
    "    if len(temp)==4:\n",
    "        print(number)\n",
    "        break"
   ]
  },
  {
   "cell_type": "code",
   "execution_count": 66,
   "id": "4b24f52a-76a9-4bbc-a210-ae0bb013c24f",
   "metadata": {},
   "outputs": [
    {
     "name": "stdout",
     "output_type": "stream",
     "text": [
      "{'4', '5', '1', '8'}\n"
     ]
    }
   ],
   "source": [
    "number = set(list('8541'))\n",
    "print(number)"
   ]
  },
  {
   "cell_type": "code",
   "execution_count": 67,
   "id": "30a93d78-e410-4e1e-aa16-55be93c8afcf",
   "metadata": {},
   "outputs": [
    {
     "name": "stdout",
     "output_type": "stream",
     "text": [
      "{1, 2}\n"
     ]
    }
   ],
   "source": [
    "test = set([1, 1, 2])\n",
    "print(test)"
   ]
  },
  {
   "cell_type": "code",
   "execution_count": 68,
   "id": "1e39ff05-677e-418b-99d9-3ebbc0adc7b1",
   "metadata": {},
   "outputs": [
    {
     "name": "stdout",
     "output_type": "stream",
     "text": [
      "{'o', 'h', 'e', 'l'}\n"
     ]
    }
   ],
   "source": [
    "test = set(list('hello'))\n",
    "print(test)"
   ]
  },
  {
   "cell_type": "code",
   "execution_count": 69,
   "id": "1db5ff99-c189-4cf5-ab31-32f34a59e388",
   "metadata": {},
   "outputs": [
    {
     "name": "stdout",
     "output_type": "stream",
     "text": [
      "['0', '1', '2', '3', '4', '5', '6', '7', '8', '9']\n",
      "6\n",
      "['0', '1', '2', '3', '4', '5', '7', '8', '9']\n"
     ]
    }
   ],
   "source": [
    "numbers = list('0123456789')\n",
    "print(numbers)\n",
    "index = random.randrange(1, 10)\n",
    "print(numbers[index])\n",
    "del numbers[index]\n",
    "print(numbers)"
   ]
  },
  {
   "cell_type": "code",
   "execution_count": null,
   "id": "2ada7eea-3169-4bc6-831a-b6a74adc429e",
   "metadata": {},
   "outputs": [],
   "source": []
  }
 ],
 "metadata": {
  "kernelspec": {
   "display_name": "Python 3 (ipykernel)",
   "language": "python",
   "name": "python3"
  },
  "language_info": {
   "codemirror_mode": {
    "name": "ipython",
    "version": 3
   },
   "file_extension": ".py",
   "mimetype": "text/x-python",
   "name": "python",
   "nbconvert_exporter": "python",
   "pygments_lexer": "ipython3",
   "version": "3.10.11"
  }
 },
 "nbformat": 4,
 "nbformat_minor": 5
}
