{
 "cells": [
  {
   "cell_type": "code",
   "execution_count": 8,
   "id": "642b4bd8-63fc-4631-8227-690a4b6391ff",
   "metadata": {},
   "outputs": [
    {
     "name": "stdin",
     "output_type": "stream",
     "text": [
      "월을 입력하세요 :  5\n"
     ]
    },
    {
     "name": "stdout",
     "output_type": "stream",
     "text": [
      "\t\t2024년 5 월\n",
      "일\t월\t화\t수\t목\t금\t토\n",
      "\t\t\t1\t2\t3\t4\t\n",
      "5\t6\t7\t8\t9\t10\t11\t\n",
      "12\t13\t14\t15\t16\t17\t18\t\n",
      "19\t20\t21\t22\t23\t24\t25\t\n",
      "26\t27\t28\t29\t30\t31\t"
     ]
    }
   ],
   "source": [
    "# mon은 사용자에게서 정수로 입력 받는다.\n",
    "mon = int(input('월을 입력하세요 : '))\n",
    "# year은 2024로 초기값\n",
    "year = 2024\n",
    "# lastDays는 배열의 순서대로 초기값 설정해 준다.\n",
    "lastDays = [31, 28, 31, 30, 31, 30, 31, 31, 30, 31, 30, 31]\n",
    "# 만약 mon이 2라면\n",
    "if mon==2:\n",
    "    # 만약 year이 400으로 나누었을 때 나머지가 0이거나 year을 4로 나누었을 때 0이고 100으로 나누었을 때 0이 아니면\n",
    "    if year%400==0 or (year%4==0 and year%100!=0):\n",
    "        # lastDays에 1번째 배열의 값이 29이다.\n",
    "        lastDays[1] = 29\n",
    "# spaces의 배열의 순서대로 초기값을 설정해 준다.\n",
    "spaces = [1, 4, 5, 1, 3, 6, 1, 4, 0, 2, 5, 0]\n",
    "# space는 spaces에 mon-1번째의 배열을 갖는다?\n",
    "space=spaces[mon-1]\n",
    "# lastDay는 lastDays의 mon-1번째의 배열을 갖는다?\n",
    "lastDay=lastDays[mon-1]\n",
    "\n",
    "# 탭탭2024년 사용자에게 입력받은 mon 월 출력\n",
    "print('\\t\\t2024년', mon, '월')\n",
    "# 일 월 화 수 목 금 토 출력 중간에 탭으로 간격 벌리기\n",
    "print('일', '월', '화', '수', '목', '금','토', sep='\\t')\n",
    "\n",
    "# day는 1로 초기값을 갖고\n",
    "day=1\n",
    "# 반복할 횟수 space를 설정하고\n",
    "for i in range(space):\n",
    "    # 탭을 반복 실행 마지막은 빈칸 출력\n",
    "    print('\\t', end='')\n",
    "# 반복할 횟수 lastDay를 설정하고 \n",
    "for i in range(lastDay):\n",
    "    # day를 반복 실행 마지막은 탭 출력\n",
    "    print(day, end='\\t')\n",
    "    # 만약 space+day를 더해서 7로 나누었을 때 나머지가 0이면\n",
    "    if (space+day)%7==0:\n",
    "        # 출력한다.\n",
    "        print()\n",
    "    # day는 day에 1씩 더해준다.\n",
    "    day=day+1"
   ]
  },
  {
   "cell_type": "code",
   "execution_count": 12,
   "id": "b564a150-9465-49bb-8d58-3f93c3397146",
   "metadata": {},
   "outputs": [
    {
     "name": "stdin",
     "output_type": "stream",
     "text": [
      "월을 입력하세요 :  5\n"
     ]
    },
    {
     "name": "stdout",
     "output_type": "stream",
     "text": [
      "\n",
      "\t\t2024년 5 월\n",
      "\n",
      "일\t월\t화\t수\t목\t금\t토\n",
      "\t\t\t1\t2\t3\t4\t\n",
      "5\t6\t7\t8\t9\t10\t11\t\n",
      "12\t13\t14\t15\t16\t17\t18\t\n",
      "19\t20\t21\t22\t23\t24\t25\t\n",
      "26\t27\t28\t29\t30\t31\t"
     ]
    }
   ],
   "source": [
    "# 시\n",
    "# mon은 사용자에게서 정수로 입력 받는다.\n",
    "mon = int(input('월을 입력하세요 : '))\n",
    "# year은 2024로 초기값\n",
    "year = 2024\n",
    "# lastDays는 배열의 순서대로(31, 28, 31, 30, 31, 30, 31, 31, 30, 31, 30, 31) 초기값 설정해 준다.\n",
    "lastDays = [31, 28, 31, 30, 31, 30, 31, 31, 30, 31, 30, 31]\n",
    "# 만약 mon이 2라면\n",
    "if mon == 2:\n",
    "    # 만약 year이 400으로 나누었을 때 나머지가 0이거나 year을 4로 나누었을 때 0이고 100으로 나누었을 때 0이 아니면\n",
    "    if year%400 == 0 or (year%4==0 and year%100==0):\n",
    "        # lastDays에 1번째 배열의 값이 29이다.\n",
    "        lastDays[1] = 29\n",
    "# spaces의 배열의 순서대로(1, 4, 5, 1, 3, 6, 1, 4, 0, 2, 5, 0) 초기값을 설정해 준다.\n",
    "spaces = [1, 4, 5, 1, 3, 6, 1, 4, 0, 2, 5, 0]\n",
    "# space는 spaces에 mon-1번째의 배열을 갖는다?\n",
    "space = spaces[mon-1]\n",
    "# lastDay는 lastDays의 mon-1번째의 배열을 갖는다?\n",
    "lastDay = lastDays[mon-1]\n",
    "\n",
    "# 탭탭2024년 사용자에게 입력받은 mon 월 출력\n",
    "print('\\n\\t\\t2024년', mon, '월\\n')\n",
    "# 일 월 화 수 목 금 토 출력 중간에 탭으로 간격 벌리기\n",
    "print('일', '월', '화', '수', '목', '금', '토', sep='\\t')\n",
    "# day는 1로 초기값을 갖고\n",
    "day = 1\n",
    "# 반복할 횟수 space를 설정하고\n",
    "for i in range(space):\n",
    "    # 탭을 반복 실행 마지막은 빈칸 출력\n",
    "    print('\\t', end='')\n",
    "# 반복할 횟수 lastDay를 설정하고 \n",
    "for i in range(lastDay):\n",
    "    # day를 반복 실행 마지막은 탭 출력\n",
    "    print(day, end='\\t')\n",
    "    # 만약 space+day를 더해서 7로 나누었을 때 나머지가 0이면\n",
    "    if (space+day)%7==0:\n",
    "        # 출력한다.\n",
    "        print()\n",
    "    # day는 day에 1씩 더해준다.\n",
    "    day = day + 1"
   ]
  },
  {
   "cell_type": "code",
   "execution_count": 82,
   "id": "5be53d03-8794-4aba-a4ae-0fab6d49fbc1",
   "metadata": {},
   "outputs": [
    {
     "name": "stdin",
     "output_type": "stream",
     "text": [
      "월을 입력하세요>>> 9\n"
     ]
    },
    {
     "name": "stdout",
     "output_type": "stream",
     "text": [
      "\t\t2024년 9 월\n",
      "일\t월\t화\t수\t목\t금\t토\n",
      "1\t2\t3\t4\t5\t6\t7\t\n",
      "8\t9\t10\t11\t12\t13\t14\t\n",
      "15\t16\t17\t18\t19\t20\t21\t\n",
      "22\t23\t24\t25\t26\t27\t28\t\n",
      "29\t30\t"
     ]
    }
   ],
   "source": [
    "mon=int(input('월을 입력하세요>>>'))\n",
    "year=2024\n",
    "\n",
    "lastDays=[31, 28, 31, 30, 31, 30, 31, 31, 30, 31, 30, 31]\n",
    "if mon==2:\n",
    "    if year%400==0 or (year%4==0 and year%100!=0):\n",
    "        lastDays[1]=29\n",
    "spaces = [1, 4, 5, 1, 3, 6, 1, 4, 0, 2, 5, 0]\n",
    "space = spaces[mon-1]\n",
    "lastDay=lastDays[mon-1]\n",
    "\n",
    "print('\\t\\t2024년', mon, '월')\n",
    "print('일', '월', '화', '수', '목', '금','토', sep='\\t')\n",
    "\n",
    "day=1\n",
    "for i in range(space):\n",
    "    print('\\t', end='')\n",
    "for i in range(lastDay):\n",
    "    print(day, end='\\t')\n",
    "    if (space+day)%7==0:\n",
    "        print()\n",
    "    day=day+1"
   ]
  },
  {
   "cell_type": "code",
   "execution_count": 29,
   "id": "fc9e41da-523b-4ce9-a967-185f50d959d1",
   "metadata": {},
   "outputs": [
    {
     "name": "stdin",
     "output_type": "stream",
     "text": [
      "월을 입력하세요>>> 9\n"
     ]
    },
    {
     "name": "stdout",
     "output_type": "stream",
     "text": [
      "\t\t2024년 9 월\n",
      "일\t월\t화\t수\t목\t금\t토\n",
      "1\t2\t3\t4\t5\t6\t7\t\n",
      "8\t9\t10\t11\t12\t13\t14\t\n",
      "15\t16\t17\t18\t19\t20\t21\t\n",
      "22\t23\t24\t25\t26\t27\t28\t\n",
      "29\t30\t"
     ]
    }
   ],
   "source": [
    "from datetime import datetime\n",
    "mon=int(input('월을 입력하세요>>>'))\n",
    "year=2024\n",
    "# 빈칸 정보를 얻기위해 datetime모듈의 datetime 객체 사용\n",
    "now = datetime(year, mon, 1)\n",
    "\n",
    "lastDays=[31, 28, 31, 30, 31, 30, 31, 31, 30, 31, 30, 31]\n",
    "if mon==2:\n",
    "    if year%400==0 or (year%4==0 and year%100!=0):\n",
    "        lastDays[1]=29\n",
    "# 요일 정보와 빈칸정보의 비교를 통해서 +1을 하면 빈칸 데이터가 나옴\n",
    "space=(now.weekday()+1)%7\n",
    "lastDay=lastDays[mon-1]\n",
    "\n",
    "print('\\t\\t2024년', mon, '월')\n",
    "print('일', '월', '화', '수', '목', '금','토', sep='\\t')\n",
    "\n",
    "day=1\n",
    "for i in range(space):\n",
    "    print('\\t', end='')\n",
    "for i in range(lastDay):\n",
    "    print(day, end='\\t')\n",
    "    if (space+day)%7==0:\n",
    "        print()\n",
    "    day=day+1"
   ]
  },
  {
   "cell_type": "code",
   "execution_count": 13,
   "id": "22f6d6bf-919a-452d-8eba-e90ca6c2af99",
   "metadata": {},
   "outputs": [],
   "source": [
    "import datetime"
   ]
  },
  {
   "cell_type": "code",
   "execution_count": 14,
   "id": "41f2e975-6943-47b3-a869-bbf369045634",
   "metadata": {},
   "outputs": [
    {
     "name": "stdout",
     "output_type": "stream",
     "text": [
      "2024-07-04 11:08:13.863743\n"
     ]
    }
   ],
   "source": [
    "now = datetime.datetime.today()\n",
    "print(now)"
   ]
  },
  {
   "cell_type": "code",
   "execution_count": 15,
   "id": "d715b0e0-9475-4ee1-b939-7a00dbf55658",
   "metadata": {},
   "outputs": [
    {
     "data": {
      "text/plain": [
       "4"
      ]
     },
     "execution_count": 15,
     "metadata": {},
     "output_type": "execute_result"
    }
   ],
   "source": [
    "now.day"
   ]
  },
  {
   "cell_type": "code",
   "execution_count": 16,
   "id": "3502a80d-338f-4ed6-8f7b-0131fd4d6cbc",
   "metadata": {},
   "outputs": [
    {
     "data": {
      "text/plain": [
       "7"
      ]
     },
     "execution_count": 16,
     "metadata": {},
     "output_type": "execute_result"
    }
   ],
   "source": [
    "now.month"
   ]
  },
  {
   "cell_type": "code",
   "execution_count": 17,
   "id": "52182f0c-73b4-40e0-ab58-75ab5203b7f7",
   "metadata": {},
   "outputs": [
    {
     "data": {
      "text/plain": [
       "3"
      ]
     },
     "execution_count": 17,
     "metadata": {},
     "output_type": "execute_result"
    }
   ],
   "source": [
    "now.weekday()"
   ]
  },
  {
   "cell_type": "code",
   "execution_count": 21,
   "id": "1c41d6b5-7eab-4256-8b38-dc5beb8a435a",
   "metadata": {},
   "outputs": [],
   "source": [
    "july = datetime.datetime(2024,9,1)"
   ]
  },
  {
   "cell_type": "code",
   "execution_count": 22,
   "id": "e2ce0b08-509c-400f-8430-85bd3ce55aaa",
   "metadata": {},
   "outputs": [
    {
     "name": "stdout",
     "output_type": "stream",
     "text": [
      "6\n"
     ]
    }
   ],
   "source": [
    "print(july.weekday())"
   ]
  },
  {
   "cell_type": "code",
   "execution_count": 30,
   "id": "af34d896-1bc1-4404-ab3e-9b8efe603d7a",
   "metadata": {},
   "outputs": [],
   "source": [
    "import random"
   ]
  },
  {
   "cell_type": "code",
   "execution_count": 31,
   "id": "89d0077f-1925-44b2-b76e-949df2a99720",
   "metadata": {},
   "outputs": [
    {
     "name": "stdout",
     "output_type": "stream",
     "text": [
      "0.26126783762070604\n"
     ]
    }
   ],
   "source": [
    "print(random.random())"
   ]
  },
  {
   "cell_type": "code",
   "execution_count": 32,
   "id": "0d467ccb-1367-4f6d-b4e4-ecd38a0ac0c7",
   "metadata": {},
   "outputs": [
    {
     "name": "stdout",
     "output_type": "stream",
     "text": [
      "4\n",
      "18\n",
      "5\n",
      "8\n",
      "38\n",
      "17\n"
     ]
    }
   ],
   "source": [
    "for i in range(6):\n",
    "    print(random.randrange(1, 46))"
   ]
  },
  {
   "cell_type": "code",
   "execution_count": 64,
   "id": "318a5e59-4cdb-4612-b042-7da6284bcf92",
   "metadata": {},
   "outputs": [
    {
     "name": "stdout",
     "output_type": "stream",
     "text": [
      "6233\n"
     ]
    }
   ],
   "source": [
    "# 중복없이 4자리수(1000~9999)를 생성하는 코드를 작성하시오\n",
    "number = random.randrange(1000,10000)\n",
    "# number를 중복검사한다.\n",
    "# 한 자리씩 잘라서 리스트에 넣고 다음 수로 비교하기\n",
    "print(number)"
   ]
  },
  {
   "cell_type": "code",
   "execution_count": 65,
   "id": "061c66d9-9b95-4e92-b46c-1cab5dd4218c",
   "metadata": {},
   "outputs": [
    {
     "name": "stdout",
     "output_type": "stream",
     "text": [
      "1489\n"
     ]
    }
   ],
   "source": [
    "while True:\n",
    "    number = random.randrange(1000,10000)\n",
    "    # set이라는 컬렉션이 있음\n",
    "    # 순서가 없고 중복을 허락하지 않는 데이터 집합\n",
    "    temp = str(number)\n",
    "    temp = set(list(temp))\n",
    "    if len(temp)==4:\n",
    "        print(number)\n",
    "        break"
   ]
  },
  {
   "cell_type": "code",
   "execution_count": 66,
   "id": "4b24f52a-76a9-4bbc-a210-ae0bb013c24f",
   "metadata": {},
   "outputs": [
    {
     "name": "stdout",
     "output_type": "stream",
     "text": [
      "{'4', '5', '1', '8'}\n"
     ]
    }
   ],
   "source": [
    "number = set(list('8541'))\n",
    "print(number)"
   ]
  },
  {
   "cell_type": "code",
   "execution_count": 67,
   "id": "30a93d78-e410-4e1e-aa16-55be93c8afcf",
   "metadata": {},
   "outputs": [
    {
     "name": "stdout",
     "output_type": "stream",
     "text": [
      "{1, 2}\n"
     ]
    }
   ],
   "source": [
    "test = set([1, 1, 2])\n",
    "print(test)"
   ]
  },
  {
   "cell_type": "code",
   "execution_count": 68,
   "id": "1e39ff05-677e-418b-99d9-3ebbc0adc7b1",
   "metadata": {},
   "outputs": [
    {
     "name": "stdout",
     "output_type": "stream",
     "text": [
      "{'o', 'h', 'e', 'l'}\n"
     ]
    }
   ],
   "source": [
    "test = set(list('hello'))\n",
    "print(test)"
   ]
  },
  {
   "cell_type": "code",
   "execution_count": 69,
   "id": "1db5ff99-c189-4cf5-ab31-32f34a59e388",
   "metadata": {},
   "outputs": [
    {
     "name": "stdout",
     "output_type": "stream",
     "text": [
      "['0', '1', '2', '3', '4', '5', '6', '7', '8', '9']\n",
      "6\n",
      "['0', '1', '2', '3', '4', '5', '7', '8', '9']\n"
     ]
    }
   ],
   "source": [
    "numbers = list('0123456789')\n",
    "print(numbers)\n",
    "index = random.randrange(1, 10)\n",
    "print(numbers[index])\n",
    "del numbers[index]\n",
    "print(numbers)"
   ]
  },
  {
   "cell_type": "code",
   "execution_count": 70,
   "id": "2ada7eea-3169-4bc6-831a-b6a74adc429e",
   "metadata": {},
   "outputs": [],
   "source": [
    "def hello():\n",
    "    print('a')\n",
    "\n",
    "    pass"
   ]
  },
  {
   "cell_type": "code",
   "execution_count": 71,
   "id": "aa9cc876-d44d-44a3-823d-cd984d0ec513",
   "metadata": {},
   "outputs": [],
   "source": [
    "def a():\n",
    "    print('aa')"
   ]
  },
  {
   "cell_type": "code",
   "execution_count": 72,
   "id": "d46cb53a-32cb-491c-87d5-d6750341b73d",
   "metadata": {},
   "outputs": [],
   "source": [
    "def add(a,b):    # 파라미터, 가인수, 매개변수\n",
    "    print(a+b)\n",
    "    pass"
   ]
  },
  {
   "cell_type": "code",
   "execution_count": 73,
   "id": "30fc1362-23f6-4d9c-ab27-a2ed9fe4d135",
   "metadata": {},
   "outputs": [
    {
     "name": "stdout",
     "output_type": "stream",
     "text": [
      "3\n"
     ]
    }
   ],
   "source": [
    "add(1, 2)  # 아큐먼트, 실인수, 매개변수"
   ]
  },
  {
   "cell_type": "code",
   "execution_count": 74,
   "id": "13cbb707-4255-44c0-9de5-dad6a1fcded5",
   "metadata": {},
   "outputs": [],
   "source": [
    "def plus(a,b):\n",
    "    return a+b\n",
    "    c = a + b"
   ]
  },
  {
   "cell_type": "code",
   "execution_count": 75,
   "id": "008978ee-4678-4a39-9d2d-84f2ec221293",
   "metadata": {},
   "outputs": [],
   "source": [
    "result = plus(1, 2)"
   ]
  },
  {
   "cell_type": "code",
   "execution_count": 76,
   "id": "4e7726d4-5a92-4e8d-a16f-f17cab480627",
   "metadata": {},
   "outputs": [
    {
     "name": "stdout",
     "output_type": "stream",
     "text": [
      "3\n"
     ]
    }
   ],
   "source": [
    "print(result)"
   ]
  },
  {
   "cell_type": "code",
   "execution_count": 77,
   "id": "3a43f501-0920-43d3-85e5-b3e248f43e9e",
   "metadata": {},
   "outputs": [],
   "source": [
    "def mul(a, b):\n",
    "    c = a * b\n",
    "    return c"
   ]
  },
  {
   "cell_type": "code",
   "execution_count": 78,
   "id": "91e3dd69-85a8-46b2-ae7a-11a4eb6bfd64",
   "metadata": {},
   "outputs": [],
   "source": [
    "def add(a, b):\n",
    "    c = a + b\n",
    "    print(c)\n",
    "    d = mul(a, b)\n",
    "    print(d)"
   ]
  },
  {
   "cell_type": "code",
   "execution_count": 79,
   "id": "a2eed0d7-c1d5-4407-9006-bd5dfaa8bbda",
   "metadata": {},
   "outputs": [
    {
     "name": "stdout",
     "output_type": "stream",
     "text": [
      "30\n",
      "200\n"
     ]
    }
   ],
   "source": [
    "x = 10\n",
    "y = 20\n",
    "add(x, y)"
   ]
  },
  {
   "cell_type": "code",
   "execution_count": 80,
   "id": "0ba1825d-9d8f-48af-b365-29ea52bb3820",
   "metadata": {},
   "outputs": [
    {
     "name": "stdout",
     "output_type": "stream",
     "text": [
      "몫: 3, 나머지: 1\n"
     ]
    }
   ],
   "source": [
    "x = 10\n",
    "y = 3\n",
    "def get_quotient_remainder(a,b):\n",
    "    return a // b, a % b\n",
    "\n",
    "quotient, remainder = get_quotient_remainder(x, y)\n",
    "print('몫: {0}, 나머지: {1}'.format(quotient, remainder))"
   ]
  },
  {
   "cell_type": "code",
   "execution_count": 84,
   "id": "71950f68-90a2-4494-a1aa-534cb23326c5",
   "metadata": {},
   "outputs": [],
   "source": [
    "# 달력을 출력하는 코드를 함수로 작성하시오\n",
    "# 정보처리기사 문제풀이 코드를 함수로 작성하시오"
   ]
  },
  {
   "cell_type": "code",
   "execution_count": 83,
   "id": "9069641f-ee2d-40e7-819f-afc1625cccf7",
   "metadata": {},
   "outputs": [
    {
     "name": "stdin",
     "output_type": "stream",
     "text": [
      "월을 입력하세요>>> 5\n"
     ]
    },
    {
     "name": "stdout",
     "output_type": "stream",
     "text": [
      "\t\t2024년 5 월\n",
      "일\t월\t화\t수\t목\t금\t토\n",
      "\t\t\t1\t2\t3\t4\t\n",
      "5\t6\t7\t8\t9\t10\t11\t\n",
      "12\t13\t14\t15\t16\t17\t18\t\n",
      "19\t20\t21\t22\t23\t24\t25\t\n",
      "26\t27\t28\t29\t30\t31\t"
     ]
    }
   ],
   "source": [
    "# 달력을 출력하는 코드를 함수로 작성하시오\n",
    "def date():\n",
    "    mon=int(input('월을 입력하세요>>>'))\n",
    "    year=2024\n",
    "    \n",
    "    lastDays=[31, 28, 31, 30, 31, 30, 31, 31, 30, 31, 30, 31]\n",
    "    if mon==2:\n",
    "        if year%400==0 or (year%4==0 and year%100!=0):\n",
    "            lastDays[1]=29\n",
    "    spaces = [1, 4, 5, 1, 3, 6, 1, 4, 0, 2, 5, 0]\n",
    "    space = spaces[mon-1]\n",
    "    lastDay=lastDays[mon-1]\n",
    "    \n",
    "    print('\\t\\t2024년', mon, '월')\n",
    "    print('일', '월', '화', '수', '목', '금','토', sep='\\t')\n",
    "    \n",
    "    day=1\n",
    "    for i in range(space):\n",
    "        print('\\t', end='')\n",
    "    for i in range(lastDay):\n",
    "        print(day, end='\\t')\n",
    "        if (space+day)%7==0:\n",
    "            print()\n",
    "        day=day+1\n",
    "\n",
    "# date()\n",
    "\n",
    "# 정보처리기사 문제풀이 코드를 함수로 작성하시오\n",
    "# 정처기 1번\n",
    "\n",
    "\n",
    "# 정처기 2번\n",
    "def quiz2Max():\n",
    "    quiz2Max = 0\n",
    "    for student in data:\n",
    "        quiz2Temp = student[2]+student[3]\n",
    "        if student[10]=='B':\n",
    "            if quiz2Max < quiz2Temp:\n",
    "                quiz2Max = quiz2Temp    \n",
    "    print(quiz2Max)\n",
    "\n",
    "# quiz2Max()\n",
    "\n",
    "def quiz2Min():\n",
    "    quiz2Min = data[0][2]+data[0][3] #\n",
    "    for student in data[1:]:\n",
    "        quiz2Temp = student[2]+student[3]\n",
    "        if student[10]=='B':\n",
    "            if quiz2Min > quiz2Temp:\n",
    "                quiz2Min = quiz2Temp          \n",
    "    print(quiz2Min)\n",
    "\n",
    "# quiz2Min()\n",
    "\n",
    "# 정처기 3번\n",
    "def quiz3():\n",
    "    quiz3Answer = 0\n",
    "    count = 0\n",
    "    for student in data:\n",
    "        #영어+수학점수 120 이상자료\n",
    "        if student[3]+student[4] >= 120:\n",
    "            count = count + 1\n",
    "            # 총점+점수포인트\n",
    "            point = 5\n",
    "            if student[9]=='B':\n",
    "                point = 15\n",
    "            elif student[9]=='C':\n",
    "                point = 20\n",
    "            quiz3Answer = quiz3Answer + (student[7]+point)\n",
    "        pass\n",
    "    print(quiz3Answer,count)\n",
    "\n",
    "quiz3()\n",
    "\n",
    "# 정처기 4번\n",
    "def quiz4():\n",
    "    "
   ]
  },
  {
   "cell_type": "code",
   "execution_count": 90,
   "id": "e5faa821-afe3-4ed9-8832-cbc26d8763b5",
   "metadata": {},
   "outputs": [],
   "source": [
    "from datetime import datetime\n",
    "\n",
    "def viewCalendar(year, mon):\n",
    "    # 빈칸 정보를 얻기위해 datetime모듈의 datetime 객체 사용\n",
    "    now = datetime(year, mon, 1)\n",
    "    \n",
    "    lastDays=[31, 28, 31, 30, 31, 30, 31, 31, 30, 31, 30, 31]\n",
    "    if mon==2:\n",
    "        if year%400==0 or (year%4==0 and year%100!=0):\n",
    "            lastDays[1]=29\n",
    "    # 요일 정보와 빈칸정보의 비교를 통해서 +1을 하면 빈칸 데이터가 나옴\n",
    "    space=(now.weekday()+1)%7\n",
    "    lastDay=lastDays[mon-1]\n",
    "    \n",
    "    print('\\t\\t', year, '년', mon, '월')\n",
    "    print('일', '월', '화', '수', '목', '금','토', sep='\\t')\n",
    "    \n",
    "    day=1\n",
    "    for i in range(space):\n",
    "        print('\\t', end='')\n",
    "    for i in range(lastDay):\n",
    "        print(day, end='\\t')\n",
    "        if (space+day)%7==0:\n",
    "            print()\n",
    "        day=day+1"
   ]
  },
  {
   "cell_type": "code",
   "execution_count": 91,
   "id": "bb352e14-822a-48b8-94a3-29f016b22630",
   "metadata": {},
   "outputs": [
    {
     "name": "stdin",
     "output_type": "stream",
     "text": [
      "년을 입력하세요>>> 2002\n",
      "월을 입력하세요>>> 12\n"
     ]
    },
    {
     "name": "stdout",
     "output_type": "stream",
     "text": [
      "\t\t 2002 년 12 월\n",
      "일\t월\t화\t수\t목\t금\t토\n",
      "1\t2\t3\t4\t5\t6\t7\t\n",
      "8\t9\t10\t11\t12\t13\t14\t\n",
      "15\t16\t17\t18\t19\t20\t21\t\n",
      "22\t23\t24\t25\t26\t27\t28\t\n",
      "29\t30\t31\t"
     ]
    }
   ],
   "source": [
    "year=int(input('년을 입력하세요>>>'))\n",
    "mon=int(input('월을 입력하세요>>>'))\n",
    "viewCalendar(year, mon)"
   ]
  },
  {
   "cell_type": "code",
   "execution_count": 105,
   "id": "e115a376-464d-4e7c-bd9b-e5e8d29173dd",
   "metadata": {},
   "outputs": [],
   "source": [
    "def makeDataFromFile(fileDir,fileName):\n",
    "    students = []\n",
    "    with open(fileDir+'\\\\'+fileName,'r') as file:\n",
    "        #1-1. 파일안의 컨텐츠에 연결하여 모든 라인을 가져온다.\n",
    "        lines = file.readlines()\n",
    "    for line in lines:\n",
    "        student = []\n",
    "        # 3.가져온 한줄을 분리한다.(콤마로 분리)\n",
    "        temp = line[:-1].split(',')\n",
    "        # 4.분리된 데이터를 타입에 맞추어 분리한다\n",
    "        stdNo = int(temp[0])\n",
    "        student.append(stdNo)\n",
    "        student.append(temp[1])\n",
    "        for ele in temp[2:8]:\n",
    "            val = int(ele)\n",
    "            student.append(val)\n",
    "        # 5.분리한 데이터를 리스트에 저장한다.\n",
    "        for ele in temp[8:]:\n",
    "            student.append(ele)\n",
    "        # 6.리스트를 리스트에 저장한다.\n",
    "        students.append(student)\n",
    "    return students"
   ]
  },
  {
   "cell_type": "code",
   "execution_count": 106,
   "id": "a63be68c-0277-4394-996b-1622d11fea02",
   "metadata": {},
   "outputs": [],
   "source": [
    "def solveQuiz1():\n",
    "    data = makeDataFromFile('.\\data','Abc1115.csv')\n",
    "    quiz1Data = [] #정렬의 대상을 저장할 리스트\n",
    "    for temp in data:\n",
    "    #지역코드가 B인 데이터를 quiz1Data에 저장하시오.\n",
    "        if temp[10] == 'B':\n",
    "            temp.append(temp[2]+temp[3])\n",
    "            quiz1Data.append(temp)\n",
    "        pass\n",
    "    for index,_ in enumerate(quiz1Data[:-1]):\n",
    "        for idx,value in enumerate(quiz1Data[index+1:]):\n",
    "            number = quiz1Data[index][-1]\n",
    "            if number < value[-1]:\n",
    "                temp = quiz1Data[index] #number\n",
    "                quiz1Data[index] = value #i\n",
    "                quiz1Data[idx+(index+1)] = temp\n",
    "                #break\n",
    "            #print(idx,i)\n",
    "            elif number == value[-1]:\n",
    "                # 점수가 같을 경우 학번을 오름차순으로 정렬하기\n",
    "                number = quiz1Data[index][0]\n",
    "                if number > value[0]:\n",
    "                    temp = quiz1Data[index] #number\n",
    "                    quiz1Data[index] = value #i\n",
    "                    quiz1Data[idx+(index+1)] = temp\n",
    "                pass\n",
    "                \n",
    "            pass\n",
    "\n",
    "    for student in quiz1Data[10:20]:\n",
    "        print(student)\n",
    "    pass"
   ]
  },
  {
   "cell_type": "code",
   "execution_count": 94,
   "id": "9ad01c69-83e4-400a-999a-cb7f2e7c4285",
   "metadata": {},
   "outputs": [],
   "source": [
    "def solveQuiz2():\n",
    "    student = makeDataFromFile('.\\data', 'Abxc1115.csv')\n",
    "    pass"
   ]
  },
  {
   "cell_type": "code",
   "execution_count": 96,
   "id": "ef4e62be-e437-49c8-a1cb-db1ca755d423",
   "metadata": {},
   "outputs": [],
   "source": [
    "def solveQuiz3():\n",
    "    student = makeDataFromFile('.\\data', 'Abxc1115.csv')\n",
    "    pass"
   ]
  },
  {
   "cell_type": "code",
   "execution_count": 108,
   "id": "21396d84-abb8-4d6e-8eb4-13adc33435b2",
   "metadata": {},
   "outputs": [],
   "source": [
    "# 테스트 코드\n",
    "def solveQuiz4():\n",
    "    students = makeDataFromFile('.\\data','Abc1115.csv')\n",
    "    print(len(students))\n",
    "    for student in students[:5]:\n",
    "        print(student)\n",
    "    pass"
   ]
  },
  {
   "cell_type": "code",
   "execution_count": 107,
   "id": "50118b85-1a2d-4101-b485-0a222a7b0947",
   "metadata": {},
   "outputs": [
    {
     "name": "stdout",
     "output_type": "stream",
     "text": [
      "[990631, 'jude', 91, 73, 43, 82, 87, 376, 'B', 'C', 'B', 164]\n",
      "[990747, 'teak', 67, 96, 84, 50, 47, 344, 'C', 'B', 'B', 163]\n",
      "[990891, 'kimd', 99, 64, 70, 84, 30, 347, 'A', 'C', 'B', 163]\n",
      "[990935, 'miss', 94, 67, 24, 33, 38, 256, 'C', 'B', 'B', 161]\n",
      "[990350, 'hjoo', 76, 83, 46, 98, 7, 310, 'B', 'C', 'B', 159]\n",
      "[990470, 'minh', 79, 80, 98, 19, 46, 322, 'C', 'B', 'B', 159]\n",
      "[990023, 'tess', 86, 71, 87, 6, 15, 265, 'B', 'C', 'B', 157]\n",
      "[990217, 'koan', 64, 93, 93, 24, 72, 346, 'B', 'C', 'B', 157]\n",
      "[990418, 'sad9', 87, 66, 88, 18, 92, 351, 'B', 'A', 'B', 153]\n",
      "[990424, 'hysu', 81, 72, 23, 64, 27, 267, 'A', 'B', 'B', 153]\n"
     ]
    }
   ],
   "source": [
    "solveQuiz1()"
   ]
  },
  {
   "cell_type": "code",
   "execution_count": 109,
   "id": "f64f96de-e393-4289-9bd0-cf86a5dfabb0",
   "metadata": {},
   "outputs": [
    {
     "name": "stdout",
     "output_type": "stream",
     "text": [
      "1000\n",
      "[990001, 'addx', 17, 29, 16, 49, 43, 154, 'C', 'A', 'C']\n",
      "[990002, 'stch', 30, 9, 48, 25, 81, 193, 'C', 'A', 'A']\n",
      "[990003, 'gali', 93, 60, 6, 84, 36, 279, 'A', 'C', 'A']\n",
      "[990004, 'miat', 73, 22, 48, 24, 72, 239, 'B', 'C', 'C']\n",
      "[990005, 'oran', 33, 38, 59, 58, 28, 216, 'C', 'B', 'A']\n"
     ]
    }
   ],
   "source": [
    "solveQuiz4()"
   ]
  },
  {
   "cell_type": "code",
   "execution_count": null,
   "id": "b5cb9761-6c12-46d3-94ce-4c1db6df9d87",
   "metadata": {},
   "outputs": [],
   "source": []
  }
 ],
 "metadata": {
  "kernelspec": {
   "display_name": "Python 3 (ipykernel)",
   "language": "python",
   "name": "python3"
  },
  "language_info": {
   "codemirror_mode": {
    "name": "ipython",
    "version": 3
   },
   "file_extension": ".py",
   "mimetype": "text/x-python",
   "name": "python",
   "nbconvert_exporter": "python",
   "pygments_lexer": "ipython3",
   "version": "3.10.11"
  }
 },
 "nbformat": 4,
 "nbformat_minor": 5
}
