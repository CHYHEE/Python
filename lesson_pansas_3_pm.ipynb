{
 "cells": [
  {
   "cell_type": "code",
   "execution_count": 1,
   "id": "688a91e1-fd62-4652-b938-c9c6684117e4",
   "metadata": {},
   "outputs": [],
   "source": [
    "# 결측치(NaN, NA) 처리 - 데이터가 누락되어 있는 것"
   ]
  },
  {
   "cell_type": "code",
   "execution_count": 2,
   "id": "3ba760f6-ad86-4e46-9f3c-6a217ccb137f",
   "metadata": {},
   "outputs": [],
   "source": [
    "import numpy as np"
   ]
  },
  {
   "cell_type": "code",
   "execution_count": 3,
   "id": "3d016da0-4c65-4848-b6c3-0d4a5fd4e53d",
   "metadata": {},
   "outputs": [
    {
     "data": {
      "text/plain": [
       "'2.0.0'"
      ]
     },
     "execution_count": 3,
     "metadata": {},
     "output_type": "execute_result"
    }
   ],
   "source": [
    "np.__version__"
   ]
  },
  {
   "cell_type": "code",
   "execution_count": 4,
   "id": "324148b4-acdf-4cd4-aa88-8dd6ec9e1664",
   "metadata": {},
   "outputs": [],
   "source": [
    "from numpy import nan"
   ]
  },
  {
   "cell_type": "code",
   "execution_count": 7,
   "id": "848d4744-1c02-42eb-ac86-0ac2e6ba3f4c",
   "metadata": {},
   "outputs": [
    {
     "name": "stdout",
     "output_type": "stream",
     "text": [
      "False\n",
      "False\n",
      "False\n",
      "False\n",
      "False\n"
     ]
    }
   ],
   "source": [
    "print(nan==True)\n",
    "print(nan==False)\n",
    "print(nan==0)\n",
    "print(nan=='')\n",
    "print(nan==nan)"
   ]
  },
  {
   "cell_type": "code",
   "execution_count": null,
   "id": "356a6a33-e922-455f-978f-ee57f30aa731",
   "metadata": {},
   "outputs": [],
   "source": []
  }
 ],
 "metadata": {
  "kernelspec": {
   "display_name": "Python 3 (ipykernel)",
   "language": "python",
   "name": "python3"
  },
  "language_info": {
   "codemirror_mode": {
    "name": "ipython",
    "version": 3
   },
   "file_extension": ".py",
   "mimetype": "text/x-python",
   "name": "python",
   "nbconvert_exporter": "python",
   "pygments_lexer": "ipython3",
   "version": "3.10.11"
  }
 },
 "nbformat": 4,
 "nbformat_minor": 5
}
